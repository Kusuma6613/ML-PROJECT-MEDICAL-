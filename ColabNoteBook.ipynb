{
  "cells": [
    {
      "cell_type": "markdown",
      "metadata": {
        "id": "PesrKchrQ55r"
      },
      "source": [
        "**Importing libraries and dataset**\n",
        "\n",
        "\n",
        "\n",
        "\n",
        "\n",
        "\n",
        "\n"
      ]
    },
    {
      "cell_type": "code",
      "execution_count": 7,
      "metadata": {
        "colab": {
          "base_uri": "https://localhost:8080/"
        },
        "id": "F6oSU7ayH6UF",
        "outputId": "96cb821b-ec09-4bef-dcea-0333c88ce7d9"
      },
      "outputs": [
        {
          "output_type": "stream",
          "name": "stdout",
          "text": [
            "Looking in indexes: https://pypi.org/simple, https://us-python.pkg.dev/colab-wheels/public/simple/\n",
            "Collecting gradio\n",
            "  Downloading gradio-3.24.1-py3-none-any.whl (15.7 MB)\n",
            "\u001b[2K     \u001b[90m━━━━━━━━━━━━━━━━━━━━━━━━━━━━━━━━━━━━━━━━\u001b[0m \u001b[32m15.7/15.7 MB\u001b[0m \u001b[31m57.0 MB/s\u001b[0m eta \u001b[36m0:00:00\u001b[0m\n",
            "\u001b[?25hCollecting aiofiles\n",
            "  Downloading aiofiles-23.1.0-py3-none-any.whl (14 kB)\n",
            "Collecting huggingface-hub>=0.13.0\n",
            "  Downloading huggingface_hub-0.13.3-py3-none-any.whl (199 kB)\n",
            "\u001b[2K     \u001b[90m━━━━━━━━━━━━━━━━━━━━━━━━━━━━━━━━━━━━━━\u001b[0m \u001b[32m199.8/199.8 KB\u001b[0m \u001b[31m20.9 MB/s\u001b[0m eta \u001b[36m0:00:00\u001b[0m\n",
            "\u001b[?25hRequirement already satisfied: typing-extensions in /usr/local/lib/python3.9/dist-packages (from gradio) (4.5.0)\n",
            "Requirement already satisfied: markupsafe in /usr/local/lib/python3.9/dist-packages (from gradio) (2.1.2)\n",
            "Collecting fastapi\n",
            "  Downloading fastapi-0.95.0-py3-none-any.whl (57 kB)\n",
            "\u001b[2K     \u001b[90m━━━━━━━━━━━━━━━━━━━━━━━━━━━━━━━━━━━━━━━━\u001b[0m \u001b[32m57.1/57.1 KB\u001b[0m \u001b[31m7.1 MB/s\u001b[0m eta \u001b[36m0:00:00\u001b[0m\n",
            "\u001b[?25hCollecting websockets>=10.0\n",
            "  Downloading websockets-10.4-cp39-cp39-manylinux_2_5_x86_64.manylinux1_x86_64.manylinux_2_17_x86_64.manylinux2014_x86_64.whl (106 kB)\n",
            "\u001b[2K     \u001b[90m━━━━━━━━━━━━━━━━━━━━━━━━━━━━━━━━━━━━━━\u001b[0m \u001b[32m106.5/106.5 KB\u001b[0m \u001b[31m12.4 MB/s\u001b[0m eta \u001b[36m0:00:00\u001b[0m\n",
            "\u001b[?25hRequirement already satisfied: markdown-it-py[linkify]>=2.0.0 in /usr/local/lib/python3.9/dist-packages (from gradio) (2.2.0)\n",
            "Collecting python-multipart\n",
            "  Downloading python_multipart-0.0.6-py3-none-any.whl (45 kB)\n",
            "\u001b[2K     \u001b[90m━━━━━━━━━━━━━━━━━━━━━━━━━━━━━━━━━━━━━━━━\u001b[0m \u001b[32m45.7/45.7 KB\u001b[0m \u001b[31m4.7 MB/s\u001b[0m eta \u001b[36m0:00:00\u001b[0m\n",
            "\u001b[?25hCollecting aiohttp\n",
            "  Downloading aiohttp-3.8.4-cp39-cp39-manylinux_2_17_x86_64.manylinux2014_x86_64.whl (1.0 MB)\n",
            "\u001b[2K     \u001b[90m━━━━━━━━━━━━━━━━━━━━━━━━━━━━━━━━━━━━━━━━\u001b[0m \u001b[32m1.0/1.0 MB\u001b[0m \u001b[31m61.5 MB/s\u001b[0m eta \u001b[36m0:00:00\u001b[0m\n",
            "\u001b[?25hRequirement already satisfied: pyyaml in /usr/local/lib/python3.9/dist-packages (from gradio) (6.0)\n",
            "Collecting semantic-version\n",
            "  Downloading semantic_version-2.10.0-py2.py3-none-any.whl (15 kB)\n",
            "Collecting gradio-client>=0.0.5\n",
            "  Downloading gradio_client-0.0.5-py3-none-any.whl (12 kB)\n",
            "Collecting pydub\n",
            "  Downloading pydub-0.25.1-py2.py3-none-any.whl (32 kB)\n",
            "Collecting mdit-py-plugins<=0.3.3\n",
            "  Downloading mdit_py_plugins-0.3.3-py3-none-any.whl (50 kB)\n",
            "\u001b[2K     \u001b[90m━━━━━━━━━━━━━━━━━━━━━━━━━━━━━━━━━━━━━━━━\u001b[0m \u001b[32m50.5/50.5 KB\u001b[0m \u001b[31m5.5 MB/s\u001b[0m eta \u001b[36m0:00:00\u001b[0m\n",
            "\u001b[?25hRequirement already satisfied: matplotlib in /usr/local/lib/python3.9/dist-packages (from gradio) (3.7.1)\n",
            "Requirement already satisfied: pillow in /usr/local/lib/python3.9/dist-packages (from gradio) (8.4.0)\n",
            "Collecting uvicorn\n",
            "  Downloading uvicorn-0.21.1-py3-none-any.whl (57 kB)\n",
            "\u001b[2K     \u001b[90m━━━━━━━━━━━━━━━━━━━━━━━━━━━━━━━━━━━━━━━━\u001b[0m \u001b[32m57.8/57.8 KB\u001b[0m \u001b[31m5.9 MB/s\u001b[0m eta \u001b[36m0:00:00\u001b[0m\n",
            "\u001b[?25hRequirement already satisfied: numpy in /usr/local/lib/python3.9/dist-packages (from gradio) (1.22.4)\n",
            "Collecting ffmpy\n",
            "  Downloading ffmpy-0.3.0.tar.gz (4.8 kB)\n",
            "  Preparing metadata (setup.py) ... \u001b[?25l\u001b[?25hdone\n",
            "Requirement already satisfied: altair>=4.2.0 in /usr/local/lib/python3.9/dist-packages (from gradio) (4.2.2)\n",
            "Collecting orjson\n",
            "  Downloading orjson-3.8.9-cp39-cp39-manylinux_2_28_x86_64.whl (144 kB)\n",
            "\u001b[2K     \u001b[90m━━━━━━━━━━━━━━━━━━━━━━━━━━━━━━━━━━━━━━\u001b[0m \u001b[32m144.1/144.1 KB\u001b[0m \u001b[31m16.4 MB/s\u001b[0m eta \u001b[36m0:00:00\u001b[0m\n",
            "\u001b[?25hRequirement already satisfied: pydantic in /usr/local/lib/python3.9/dist-packages (from gradio) (1.10.7)\n",
            "Requirement already satisfied: pandas in /usr/local/lib/python3.9/dist-packages (from gradio) (1.4.4)\n",
            "Requirement already satisfied: requests in /usr/local/lib/python3.9/dist-packages (from gradio) (2.27.1)\n",
            "Requirement already satisfied: jinja2 in /usr/local/lib/python3.9/dist-packages (from gradio) (3.1.2)\n",
            "Collecting httpx\n",
            "  Downloading httpx-0.23.3-py3-none-any.whl (71 kB)\n",
            "\u001b[2K     \u001b[90m━━━━━━━━━━━━━━━━━━━━━━━━━━━━━━━━━━━━━━━━\u001b[0m \u001b[32m71.5/71.5 KB\u001b[0m \u001b[31m7.8 MB/s\u001b[0m eta \u001b[36m0:00:00\u001b[0m\n",
            "\u001b[?25hRequirement already satisfied: entrypoints in /usr/local/lib/python3.9/dist-packages (from altair>=4.2.0->gradio) (0.4)\n",
            "Requirement already satisfied: toolz in /usr/local/lib/python3.9/dist-packages (from altair>=4.2.0->gradio) (0.12.0)\n",
            "Requirement already satisfied: jsonschema>=3.0 in /usr/local/lib/python3.9/dist-packages (from altair>=4.2.0->gradio) (4.3.3)\n",
            "Requirement already satisfied: packaging in /usr/local/lib/python3.9/dist-packages (from gradio-client>=0.0.5->gradio) (23.0)\n",
            "Requirement already satisfied: fsspec in /usr/local/lib/python3.9/dist-packages (from gradio-client>=0.0.5->gradio) (2023.3.0)\n",
            "Requirement already satisfied: tqdm>=4.42.1 in /usr/local/lib/python3.9/dist-packages (from huggingface-hub>=0.13.0->gradio) (4.65.0)\n",
            "Requirement already satisfied: filelock in /usr/local/lib/python3.9/dist-packages (from huggingface-hub>=0.13.0->gradio) (3.10.7)\n",
            "Requirement already satisfied: mdurl~=0.1 in /usr/local/lib/python3.9/dist-packages (from markdown-it-py[linkify]>=2.0.0->gradio) (0.1.2)\n",
            "Collecting linkify-it-py<3,>=1\n",
            "  Downloading linkify_it_py-2.0.0-py3-none-any.whl (19 kB)\n",
            "Requirement already satisfied: python-dateutil>=2.8.1 in /usr/local/lib/python3.9/dist-packages (from pandas->gradio) (2.8.2)\n",
            "Requirement already satisfied: pytz>=2020.1 in /usr/local/lib/python3.9/dist-packages (from pandas->gradio) (2022.7.1)\n",
            "Collecting async-timeout<5.0,>=4.0.0a3\n",
            "  Downloading async_timeout-4.0.2-py3-none-any.whl (5.8 kB)\n",
            "Collecting multidict<7.0,>=4.5\n",
            "  Downloading multidict-6.0.4-cp39-cp39-manylinux_2_17_x86_64.manylinux2014_x86_64.whl (114 kB)\n",
            "\u001b[2K     \u001b[90m━━━━━━━━━━━━━━━━━━━━━━━━━━━━━━━━━━━━━━\u001b[0m \u001b[32m114.2/114.2 KB\u001b[0m \u001b[31m12.9 MB/s\u001b[0m eta \u001b[36m0:00:00\u001b[0m\n",
            "\u001b[?25hCollecting aiosignal>=1.1.2\n",
            "  Downloading aiosignal-1.3.1-py3-none-any.whl (7.6 kB)\n",
            "Requirement already satisfied: attrs>=17.3.0 in /usr/local/lib/python3.9/dist-packages (from aiohttp->gradio) (22.2.0)\n",
            "Requirement already satisfied: charset-normalizer<4.0,>=2.0 in /usr/local/lib/python3.9/dist-packages (from aiohttp->gradio) (2.0.12)\n",
            "Collecting yarl<2.0,>=1.0\n",
            "  Downloading yarl-1.8.2-cp39-cp39-manylinux_2_17_x86_64.manylinux2014_x86_64.whl (264 kB)\n",
            "\u001b[2K     \u001b[90m━━━━━━━━━━━━━━━━━━━━━━━━━━━━━━━━━━━━━━\u001b[0m \u001b[32m264.6/264.6 KB\u001b[0m \u001b[31m21.5 MB/s\u001b[0m eta \u001b[36m0:00:00\u001b[0m\n",
            "\u001b[?25hCollecting frozenlist>=1.1.1\n",
            "  Downloading frozenlist-1.3.3-cp39-cp39-manylinux_2_5_x86_64.manylinux1_x86_64.manylinux_2_17_x86_64.manylinux2014_x86_64.whl (158 kB)\n",
            "\u001b[2K     \u001b[90m━━━━━━━━━━━━━━━━━━━━━━━━━━━━━━━━━━━━━━\u001b[0m \u001b[32m158.8/158.8 KB\u001b[0m \u001b[31m18.5 MB/s\u001b[0m eta \u001b[36m0:00:00\u001b[0m\n",
            "\u001b[?25hCollecting starlette<0.27.0,>=0.26.1\n",
            "  Downloading starlette-0.26.1-py3-none-any.whl (66 kB)\n",
            "\u001b[2K     \u001b[90m━━━━━━━━━━━━━━━━━━━━━━━━━━━━━━━━━━━━━━━━\u001b[0m \u001b[32m66.9/66.9 KB\u001b[0m \u001b[31m7.0 MB/s\u001b[0m eta \u001b[36m0:00:00\u001b[0m\n",
            "\u001b[?25hCollecting httpcore<0.17.0,>=0.15.0\n",
            "  Downloading httpcore-0.16.3-py3-none-any.whl (69 kB)\n",
            "\u001b[2K     \u001b[90m━━━━━━━━━━━━━━━━━━━━━━━━━━━━━━━━━━━━━━━━\u001b[0m \u001b[32m69.6/69.6 KB\u001b[0m \u001b[31m7.4 MB/s\u001b[0m eta \u001b[36m0:00:00\u001b[0m\n",
            "\u001b[?25hCollecting sniffio\n",
            "  Downloading sniffio-1.3.0-py3-none-any.whl (10 kB)\n",
            "Collecting rfc3986[idna2008]<2,>=1.3\n",
            "  Downloading rfc3986-1.5.0-py2.py3-none-any.whl (31 kB)\n",
            "Requirement already satisfied: certifi in /usr/local/lib/python3.9/dist-packages (from httpx->gradio) (2022.12.7)\n",
            "Requirement already satisfied: fonttools>=4.22.0 in /usr/local/lib/python3.9/dist-packages (from matplotlib->gradio) (4.39.3)\n",
            "Requirement already satisfied: cycler>=0.10 in /usr/local/lib/python3.9/dist-packages (from matplotlib->gradio) (0.11.0)\n",
            "Requirement already satisfied: kiwisolver>=1.0.1 in /usr/local/lib/python3.9/dist-packages (from matplotlib->gradio) (1.4.4)\n",
            "Requirement already satisfied: pyparsing>=2.3.1 in /usr/local/lib/python3.9/dist-packages (from matplotlib->gradio) (3.0.9)\n",
            "Requirement already satisfied: contourpy>=1.0.1 in /usr/local/lib/python3.9/dist-packages (from matplotlib->gradio) (1.0.7)\n",
            "Requirement already satisfied: importlib-resources>=3.2.0 in /usr/local/lib/python3.9/dist-packages (from matplotlib->gradio) (5.12.0)\n",
            "Requirement already satisfied: idna<4,>=2.5 in /usr/local/lib/python3.9/dist-packages (from requests->gradio) (3.4)\n",
            "Requirement already satisfied: urllib3<1.27,>=1.21.1 in /usr/local/lib/python3.9/dist-packages (from requests->gradio) (1.26.15)\n",
            "Collecting h11>=0.8\n",
            "  Downloading h11-0.14.0-py3-none-any.whl (58 kB)\n",
            "\u001b[2K     \u001b[90m━━━━━━━━━━━━━━━━━━━━━━━━━━━━━━━━━━━━━━━━\u001b[0m \u001b[32m58.3/58.3 KB\u001b[0m \u001b[31m7.4 MB/s\u001b[0m eta \u001b[36m0:00:00\u001b[0m\n",
            "\u001b[?25hRequirement already satisfied: click>=7.0 in /usr/local/lib/python3.9/dist-packages (from uvicorn->gradio) (8.1.3)\n",
            "Collecting anyio<5.0,>=3.0\n",
            "  Downloading anyio-3.6.2-py3-none-any.whl (80 kB)\n",
            "\u001b[2K     \u001b[90m━━━━━━━━━━━━━━━━━━━━━━━━━━━━━━━━━━━━━━━━\u001b[0m \u001b[32m80.6/80.6 KB\u001b[0m \u001b[31m6.8 MB/s\u001b[0m eta \u001b[36m0:00:00\u001b[0m\n",
            "\u001b[?25hRequirement already satisfied: zipp>=3.1.0 in /usr/local/lib/python3.9/dist-packages (from importlib-resources>=3.2.0->matplotlib->gradio) (3.15.0)\n",
            "Requirement already satisfied: pyrsistent!=0.17.0,!=0.17.1,!=0.17.2,>=0.14.0 in /usr/local/lib/python3.9/dist-packages (from jsonschema>=3.0->altair>=4.2.0->gradio) (0.19.3)\n",
            "Collecting uc-micro-py\n",
            "  Downloading uc_micro_py-1.0.1-py3-none-any.whl (6.2 kB)\n",
            "Requirement already satisfied: six>=1.5 in /usr/local/lib/python3.9/dist-packages (from python-dateutil>=2.8.1->pandas->gradio) (1.16.0)\n",
            "Building wheels for collected packages: ffmpy\n",
            "  Building wheel for ffmpy (setup.py) ... \u001b[?25l\u001b[?25hdone\n",
            "  Created wheel for ffmpy: filename=ffmpy-0.3.0-py3-none-any.whl size=4707 sha256=3b57f4c58dfa0c200f78f5b8c8a0346447266cec717eebcdfdc926ff816aa497\n",
            "  Stored in directory: /root/.cache/pip/wheels/91/e2/96/f676aa08bfd789328c6576cd0f1fde4a3d686703bb0c247697\n",
            "Successfully built ffmpy\n",
            "Installing collected packages: rfc3986, pydub, ffmpy, websockets, uc-micro-py, sniffio, semantic-version, python-multipart, orjson, multidict, h11, frozenlist, async-timeout, aiofiles, yarl, uvicorn, mdit-py-plugins, linkify-it-py, huggingface-hub, anyio, aiosignal, starlette, httpcore, gradio-client, aiohttp, httpx, fastapi, gradio\n",
            "Successfully installed aiofiles-23.1.0 aiohttp-3.8.4 aiosignal-1.3.1 anyio-3.6.2 async-timeout-4.0.2 fastapi-0.95.0 ffmpy-0.3.0 frozenlist-1.3.3 gradio-3.24.1 gradio-client-0.0.5 h11-0.14.0 httpcore-0.16.3 httpx-0.23.3 huggingface-hub-0.13.3 linkify-it-py-2.0.0 mdit-py-plugins-0.3.3 multidict-6.0.4 orjson-3.8.9 pydub-0.25.1 python-multipart-0.0.6 rfc3986-1.5.0 semantic-version-2.10.0 sniffio-1.3.0 starlette-0.26.1 uc-micro-py-1.0.1 uvicorn-0.21.1 websockets-10.4 yarl-1.8.2\n"
          ]
        }
      ],
      "source": [
        "!pip install gradio"
      ]
    },
    {
      "cell_type": "code",
      "execution_count": 8,
      "metadata": {
        "id": "j68oL3aqeB6Q"
      },
      "outputs": [],
      "source": [
        "import pandas as pd\n",
        "import numpy as np\n",
        "import seaborn as sns\n",
        "import matplotlib.pyplot as plt\n",
        "from sklearn import preprocessing\n",
        "from sklearn.model_selection import train_test_split\n",
        "from sklearn.metrics import accuracy_score\n",
        "from sklearn.feature_selection import VarianceThreshold\n",
        "from sklearn.ensemble import RandomForestClassifier\n",
        "from sklearn.svm import SVC\n",
        "from sklearn.model_selection import GridSearchCV,RandomizedSearchCV\n",
        "from sklearn import tree\n",
        "from sklearn.neighbors import KNeighborsClassifier\n",
        "from sklearn.naive_bayes import GaussianNB\n",
        "# import gradio as gr\n",
        "import pickle"
      ]
    },
    {
      "cell_type": "code",
      "execution_count": 9,
      "metadata": {
        "id": "q1w-L9FEeORS",
        "outputId": "4fb79021-7f00-40ff-ff19-186664b1e31f",
        "colab": {
          "base_uri": "https://localhost:8080/"
        }
      },
      "outputs": [
        {
          "output_type": "stream",
          "name": "stdout",
          "text": [
            "Drive already mounted at /content/gdrive; to attempt to forcibly remount, call drive.mount(\"/content/gdrive\", force_remount=True).\n"
          ]
        }
      ],
      "source": [
        "from google.colab import drive\n",
        "drive.mount('/content/gdrive')"
      ]
    },
    {
      "cell_type": "code",
      "execution_count": 10,
      "metadata": {
        "id": "8RO88Fe4eyR3"
      },
      "outputs": [],
      "source": [
        "df = pd.read_excel(\"/content/gdrive/MyDrive/PROJECTS/ML PROJECT(2-2)/Kaggle_Sirio_Libanes_ICU_Prediction.xlsx\")"
      ]
    },
    {
      "cell_type": "code",
      "source": [
        "from google.colab import drive\n",
        "drive.mount('/content/drive')"
      ],
      "metadata": {
        "id": "cH91U6ha7YwA",
        "colab": {
          "base_uri": "https://localhost:8080/"
        },
        "outputId": "c7984a42-c63a-45df-9491-6d27447cc7fa"
      },
      "execution_count": 11,
      "outputs": [
        {
          "output_type": "stream",
          "name": "stdout",
          "text": [
            "Mounted at /content/drive\n"
          ]
        }
      ]
    },
    {
      "cell_type": "markdown",
      "metadata": {
        "id": "p4pJNdYdUxqN"
      },
      "source": [
        "**Studying dataset**"
      ]
    },
    {
      "cell_type": "code",
      "execution_count": 12,
      "metadata": {
        "colab": {
          "base_uri": "https://localhost:8080/"
        },
        "id": "kk-kSnspIx_s",
        "outputId": "703072a0-64c5-410b-e2cf-bccbae272fb1"
      },
      "outputs": [
        {
          "output_type": "stream",
          "name": "stdout",
          "text": [
            "<class 'pandas.core.frame.DataFrame'>\n",
            "RangeIndex: 1925 entries, 0 to 1924\n",
            "Columns: 231 entries, PATIENT_VISIT_IDENTIFIER to ICU\n",
            "dtypes: float64(225), int64(4), object(2)\n",
            "memory usage: 3.4+ MB\n"
          ]
        }
      ],
      "source": [
        "df.info()"
      ]
    },
    {
      "cell_type": "code",
      "execution_count": 13,
      "metadata": {
        "colab": {
          "base_uri": "https://localhost:8080/",
          "height": 411
        },
        "id": "JAiFo5-Oa9OJ",
        "outputId": "156c965c-35c9-4f02-8818-60d021b0ff72"
      },
      "outputs": [
        {
          "output_type": "execute_result",
          "data": {
            "text/plain": [
              "       PATIENT_VISIT_IDENTIFIER  AGE_ABOVE65       GENDER  DISEASE GROUPING 1  \\\n",
              "count               1925.000000  1925.000000  1925.000000         1920.000000   \n",
              "mean                 192.000000     0.467532     0.368831            0.108333   \n",
              "std                  111.168431     0.499074     0.482613            0.310882   \n",
              "min                    0.000000     0.000000     0.000000            0.000000   \n",
              "25%                   96.000000     0.000000     0.000000            0.000000   \n",
              "50%                  192.000000     0.000000     0.000000            0.000000   \n",
              "75%                  288.000000     1.000000     1.000000            0.000000   \n",
              "max                  384.000000     1.000000     1.000000            1.000000   \n",
              "\n",
              "       DISEASE GROUPING 2  DISEASE GROUPING 3  DISEASE GROUPING 4  \\\n",
              "count         1920.000000         1920.000000         1920.000000   \n",
              "mean             0.028125            0.097917            0.019792   \n",
              "std              0.165373            0.297279            0.139320   \n",
              "min              0.000000            0.000000            0.000000   \n",
              "25%              0.000000            0.000000            0.000000   \n",
              "50%              0.000000            0.000000            0.000000   \n",
              "75%              0.000000            0.000000            0.000000   \n",
              "max              1.000000            1.000000            1.000000   \n",
              "\n",
              "       DISEASE GROUPING 5  DISEASE GROUPING 6          HTN  ...  \\\n",
              "count         1920.000000         1920.000000  1920.000000  ...   \n",
              "mean             0.128125            0.046875     0.213021  ...   \n",
              "std              0.334316            0.211426     0.409549  ...   \n",
              "min              0.000000            0.000000     0.000000  ...   \n",
              "25%              0.000000            0.000000     0.000000  ...   \n",
              "50%              0.000000            0.000000     0.000000  ...   \n",
              "75%              0.000000            0.000000     0.000000  ...   \n",
              "max              1.000000            1.000000     1.000000  ...   \n",
              "\n",
              "       RESPIRATORY_RATE_DIFF  TEMPERATURE_DIFF  OXYGEN_SATURATION_DIFF  \\\n",
              "count            1177.000000       1231.000000             1239.000000   \n",
              "mean               -0.703683         -0.770338               -0.887196   \n",
              "std                 0.482097          0.319001                0.296147   \n",
              "min                -1.000000         -1.000000               -1.000000   \n",
              "25%                -1.000000         -1.000000               -1.000000   \n",
              "50%                -1.000000         -0.976190               -0.979798   \n",
              "75%                -0.647059         -0.595238               -0.878788   \n",
              "max                 1.000000          1.000000                1.000000   \n",
              "\n",
              "       BLOODPRESSURE_DIASTOLIC_DIFF_REL  BLOODPRESSURE_SISTOLIC_DIFF_REL  \\\n",
              "count                       1240.000000                      1240.000000   \n",
              "mean                          -0.786997                        -0.715950   \n",
              "std                            0.324754                         0.419103   \n",
              "min                           -1.000000                        -1.000000   \n",
              "25%                           -1.000000                        -1.000000   \n",
              "50%                           -1.000000                        -0.984944   \n",
              "75%                           -0.645482                        -0.522176   \n",
              "max                            1.000000                         1.000000   \n",
              "\n",
              "       HEART_RATE_DIFF_REL  RESPIRATORY_RATE_DIFF_REL  TEMPERATURE_DIFF_REL  \\\n",
              "count          1240.000000                1177.000000           1231.000000   \n",
              "mean             -0.817800                  -0.719147             -0.771327   \n",
              "std               0.270217                   0.446600              0.317694   \n",
              "min              -1.000000                  -1.000000             -1.000000   \n",
              "25%              -1.000000                  -1.000000             -1.000000   \n",
              "50%              -0.989822                  -1.000000             -0.975924   \n",
              "75%              -0.662529                  -0.634409             -0.594677   \n",
              "max               1.000000                   1.000000              1.000000   \n",
              "\n",
              "       OXYGEN_SATURATION_DIFF_REL          ICU  \n",
              "count                 1239.000000  1925.000000  \n",
              "mean                    -0.886982     0.267532  \n",
              "std                      0.296772     0.442787  \n",
              "min                     -1.000000     0.000000  \n",
              "25%                     -1.000000     0.000000  \n",
              "50%                     -0.980333     0.000000  \n",
              "75%                     -0.880155     1.000000  \n",
              "max                      1.000000     1.000000  \n",
              "\n",
              "[8 rows x 229 columns]"
            ],
            "text/html": [
              "\n",
              "  <div id=\"df-37580767-70f8-49a9-ba08-3897f5f7492c\">\n",
              "    <div class=\"colab-df-container\">\n",
              "      <div>\n",
              "<style scoped>\n",
              "    .dataframe tbody tr th:only-of-type {\n",
              "        vertical-align: middle;\n",
              "    }\n",
              "\n",
              "    .dataframe tbody tr th {\n",
              "        vertical-align: top;\n",
              "    }\n",
              "\n",
              "    .dataframe thead th {\n",
              "        text-align: right;\n",
              "    }\n",
              "</style>\n",
              "<table border=\"1\" class=\"dataframe\">\n",
              "  <thead>\n",
              "    <tr style=\"text-align: right;\">\n",
              "      <th></th>\n",
              "      <th>PATIENT_VISIT_IDENTIFIER</th>\n",
              "      <th>AGE_ABOVE65</th>\n",
              "      <th>GENDER</th>\n",
              "      <th>DISEASE GROUPING 1</th>\n",
              "      <th>DISEASE GROUPING 2</th>\n",
              "      <th>DISEASE GROUPING 3</th>\n",
              "      <th>DISEASE GROUPING 4</th>\n",
              "      <th>DISEASE GROUPING 5</th>\n",
              "      <th>DISEASE GROUPING 6</th>\n",
              "      <th>HTN</th>\n",
              "      <th>...</th>\n",
              "      <th>RESPIRATORY_RATE_DIFF</th>\n",
              "      <th>TEMPERATURE_DIFF</th>\n",
              "      <th>OXYGEN_SATURATION_DIFF</th>\n",
              "      <th>BLOODPRESSURE_DIASTOLIC_DIFF_REL</th>\n",
              "      <th>BLOODPRESSURE_SISTOLIC_DIFF_REL</th>\n",
              "      <th>HEART_RATE_DIFF_REL</th>\n",
              "      <th>RESPIRATORY_RATE_DIFF_REL</th>\n",
              "      <th>TEMPERATURE_DIFF_REL</th>\n",
              "      <th>OXYGEN_SATURATION_DIFF_REL</th>\n",
              "      <th>ICU</th>\n",
              "    </tr>\n",
              "  </thead>\n",
              "  <tbody>\n",
              "    <tr>\n",
              "      <th>count</th>\n",
              "      <td>1925.000000</td>\n",
              "      <td>1925.000000</td>\n",
              "      <td>1925.000000</td>\n",
              "      <td>1920.000000</td>\n",
              "      <td>1920.000000</td>\n",
              "      <td>1920.000000</td>\n",
              "      <td>1920.000000</td>\n",
              "      <td>1920.000000</td>\n",
              "      <td>1920.000000</td>\n",
              "      <td>1920.000000</td>\n",
              "      <td>...</td>\n",
              "      <td>1177.000000</td>\n",
              "      <td>1231.000000</td>\n",
              "      <td>1239.000000</td>\n",
              "      <td>1240.000000</td>\n",
              "      <td>1240.000000</td>\n",
              "      <td>1240.000000</td>\n",
              "      <td>1177.000000</td>\n",
              "      <td>1231.000000</td>\n",
              "      <td>1239.000000</td>\n",
              "      <td>1925.000000</td>\n",
              "    </tr>\n",
              "    <tr>\n",
              "      <th>mean</th>\n",
              "      <td>192.000000</td>\n",
              "      <td>0.467532</td>\n",
              "      <td>0.368831</td>\n",
              "      <td>0.108333</td>\n",
              "      <td>0.028125</td>\n",
              "      <td>0.097917</td>\n",
              "      <td>0.019792</td>\n",
              "      <td>0.128125</td>\n",
              "      <td>0.046875</td>\n",
              "      <td>0.213021</td>\n",
              "      <td>...</td>\n",
              "      <td>-0.703683</td>\n",
              "      <td>-0.770338</td>\n",
              "      <td>-0.887196</td>\n",
              "      <td>-0.786997</td>\n",
              "      <td>-0.715950</td>\n",
              "      <td>-0.817800</td>\n",
              "      <td>-0.719147</td>\n",
              "      <td>-0.771327</td>\n",
              "      <td>-0.886982</td>\n",
              "      <td>0.267532</td>\n",
              "    </tr>\n",
              "    <tr>\n",
              "      <th>std</th>\n",
              "      <td>111.168431</td>\n",
              "      <td>0.499074</td>\n",
              "      <td>0.482613</td>\n",
              "      <td>0.310882</td>\n",
              "      <td>0.165373</td>\n",
              "      <td>0.297279</td>\n",
              "      <td>0.139320</td>\n",
              "      <td>0.334316</td>\n",
              "      <td>0.211426</td>\n",
              "      <td>0.409549</td>\n",
              "      <td>...</td>\n",
              "      <td>0.482097</td>\n",
              "      <td>0.319001</td>\n",
              "      <td>0.296147</td>\n",
              "      <td>0.324754</td>\n",
              "      <td>0.419103</td>\n",
              "      <td>0.270217</td>\n",
              "      <td>0.446600</td>\n",
              "      <td>0.317694</td>\n",
              "      <td>0.296772</td>\n",
              "      <td>0.442787</td>\n",
              "    </tr>\n",
              "    <tr>\n",
              "      <th>min</th>\n",
              "      <td>0.000000</td>\n",
              "      <td>0.000000</td>\n",
              "      <td>0.000000</td>\n",
              "      <td>0.000000</td>\n",
              "      <td>0.000000</td>\n",
              "      <td>0.000000</td>\n",
              "      <td>0.000000</td>\n",
              "      <td>0.000000</td>\n",
              "      <td>0.000000</td>\n",
              "      <td>0.000000</td>\n",
              "      <td>...</td>\n",
              "      <td>-1.000000</td>\n",
              "      <td>-1.000000</td>\n",
              "      <td>-1.000000</td>\n",
              "      <td>-1.000000</td>\n",
              "      <td>-1.000000</td>\n",
              "      <td>-1.000000</td>\n",
              "      <td>-1.000000</td>\n",
              "      <td>-1.000000</td>\n",
              "      <td>-1.000000</td>\n",
              "      <td>0.000000</td>\n",
              "    </tr>\n",
              "    <tr>\n",
              "      <th>25%</th>\n",
              "      <td>96.000000</td>\n",
              "      <td>0.000000</td>\n",
              "      <td>0.000000</td>\n",
              "      <td>0.000000</td>\n",
              "      <td>0.000000</td>\n",
              "      <td>0.000000</td>\n",
              "      <td>0.000000</td>\n",
              "      <td>0.000000</td>\n",
              "      <td>0.000000</td>\n",
              "      <td>0.000000</td>\n",
              "      <td>...</td>\n",
              "      <td>-1.000000</td>\n",
              "      <td>-1.000000</td>\n",
              "      <td>-1.000000</td>\n",
              "      <td>-1.000000</td>\n",
              "      <td>-1.000000</td>\n",
              "      <td>-1.000000</td>\n",
              "      <td>-1.000000</td>\n",
              "      <td>-1.000000</td>\n",
              "      <td>-1.000000</td>\n",
              "      <td>0.000000</td>\n",
              "    </tr>\n",
              "    <tr>\n",
              "      <th>50%</th>\n",
              "      <td>192.000000</td>\n",
              "      <td>0.000000</td>\n",
              "      <td>0.000000</td>\n",
              "      <td>0.000000</td>\n",
              "      <td>0.000000</td>\n",
              "      <td>0.000000</td>\n",
              "      <td>0.000000</td>\n",
              "      <td>0.000000</td>\n",
              "      <td>0.000000</td>\n",
              "      <td>0.000000</td>\n",
              "      <td>...</td>\n",
              "      <td>-1.000000</td>\n",
              "      <td>-0.976190</td>\n",
              "      <td>-0.979798</td>\n",
              "      <td>-1.000000</td>\n",
              "      <td>-0.984944</td>\n",
              "      <td>-0.989822</td>\n",
              "      <td>-1.000000</td>\n",
              "      <td>-0.975924</td>\n",
              "      <td>-0.980333</td>\n",
              "      <td>0.000000</td>\n",
              "    </tr>\n",
              "    <tr>\n",
              "      <th>75%</th>\n",
              "      <td>288.000000</td>\n",
              "      <td>1.000000</td>\n",
              "      <td>1.000000</td>\n",
              "      <td>0.000000</td>\n",
              "      <td>0.000000</td>\n",
              "      <td>0.000000</td>\n",
              "      <td>0.000000</td>\n",
              "      <td>0.000000</td>\n",
              "      <td>0.000000</td>\n",
              "      <td>0.000000</td>\n",
              "      <td>...</td>\n",
              "      <td>-0.647059</td>\n",
              "      <td>-0.595238</td>\n",
              "      <td>-0.878788</td>\n",
              "      <td>-0.645482</td>\n",
              "      <td>-0.522176</td>\n",
              "      <td>-0.662529</td>\n",
              "      <td>-0.634409</td>\n",
              "      <td>-0.594677</td>\n",
              "      <td>-0.880155</td>\n",
              "      <td>1.000000</td>\n",
              "    </tr>\n",
              "    <tr>\n",
              "      <th>max</th>\n",
              "      <td>384.000000</td>\n",
              "      <td>1.000000</td>\n",
              "      <td>1.000000</td>\n",
              "      <td>1.000000</td>\n",
              "      <td>1.000000</td>\n",
              "      <td>1.000000</td>\n",
              "      <td>1.000000</td>\n",
              "      <td>1.000000</td>\n",
              "      <td>1.000000</td>\n",
              "      <td>1.000000</td>\n",
              "      <td>...</td>\n",
              "      <td>1.000000</td>\n",
              "      <td>1.000000</td>\n",
              "      <td>1.000000</td>\n",
              "      <td>1.000000</td>\n",
              "      <td>1.000000</td>\n",
              "      <td>1.000000</td>\n",
              "      <td>1.000000</td>\n",
              "      <td>1.000000</td>\n",
              "      <td>1.000000</td>\n",
              "      <td>1.000000</td>\n",
              "    </tr>\n",
              "  </tbody>\n",
              "</table>\n",
              "<p>8 rows × 229 columns</p>\n",
              "</div>\n",
              "      <button class=\"colab-df-convert\" onclick=\"convertToInteractive('df-37580767-70f8-49a9-ba08-3897f5f7492c')\"\n",
              "              title=\"Convert this dataframe to an interactive table.\"\n",
              "              style=\"display:none;\">\n",
              "        \n",
              "  <svg xmlns=\"http://www.w3.org/2000/svg\" height=\"24px\"viewBox=\"0 0 24 24\"\n",
              "       width=\"24px\">\n",
              "    <path d=\"M0 0h24v24H0V0z\" fill=\"none\"/>\n",
              "    <path d=\"M18.56 5.44l.94 2.06.94-2.06 2.06-.94-2.06-.94-.94-2.06-.94 2.06-2.06.94zm-11 1L8.5 8.5l.94-2.06 2.06-.94-2.06-.94L8.5 2.5l-.94 2.06-2.06.94zm10 10l.94 2.06.94-2.06 2.06-.94-2.06-.94-.94-2.06-.94 2.06-2.06.94z\"/><path d=\"M17.41 7.96l-1.37-1.37c-.4-.4-.92-.59-1.43-.59-.52 0-1.04.2-1.43.59L10.3 9.45l-7.72 7.72c-.78.78-.78 2.05 0 2.83L4 21.41c.39.39.9.59 1.41.59.51 0 1.02-.2 1.41-.59l7.78-7.78 2.81-2.81c.8-.78.8-2.07 0-2.86zM5.41 20L4 18.59l7.72-7.72 1.47 1.35L5.41 20z\"/>\n",
              "  </svg>\n",
              "      </button>\n",
              "      \n",
              "  <style>\n",
              "    .colab-df-container {\n",
              "      display:flex;\n",
              "      flex-wrap:wrap;\n",
              "      gap: 12px;\n",
              "    }\n",
              "\n",
              "    .colab-df-convert {\n",
              "      background-color: #E8F0FE;\n",
              "      border: none;\n",
              "      border-radius: 50%;\n",
              "      cursor: pointer;\n",
              "      display: none;\n",
              "      fill: #1967D2;\n",
              "      height: 32px;\n",
              "      padding: 0 0 0 0;\n",
              "      width: 32px;\n",
              "    }\n",
              "\n",
              "    .colab-df-convert:hover {\n",
              "      background-color: #E2EBFA;\n",
              "      box-shadow: 0px 1px 2px rgba(60, 64, 67, 0.3), 0px 1px 3px 1px rgba(60, 64, 67, 0.15);\n",
              "      fill: #174EA6;\n",
              "    }\n",
              "\n",
              "    [theme=dark] .colab-df-convert {\n",
              "      background-color: #3B4455;\n",
              "      fill: #D2E3FC;\n",
              "    }\n",
              "\n",
              "    [theme=dark] .colab-df-convert:hover {\n",
              "      background-color: #434B5C;\n",
              "      box-shadow: 0px 1px 3px 1px rgba(0, 0, 0, 0.15);\n",
              "      filter: drop-shadow(0px 1px 2px rgba(0, 0, 0, 0.3));\n",
              "      fill: #FFFFFF;\n",
              "    }\n",
              "  </style>\n",
              "\n",
              "      <script>\n",
              "        const buttonEl =\n",
              "          document.querySelector('#df-37580767-70f8-49a9-ba08-3897f5f7492c button.colab-df-convert');\n",
              "        buttonEl.style.display =\n",
              "          google.colab.kernel.accessAllowed ? 'block' : 'none';\n",
              "\n",
              "        async function convertToInteractive(key) {\n",
              "          const element = document.querySelector('#df-37580767-70f8-49a9-ba08-3897f5f7492c');\n",
              "          const dataTable =\n",
              "            await google.colab.kernel.invokeFunction('convertToInteractive',\n",
              "                                                     [key], {});\n",
              "          if (!dataTable) return;\n",
              "\n",
              "          const docLinkHtml = 'Like what you see? Visit the ' +\n",
              "            '<a target=\"_blank\" href=https://colab.research.google.com/notebooks/data_table.ipynb>data table notebook</a>'\n",
              "            + ' to learn more about interactive tables.';\n",
              "          element.innerHTML = '';\n",
              "          dataTable['output_type'] = 'display_data';\n",
              "          await google.colab.output.renderOutput(dataTable, element);\n",
              "          const docLink = document.createElement('div');\n",
              "          docLink.innerHTML = docLinkHtml;\n",
              "          element.appendChild(docLink);\n",
              "        }\n",
              "      </script>\n",
              "    </div>\n",
              "  </div>\n",
              "  "
            ]
          },
          "metadata": {},
          "execution_count": 13
        }
      ],
      "source": [
        "df.describe()"
      ]
    },
    {
      "cell_type": "code",
      "execution_count": 14,
      "metadata": {
        "colab": {
          "base_uri": "https://localhost:8080/",
          "height": 522
        },
        "id": "Fr-A0S7ZgaV3",
        "outputId": "dac6388f-cc0a-4123-f0a5-842b5be24255"
      },
      "outputs": [
        {
          "output_type": "execute_result",
          "data": {
            "text/plain": [
              "      PATIENT_VISIT_IDENTIFIER  AGE_ABOVE65 AGE_PERCENTIL  GENDER  \\\n",
              "0                            0            1          60th       0   \n",
              "1                            0            1          60th       0   \n",
              "2                            0            1          60th       0   \n",
              "3                            0            1          60th       0   \n",
              "4                            0            1          60th       0   \n",
              "...                        ...          ...           ...     ...   \n",
              "1920                       384            0          50th       1   \n",
              "1921                       384            0          50th       1   \n",
              "1922                       384            0          50th       1   \n",
              "1923                       384            0          50th       1   \n",
              "1924                       384            0          50th       1   \n",
              "\n",
              "      DISEASE GROUPING 1  DISEASE GROUPING 2  DISEASE GROUPING 3  \\\n",
              "0                    0.0                 0.0                 0.0   \n",
              "1                    0.0                 0.0                 0.0   \n",
              "2                    0.0                 0.0                 0.0   \n",
              "3                    0.0                 0.0                 0.0   \n",
              "4                    0.0                 0.0                 0.0   \n",
              "...                  ...                 ...                 ...   \n",
              "1920                 0.0                 0.0                 0.0   \n",
              "1921                 0.0                 0.0                 0.0   \n",
              "1922                 0.0                 0.0                 0.0   \n",
              "1923                 0.0                 0.0                 0.0   \n",
              "1924                 0.0                 0.0                 1.0   \n",
              "\n",
              "      DISEASE GROUPING 4  DISEASE GROUPING 5  DISEASE GROUPING 6  ...  \\\n",
              "0                    0.0                 1.0                 1.0  ...   \n",
              "1                    0.0                 1.0                 1.0  ...   \n",
              "2                    0.0                 1.0                 1.0  ...   \n",
              "3                    0.0                 1.0                 1.0  ...   \n",
              "4                    0.0                 1.0                 1.0  ...   \n",
              "...                  ...                 ...                 ...  ...   \n",
              "1920                 0.0                 0.0                 0.0  ...   \n",
              "1921                 0.0                 0.0                 0.0  ...   \n",
              "1922                 0.0                 0.0                 0.0  ...   \n",
              "1923                 0.0                 0.0                 0.0  ...   \n",
              "1924                 0.0                 0.0                 0.0  ...   \n",
              "\n",
              "      TEMPERATURE_DIFF  OXYGEN_SATURATION_DIFF  \\\n",
              "0            -1.000000               -1.000000   \n",
              "1            -1.000000               -1.000000   \n",
              "2                  NaN                     NaN   \n",
              "3            -1.000000               -1.000000   \n",
              "4            -0.238095               -0.818182   \n",
              "...                ...                     ...   \n",
              "1920         -1.000000               -1.000000   \n",
              "1921         -1.000000               -1.000000   \n",
              "1922         -1.000000               -1.000000   \n",
              "1923         -1.000000               -1.000000   \n",
              "1924         -0.547619               -0.838384   \n",
              "\n",
              "      BLOODPRESSURE_DIASTOLIC_DIFF_REL  BLOODPRESSURE_SISTOLIC_DIFF_REL  \\\n",
              "0                            -1.000000                        -1.000000   \n",
              "1                            -1.000000                        -1.000000   \n",
              "2                                  NaN                              NaN   \n",
              "3                                  NaN                              NaN   \n",
              "4                            -0.389967                         0.407558   \n",
              "...                                ...                              ...   \n",
              "1920                         -1.000000                        -1.000000   \n",
              "1921                         -1.000000                        -1.000000   \n",
              "1922                         -1.000000                        -1.000000   \n",
              "1923                         -1.000000                        -1.000000   \n",
              "1924                         -0.701863                        -0.585967   \n",
              "\n",
              "      HEART_RATE_DIFF_REL  RESPIRATORY_RATE_DIFF_REL  TEMPERATURE_DIFF_REL  \\\n",
              "0               -1.000000                  -1.000000             -1.000000   \n",
              "1               -1.000000                  -1.000000             -1.000000   \n",
              "2                     NaN                        NaN                   NaN   \n",
              "3                     NaN                        NaN             -1.000000   \n",
              "4               -0.230462                   0.096774             -0.242282   \n",
              "...                   ...                        ...                   ...   \n",
              "1920            -1.000000                  -1.000000             -1.000000   \n",
              "1921            -1.000000                  -1.000000             -1.000000   \n",
              "1922            -1.000000                  -1.000000             -1.000000   \n",
              "1923            -1.000000                  -1.000000             -1.000000   \n",
              "1924            -0.763868                  -0.612903             -0.551337   \n",
              "\n",
              "      OXYGEN_SATURATION_DIFF_REL    WINDOW  ICU  \n",
              "0                      -1.000000       0-2    0  \n",
              "1                      -1.000000       2-4    0  \n",
              "2                            NaN       4-6    0  \n",
              "3                      -1.000000      6-12    0  \n",
              "4                      -0.814433  ABOVE_12    1  \n",
              "...                          ...       ...  ...  \n",
              "1920                   -1.000000       0-2    0  \n",
              "1921                   -1.000000       2-4    0  \n",
              "1922                   -1.000000       4-6    0  \n",
              "1923                   -1.000000      6-12    0  \n",
              "1924                   -0.835052  ABOVE_12    0  \n",
              "\n",
              "[1925 rows x 231 columns]"
            ],
            "text/html": [
              "\n",
              "  <div id=\"df-cf979ba1-8824-4268-854c-0e6a43e53eb8\">\n",
              "    <div class=\"colab-df-container\">\n",
              "      <div>\n",
              "<style scoped>\n",
              "    .dataframe tbody tr th:only-of-type {\n",
              "        vertical-align: middle;\n",
              "    }\n",
              "\n",
              "    .dataframe tbody tr th {\n",
              "        vertical-align: top;\n",
              "    }\n",
              "\n",
              "    .dataframe thead th {\n",
              "        text-align: right;\n",
              "    }\n",
              "</style>\n",
              "<table border=\"1\" class=\"dataframe\">\n",
              "  <thead>\n",
              "    <tr style=\"text-align: right;\">\n",
              "      <th></th>\n",
              "      <th>PATIENT_VISIT_IDENTIFIER</th>\n",
              "      <th>AGE_ABOVE65</th>\n",
              "      <th>AGE_PERCENTIL</th>\n",
              "      <th>GENDER</th>\n",
              "      <th>DISEASE GROUPING 1</th>\n",
              "      <th>DISEASE GROUPING 2</th>\n",
              "      <th>DISEASE GROUPING 3</th>\n",
              "      <th>DISEASE GROUPING 4</th>\n",
              "      <th>DISEASE GROUPING 5</th>\n",
              "      <th>DISEASE GROUPING 6</th>\n",
              "      <th>...</th>\n",
              "      <th>TEMPERATURE_DIFF</th>\n",
              "      <th>OXYGEN_SATURATION_DIFF</th>\n",
              "      <th>BLOODPRESSURE_DIASTOLIC_DIFF_REL</th>\n",
              "      <th>BLOODPRESSURE_SISTOLIC_DIFF_REL</th>\n",
              "      <th>HEART_RATE_DIFF_REL</th>\n",
              "      <th>RESPIRATORY_RATE_DIFF_REL</th>\n",
              "      <th>TEMPERATURE_DIFF_REL</th>\n",
              "      <th>OXYGEN_SATURATION_DIFF_REL</th>\n",
              "      <th>WINDOW</th>\n",
              "      <th>ICU</th>\n",
              "    </tr>\n",
              "  </thead>\n",
              "  <tbody>\n",
              "    <tr>\n",
              "      <th>0</th>\n",
              "      <td>0</td>\n",
              "      <td>1</td>\n",
              "      <td>60th</td>\n",
              "      <td>0</td>\n",
              "      <td>0.0</td>\n",
              "      <td>0.0</td>\n",
              "      <td>0.0</td>\n",
              "      <td>0.0</td>\n",
              "      <td>1.0</td>\n",
              "      <td>1.0</td>\n",
              "      <td>...</td>\n",
              "      <td>-1.000000</td>\n",
              "      <td>-1.000000</td>\n",
              "      <td>-1.000000</td>\n",
              "      <td>-1.000000</td>\n",
              "      <td>-1.000000</td>\n",
              "      <td>-1.000000</td>\n",
              "      <td>-1.000000</td>\n",
              "      <td>-1.000000</td>\n",
              "      <td>0-2</td>\n",
              "      <td>0</td>\n",
              "    </tr>\n",
              "    <tr>\n",
              "      <th>1</th>\n",
              "      <td>0</td>\n",
              "      <td>1</td>\n",
              "      <td>60th</td>\n",
              "      <td>0</td>\n",
              "      <td>0.0</td>\n",
              "      <td>0.0</td>\n",
              "      <td>0.0</td>\n",
              "      <td>0.0</td>\n",
              "      <td>1.0</td>\n",
              "      <td>1.0</td>\n",
              "      <td>...</td>\n",
              "      <td>-1.000000</td>\n",
              "      <td>-1.000000</td>\n",
              "      <td>-1.000000</td>\n",
              "      <td>-1.000000</td>\n",
              "      <td>-1.000000</td>\n",
              "      <td>-1.000000</td>\n",
              "      <td>-1.000000</td>\n",
              "      <td>-1.000000</td>\n",
              "      <td>2-4</td>\n",
              "      <td>0</td>\n",
              "    </tr>\n",
              "    <tr>\n",
              "      <th>2</th>\n",
              "      <td>0</td>\n",
              "      <td>1</td>\n",
              "      <td>60th</td>\n",
              "      <td>0</td>\n",
              "      <td>0.0</td>\n",
              "      <td>0.0</td>\n",
              "      <td>0.0</td>\n",
              "      <td>0.0</td>\n",
              "      <td>1.0</td>\n",
              "      <td>1.0</td>\n",
              "      <td>...</td>\n",
              "      <td>NaN</td>\n",
              "      <td>NaN</td>\n",
              "      <td>NaN</td>\n",
              "      <td>NaN</td>\n",
              "      <td>NaN</td>\n",
              "      <td>NaN</td>\n",
              "      <td>NaN</td>\n",
              "      <td>NaN</td>\n",
              "      <td>4-6</td>\n",
              "      <td>0</td>\n",
              "    </tr>\n",
              "    <tr>\n",
              "      <th>3</th>\n",
              "      <td>0</td>\n",
              "      <td>1</td>\n",
              "      <td>60th</td>\n",
              "      <td>0</td>\n",
              "      <td>0.0</td>\n",
              "      <td>0.0</td>\n",
              "      <td>0.0</td>\n",
              "      <td>0.0</td>\n",
              "      <td>1.0</td>\n",
              "      <td>1.0</td>\n",
              "      <td>...</td>\n",
              "      <td>-1.000000</td>\n",
              "      <td>-1.000000</td>\n",
              "      <td>NaN</td>\n",
              "      <td>NaN</td>\n",
              "      <td>NaN</td>\n",
              "      <td>NaN</td>\n",
              "      <td>-1.000000</td>\n",
              "      <td>-1.000000</td>\n",
              "      <td>6-12</td>\n",
              "      <td>0</td>\n",
              "    </tr>\n",
              "    <tr>\n",
              "      <th>4</th>\n",
              "      <td>0</td>\n",
              "      <td>1</td>\n",
              "      <td>60th</td>\n",
              "      <td>0</td>\n",
              "      <td>0.0</td>\n",
              "      <td>0.0</td>\n",
              "      <td>0.0</td>\n",
              "      <td>0.0</td>\n",
              "      <td>1.0</td>\n",
              "      <td>1.0</td>\n",
              "      <td>...</td>\n",
              "      <td>-0.238095</td>\n",
              "      <td>-0.818182</td>\n",
              "      <td>-0.389967</td>\n",
              "      <td>0.407558</td>\n",
              "      <td>-0.230462</td>\n",
              "      <td>0.096774</td>\n",
              "      <td>-0.242282</td>\n",
              "      <td>-0.814433</td>\n",
              "      <td>ABOVE_12</td>\n",
              "      <td>1</td>\n",
              "    </tr>\n",
              "    <tr>\n",
              "      <th>...</th>\n",
              "      <td>...</td>\n",
              "      <td>...</td>\n",
              "      <td>...</td>\n",
              "      <td>...</td>\n",
              "      <td>...</td>\n",
              "      <td>...</td>\n",
              "      <td>...</td>\n",
              "      <td>...</td>\n",
              "      <td>...</td>\n",
              "      <td>...</td>\n",
              "      <td>...</td>\n",
              "      <td>...</td>\n",
              "      <td>...</td>\n",
              "      <td>...</td>\n",
              "      <td>...</td>\n",
              "      <td>...</td>\n",
              "      <td>...</td>\n",
              "      <td>...</td>\n",
              "      <td>...</td>\n",
              "      <td>...</td>\n",
              "      <td>...</td>\n",
              "    </tr>\n",
              "    <tr>\n",
              "      <th>1920</th>\n",
              "      <td>384</td>\n",
              "      <td>0</td>\n",
              "      <td>50th</td>\n",
              "      <td>1</td>\n",
              "      <td>0.0</td>\n",
              "      <td>0.0</td>\n",
              "      <td>0.0</td>\n",
              "      <td>0.0</td>\n",
              "      <td>0.0</td>\n",
              "      <td>0.0</td>\n",
              "      <td>...</td>\n",
              "      <td>-1.000000</td>\n",
              "      <td>-1.000000</td>\n",
              "      <td>-1.000000</td>\n",
              "      <td>-1.000000</td>\n",
              "      <td>-1.000000</td>\n",
              "      <td>-1.000000</td>\n",
              "      <td>-1.000000</td>\n",
              "      <td>-1.000000</td>\n",
              "      <td>0-2</td>\n",
              "      <td>0</td>\n",
              "    </tr>\n",
              "    <tr>\n",
              "      <th>1921</th>\n",
              "      <td>384</td>\n",
              "      <td>0</td>\n",
              "      <td>50th</td>\n",
              "      <td>1</td>\n",
              "      <td>0.0</td>\n",
              "      <td>0.0</td>\n",
              "      <td>0.0</td>\n",
              "      <td>0.0</td>\n",
              "      <td>0.0</td>\n",
              "      <td>0.0</td>\n",
              "      <td>...</td>\n",
              "      <td>-1.000000</td>\n",
              "      <td>-1.000000</td>\n",
              "      <td>-1.000000</td>\n",
              "      <td>-1.000000</td>\n",
              "      <td>-1.000000</td>\n",
              "      <td>-1.000000</td>\n",
              "      <td>-1.000000</td>\n",
              "      <td>-1.000000</td>\n",
              "      <td>2-4</td>\n",
              "      <td>0</td>\n",
              "    </tr>\n",
              "    <tr>\n",
              "      <th>1922</th>\n",
              "      <td>384</td>\n",
              "      <td>0</td>\n",
              "      <td>50th</td>\n",
              "      <td>1</td>\n",
              "      <td>0.0</td>\n",
              "      <td>0.0</td>\n",
              "      <td>0.0</td>\n",
              "      <td>0.0</td>\n",
              "      <td>0.0</td>\n",
              "      <td>0.0</td>\n",
              "      <td>...</td>\n",
              "      <td>-1.000000</td>\n",
              "      <td>-1.000000</td>\n",
              "      <td>-1.000000</td>\n",
              "      <td>-1.000000</td>\n",
              "      <td>-1.000000</td>\n",
              "      <td>-1.000000</td>\n",
              "      <td>-1.000000</td>\n",
              "      <td>-1.000000</td>\n",
              "      <td>4-6</td>\n",
              "      <td>0</td>\n",
              "    </tr>\n",
              "    <tr>\n",
              "      <th>1923</th>\n",
              "      <td>384</td>\n",
              "      <td>0</td>\n",
              "      <td>50th</td>\n",
              "      <td>1</td>\n",
              "      <td>0.0</td>\n",
              "      <td>0.0</td>\n",
              "      <td>0.0</td>\n",
              "      <td>0.0</td>\n",
              "      <td>0.0</td>\n",
              "      <td>0.0</td>\n",
              "      <td>...</td>\n",
              "      <td>-1.000000</td>\n",
              "      <td>-1.000000</td>\n",
              "      <td>-1.000000</td>\n",
              "      <td>-1.000000</td>\n",
              "      <td>-1.000000</td>\n",
              "      <td>-1.000000</td>\n",
              "      <td>-1.000000</td>\n",
              "      <td>-1.000000</td>\n",
              "      <td>6-12</td>\n",
              "      <td>0</td>\n",
              "    </tr>\n",
              "    <tr>\n",
              "      <th>1924</th>\n",
              "      <td>384</td>\n",
              "      <td>0</td>\n",
              "      <td>50th</td>\n",
              "      <td>1</td>\n",
              "      <td>0.0</td>\n",
              "      <td>0.0</td>\n",
              "      <td>1.0</td>\n",
              "      <td>0.0</td>\n",
              "      <td>0.0</td>\n",
              "      <td>0.0</td>\n",
              "      <td>...</td>\n",
              "      <td>-0.547619</td>\n",
              "      <td>-0.838384</td>\n",
              "      <td>-0.701863</td>\n",
              "      <td>-0.585967</td>\n",
              "      <td>-0.763868</td>\n",
              "      <td>-0.612903</td>\n",
              "      <td>-0.551337</td>\n",
              "      <td>-0.835052</td>\n",
              "      <td>ABOVE_12</td>\n",
              "      <td>0</td>\n",
              "    </tr>\n",
              "  </tbody>\n",
              "</table>\n",
              "<p>1925 rows × 231 columns</p>\n",
              "</div>\n",
              "      <button class=\"colab-df-convert\" onclick=\"convertToInteractive('df-cf979ba1-8824-4268-854c-0e6a43e53eb8')\"\n",
              "              title=\"Convert this dataframe to an interactive table.\"\n",
              "              style=\"display:none;\">\n",
              "        \n",
              "  <svg xmlns=\"http://www.w3.org/2000/svg\" height=\"24px\"viewBox=\"0 0 24 24\"\n",
              "       width=\"24px\">\n",
              "    <path d=\"M0 0h24v24H0V0z\" fill=\"none\"/>\n",
              "    <path d=\"M18.56 5.44l.94 2.06.94-2.06 2.06-.94-2.06-.94-.94-2.06-.94 2.06-2.06.94zm-11 1L8.5 8.5l.94-2.06 2.06-.94-2.06-.94L8.5 2.5l-.94 2.06-2.06.94zm10 10l.94 2.06.94-2.06 2.06-.94-2.06-.94-.94-2.06-.94 2.06-2.06.94z\"/><path d=\"M17.41 7.96l-1.37-1.37c-.4-.4-.92-.59-1.43-.59-.52 0-1.04.2-1.43.59L10.3 9.45l-7.72 7.72c-.78.78-.78 2.05 0 2.83L4 21.41c.39.39.9.59 1.41.59.51 0 1.02-.2 1.41-.59l7.78-7.78 2.81-2.81c.8-.78.8-2.07 0-2.86zM5.41 20L4 18.59l7.72-7.72 1.47 1.35L5.41 20z\"/>\n",
              "  </svg>\n",
              "      </button>\n",
              "      \n",
              "  <style>\n",
              "    .colab-df-container {\n",
              "      display:flex;\n",
              "      flex-wrap:wrap;\n",
              "      gap: 12px;\n",
              "    }\n",
              "\n",
              "    .colab-df-convert {\n",
              "      background-color: #E8F0FE;\n",
              "      border: none;\n",
              "      border-radius: 50%;\n",
              "      cursor: pointer;\n",
              "      display: none;\n",
              "      fill: #1967D2;\n",
              "      height: 32px;\n",
              "      padding: 0 0 0 0;\n",
              "      width: 32px;\n",
              "    }\n",
              "\n",
              "    .colab-df-convert:hover {\n",
              "      background-color: #E2EBFA;\n",
              "      box-shadow: 0px 1px 2px rgba(60, 64, 67, 0.3), 0px 1px 3px 1px rgba(60, 64, 67, 0.15);\n",
              "      fill: #174EA6;\n",
              "    }\n",
              "\n",
              "    [theme=dark] .colab-df-convert {\n",
              "      background-color: #3B4455;\n",
              "      fill: #D2E3FC;\n",
              "    }\n",
              "\n",
              "    [theme=dark] .colab-df-convert:hover {\n",
              "      background-color: #434B5C;\n",
              "      box-shadow: 0px 1px 3px 1px rgba(0, 0, 0, 0.15);\n",
              "      filter: drop-shadow(0px 1px 2px rgba(0, 0, 0, 0.3));\n",
              "      fill: #FFFFFF;\n",
              "    }\n",
              "  </style>\n",
              "\n",
              "      <script>\n",
              "        const buttonEl =\n",
              "          document.querySelector('#df-cf979ba1-8824-4268-854c-0e6a43e53eb8 button.colab-df-convert');\n",
              "        buttonEl.style.display =\n",
              "          google.colab.kernel.accessAllowed ? 'block' : 'none';\n",
              "\n",
              "        async function convertToInteractive(key) {\n",
              "          const element = document.querySelector('#df-cf979ba1-8824-4268-854c-0e6a43e53eb8');\n",
              "          const dataTable =\n",
              "            await google.colab.kernel.invokeFunction('convertToInteractive',\n",
              "                                                     [key], {});\n",
              "          if (!dataTable) return;\n",
              "\n",
              "          const docLinkHtml = 'Like what you see? Visit the ' +\n",
              "            '<a target=\"_blank\" href=https://colab.research.google.com/notebooks/data_table.ipynb>data table notebook</a>'\n",
              "            + ' to learn more about interactive tables.';\n",
              "          element.innerHTML = '';\n",
              "          dataTable['output_type'] = 'display_data';\n",
              "          await google.colab.output.renderOutput(dataTable, element);\n",
              "          const docLink = document.createElement('div');\n",
              "          docLink.innerHTML = docLinkHtml;\n",
              "          element.appendChild(docLink);\n",
              "        }\n",
              "      </script>\n",
              "    </div>\n",
              "  </div>\n",
              "  "
            ]
          },
          "metadata": {},
          "execution_count": 14
        }
      ],
      "source": [
        "df"
      ]
    },
    {
      "cell_type": "code",
      "execution_count": 15,
      "metadata": {
        "colab": {
          "base_uri": "https://localhost:8080/"
        },
        "id": "NhtXK2yLgpX-",
        "outputId": "6b50e612-7409-4b40-c2d9-8b487b3ee73d"
      },
      "outputs": [
        {
          "output_type": "execute_result",
          "data": {
            "text/plain": [
              "Index(['PATIENT_VISIT_IDENTIFIER', 'AGE_ABOVE65', 'AGE_PERCENTIL', 'GENDER',\n",
              "       'DISEASE GROUPING 1', 'DISEASE GROUPING 2', 'DISEASE GROUPING 3',\n",
              "       'DISEASE GROUPING 4', 'DISEASE GROUPING 5', 'DISEASE GROUPING 6',\n",
              "       ...\n",
              "       'TEMPERATURE_DIFF', 'OXYGEN_SATURATION_DIFF',\n",
              "       'BLOODPRESSURE_DIASTOLIC_DIFF_REL', 'BLOODPRESSURE_SISTOLIC_DIFF_REL',\n",
              "       'HEART_RATE_DIFF_REL', 'RESPIRATORY_RATE_DIFF_REL',\n",
              "       'TEMPERATURE_DIFF_REL', 'OXYGEN_SATURATION_DIFF_REL', 'WINDOW', 'ICU'],\n",
              "      dtype='object', length=231)"
            ]
          },
          "metadata": {},
          "execution_count": 15
        }
      ],
      "source": [
        "df.columns"
      ]
    },
    {
      "cell_type": "code",
      "execution_count": 16,
      "metadata": {
        "colab": {
          "base_uri": "https://localhost:8080/"
        },
        "id": "Md2geV_UPlFa",
        "outputId": "e1e64549-2777-4cd5-cb3f-a5154df0c3c6"
      },
      "outputs": [
        {
          "output_type": "execute_result",
          "data": {
            "text/plain": [
              "223863"
            ]
          },
          "metadata": {},
          "execution_count": 16
        }
      ],
      "source": [
        "df.isnull().sum().sum()"
      ]
    },
    {
      "cell_type": "code",
      "execution_count": 17,
      "metadata": {
        "colab": {
          "base_uri": "https://localhost:8080/"
        },
        "id": "zFBPnjbJR4rs",
        "outputId": "897ede31-2995-4152-d410-bd3332e4304b"
      },
      "outputs": [
        {
          "output_type": "execute_result",
          "data": {
            "text/plain": [
              "(1925, 231)"
            ]
          },
          "metadata": {},
          "execution_count": 17
        }
      ],
      "source": [
        "df.shape"
      ]
    },
    {
      "cell_type": "markdown",
      "metadata": {
        "id": "c3cehIzjRq7s"
      },
      "source": [
        "**Data preprocessing and visualization**"
      ]
    },
    {
      "cell_type": "code",
      "execution_count": 18,
      "metadata": {
        "colab": {
          "base_uri": "https://localhost:8080/"
        },
        "id": "x3id0wo2uL8r",
        "outputId": "8a1b1caa-fffd-4ad2-9c98-18bb6aa37606"
      },
      "outputs": [
        {
          "output_type": "execute_result",
          "data": {
            "text/plain": [
              "PATIENT_VISIT_IDENTIFIER        int64\n",
              "AGE_ABOVE65                     int64\n",
              "AGE_PERCENTIL                  object\n",
              "GENDER                          int64\n",
              "DISEASE GROUPING 1            float64\n",
              "                               ...   \n",
              "RESPIRATORY_RATE_DIFF_REL     float64\n",
              "TEMPERATURE_DIFF_REL          float64\n",
              "OXYGEN_SATURATION_DIFF_REL    float64\n",
              "WINDOW                         object\n",
              "ICU                             int64\n",
              "Length: 231, dtype: object"
            ]
          },
          "metadata": {},
          "execution_count": 18
        }
      ],
      "source": [
        "df.dtypes"
      ]
    },
    {
      "cell_type": "code",
      "execution_count": 19,
      "metadata": {
        "colab": {
          "base_uri": "https://localhost:8080/",
          "height": 581
        },
        "id": "xnIipd2egJm1",
        "outputId": "2076ee98-666e-492a-f2c4-59f72abb2a51"
      },
      "outputs": [
        {
          "output_type": "stream",
          "name": "stdout",
          "text": [
            "Outside the ICU:  1410\n",
            "Inside the ICU:  515\n"
          ]
        },
        {
          "output_type": "display_data",
          "data": {
            "text/plain": [
              "<Figure size 1000x600 with 1 Axes>"
            ],
            "image/png": "[encoded data removed]"
          },
          "metadata": {}
        }
      ],
      "source": [
        "#Number of people in icu\n",
        "plt.figure(figsize=(10,6))\n",
        "plt.title('ICU count', fontsize=14)\n",
        "sns.countplot(df['ICU'], palette='GnBu')\n",
        "\n",
        "print('Outside the ICU: ',len(df[df['ICU']==0]))\n",
        "print('Inside the ICU: ',len(df[df['ICU']==1]))\n",
        "plt.show()"
      ]
    },
    {
      "cell_type": "code",
      "execution_count": null,
      "metadata": {
        "id": "gsEPkYEdgiWp"
      },
      "outputs": [],
      "source": [
        "#finding relation between age and admitting to icu\n",
        "plt.figure(figsize=(12,10))\n",
        "\n",
        "plt.title('Relation between age and being admitted ', fontsize=14)\n",
        "sns.countplot(df['AGE_PERCENTIL'], hue='ICU', data=df, palette='GnBu')"
      ]
    },
    {
      "cell_type": "markdown",
      "metadata": {
        "id": "XEHsw6EyXiMf"
      },
      "source": [
        "Finding the categorical columns"
      ]
    },
    {
      "cell_type": "code",
      "execution_count": 21,
      "metadata": {
        "id": "TI9hP5TH3237"
      },
      "outputs": [],
      "source": [
        "cat = df.select_dtypes(include=['object']).copy()"
      ]
    },
    {
      "cell_type": "code",
      "execution_count": 22,
      "metadata": {
        "colab": {
          "base_uri": "https://localhost:8080/"
        },
        "id": "Kr6BPkfp5tqR",
        "outputId": "9e809523-65a0-4337-8853-514dc7e6580a"
      },
      "outputs": [
        {
          "output_type": "execute_result",
          "data": {
            "text/plain": [
              "Index(['AGE_PERCENTIL', 'WINDOW'], dtype='object')"
            ]
          },
          "metadata": {},
          "execution_count": 22
        }
      ],
      "source": [
        "cat.columns"
      ]
    },
    {
      "cell_type": "code",
      "execution_count": 23,
      "metadata": {
        "colab": {
          "base_uri": "https://localhost:8080/"
        },
        "id": "8LImMZGr5zfx",
        "outputId": "afd489c3-d072-4607-ff56-cbc240f9f4e9"
      },
      "outputs": [
        {
          "output_type": "execute_result",
          "data": {
            "text/plain": [
              "20th          215\n",
              "10th          205\n",
              "30th          205\n",
              "40th          200\n",
              "70th          195\n",
              "50th          190\n",
              "80th          190\n",
              "60th          185\n",
              "Above 90th    185\n",
              "90th          155\n",
              "Name: AGE_PERCENTIL, dtype: int64"
            ]
          },
          "metadata": {},
          "execution_count": 23
        }
      ],
      "source": [
        "cat['AGE_PERCENTIL'].value_counts()"
      ]
    },
    {
      "cell_type": "code",
      "execution_count": 24,
      "metadata": {
        "colab": {
          "base_uri": "https://localhost:8080/"
        },
        "id": "-4YlzpFO6QVz",
        "outputId": "497bb781-6a88-443d-f4c4-581e11ac1f2f"
      },
      "outputs": [
        {
          "output_type": "execute_result",
          "data": {
            "text/plain": [
              "0-2         385\n",
              "2-4         385\n",
              "4-6         385\n",
              "6-12        385\n",
              "ABOVE_12    385\n",
              "Name: WINDOW, dtype: int64"
            ]
          },
          "metadata": {},
          "execution_count": 24
        }
      ],
      "source": [
        "cat['WINDOW'].value_counts()"
      ]
    },
    {
      "cell_type": "markdown",
      "metadata": {
        "id": "a42ApVw7XsAz"
      },
      "source": [
        "**Encoding categorical data**"
      ]
    },
    {
      "cell_type": "code",
      "execution_count": 25,
      "metadata": {
        "id": "CNhRAbtuS_Bq"
      },
      "outputs": [],
      "source": [
        "def cat_window(window):\n",
        "    if window == \"ABOVE_12\":\n",
        "        return(13)\n",
        "    else:\n",
        "        return(int((window.split(\"-\")[1])))\n",
        "\n",
        "\n",
        "df['WINDOW'] = df['WINDOW'].apply(lambda x: cat_window(x))"
      ]
    },
    {
      "cell_type": "code",
      "execution_count": 26,
      "metadata": {
        "colab": {
          "base_uri": "https://localhost:8080/"
        },
        "id": "VNbPPPSmTjXc",
        "outputId": "1b4da605-1e51-4b79-a21b-c09f38616922"
      },
      "outputs": [
        {
          "output_type": "execute_result",
          "data": {
            "text/plain": [
              "0        2\n",
              "1        4\n",
              "2        6\n",
              "3       12\n",
              "4       13\n",
              "        ..\n",
              "1920     2\n",
              "1921     4\n",
              "1922     6\n",
              "1923    12\n",
              "1924    13\n",
              "Name: WINDOW, Length: 1925, dtype: int64"
            ]
          },
          "metadata": {},
          "execution_count": 26
        }
      ],
      "source": [
        "df['WINDOW']"
      ]
    },
    {
      "cell_type": "code",
      "execution_count": 27,
      "metadata": {
        "id": "7ecJsTBNTo5c"
      },
      "outputs": [],
      "source": [
        "def cat_percentil(percentil):\n",
        "    if percentil == \"Above 90th\":\n",
        "        return(100)\n",
        "    else:\n",
        "        return(int(\"\".join(c for c in str(percentil) if c.isdigit())))\n",
        "\n",
        "        \n",
        "\n",
        "\n",
        "# checking AGE_PERCENTIL \n",
        "df['AGE_PERCENTIL'] = df['AGE_PERCENTIL'].apply(lambda x: cat_percentil(x))"
      ]
    },
    {
      "cell_type": "code",
      "execution_count": 28,
      "metadata": {
        "colab": {
          "base_uri": "https://localhost:8080/"
        },
        "id": "EhPAos7lTvDV",
        "outputId": "e7e4b916-2998-4c31-fcec-5f7113d47956"
      },
      "outputs": [
        {
          "output_type": "execute_result",
          "data": {
            "text/plain": [
              "0       60\n",
              "1       60\n",
              "2       60\n",
              "3       60\n",
              "4       60\n",
              "        ..\n",
              "1920    50\n",
              "1921    50\n",
              "1922    50\n",
              "1923    50\n",
              "1924    50\n",
              "Name: AGE_PERCENTIL, Length: 1925, dtype: int64"
            ]
          },
          "metadata": {},
          "execution_count": 28
        }
      ],
      "source": [
        "df['AGE_PERCENTIL']"
      ]
    },
    {
      "cell_type": "markdown",
      "metadata": {
        "id": "OnXNY9O2XwLQ"
      },
      "source": [
        "**Handling nulls**"
      ]
    },
    {
      "cell_type": "code",
      "execution_count": 29,
      "metadata": {
        "colab": {
          "base_uri": "https://localhost:8080/"
        },
        "id": "EZ7lFMNuTw30",
        "outputId": "6b702e64-abd3-4654-9d96-f5fc634bbcaf"
      },
      "outputs": [
        {
          "output_type": "stream",
          "name": "stdout",
          "text": [
            "Nulls: 223863\n"
          ]
        }
      ],
      "source": [
        "print(\"Nulls:\",df.isnull().sum().sum())"
      ]
    },
    {
      "cell_type": "code",
      "execution_count": 30,
      "metadata": {
        "id": "uf-QI0BBW97d"
      },
      "outputs": [],
      "source": [
        "#using interpolate to remove nulls\n",
        "df.interpolate(inplace = True)"
      ]
    },
    {
      "cell_type": "code",
      "execution_count": 31,
      "metadata": {
        "id": "dMRaC2F2XVrq"
      },
      "outputs": [],
      "source": [
        "df.dropna(inplace = True)"
      ]
    },
    {
      "cell_type": "code",
      "execution_count": 32,
      "metadata": {
        "colab": {
          "base_uri": "https://localhost:8080/"
        },
        "id": "I5teuPW8XZNH",
        "outputId": "1420bb25-5ed5-498b-f86c-74e1c2fdeda8"
      },
      "outputs": [
        {
          "output_type": "execute_result",
          "data": {
            "text/plain": [
              "0"
            ]
          },
          "metadata": {},
          "execution_count": 32
        }
      ],
      "source": [
        "df.isnull().sum().sum()"
      ]
    },
    {
      "cell_type": "code",
      "execution_count": 33,
      "metadata": {
        "colab": {
          "base_uri": "https://localhost:8080/"
        },
        "id": "zh-H1htMXboJ",
        "outputId": "a5851cea-5aab-4b64-8979-8b12f6cf87b4"
      },
      "outputs": [
        {
          "output_type": "stream",
          "name": "stdout",
          "text": [
            "Shape: (1923, 231)\n"
          ]
        }
      ],
      "source": [
        "#final shape of dataset\n",
        "print(\"Shape:\",df.shape)"
      ]
    },
    {
      "cell_type": "markdown",
      "metadata": {
        "id": "YAqZ0LkizXnc"
      },
      "source": [
        "**Feature Selection**"
      ]
    },
    {
      "cell_type": "markdown",
      "metadata": {
        "id": "DK6ll7W1N7gt"
      },
      "source": [
        "*Dropping columns using correlation*"
      ]
    },
    {
      "cell_type": "code",
      "execution_count": 34,
      "metadata": {
        "colab": {
          "base_uri": "https://localhost:8080/",
          "height": 985
        },
        "id": "kl7DQX0UAkGH",
        "outputId": "bc613ae7-96d6-4af1-9b1d-aeb79e962dcd"
      },
      "outputs": [
        {
          "output_type": "execute_result",
          "data": {
            "text/plain": [
              "<Axes: >"
            ]
          },
          "metadata": {},
          "execution_count": 34
        },
        {
          "output_type": "display_data",
          "data": {
            "text/plain": [
              "<Figure size 900x900 with 2 Axes>"
            ],
            "image/png": "[encoded data removed]"
          },
          "metadata": {}
        }
      ],
      "source": [
        "plt.figure(figsize=(9,9))\n",
        "sns.heatmap(df.corr())"
      ]
    },
    {
      "cell_type": "code",
      "execution_count": 35,
      "metadata": {
        "colab": {
          "base_uri": "https://localhost:8080/",
          "height": 522
        },
        "id": "2-YwSTLeME3x",
        "outputId": "54f568cf-cd52-47b7-ac27-0392d3f85ac2"
      },
      "outputs": [
        {
          "output_type": "execute_result",
          "data": {
            "text/plain": [
              "                            PATIENT_VISIT_IDENTIFIER  AGE_ABOVE65  \\\n",
              "PATIENT_VISIT_IDENTIFIER                    1.000000    -0.028872   \n",
              "AGE_ABOVE65                                -0.028872     1.000000   \n",
              "AGE_PERCENTIL                               0.021119     0.869228   \n",
              "GENDER                                      0.058507     0.050638   \n",
              "DISEASE GROUPING 1                          0.075817     0.268034   \n",
              "...                                              ...          ...   \n",
              "RESPIRATORY_RATE_DIFF_REL                  -0.027428     0.095535   \n",
              "TEMPERATURE_DIFF_REL                       -0.011715     0.074056   \n",
              "OXYGEN_SATURATION_DIFF_REL                 -0.055232     0.071970   \n",
              "WINDOW                                     -0.001816     0.001120   \n",
              "ICU                                        -0.048717     0.213035   \n",
              "\n",
              "                            AGE_PERCENTIL    GENDER  DISEASE GROUPING 1  \\\n",
              "PATIENT_VISIT_IDENTIFIER         0.021119  0.058507            0.075817   \n",
              "AGE_ABOVE65                      0.869228  0.050638            0.268034   \n",
              "AGE_PERCENTIL                    1.000000  0.074644            0.297554   \n",
              "GENDER                           0.074644  1.000000            0.038869   \n",
              "DISEASE GROUPING 1               0.297554  0.038869            1.000000   \n",
              "...                                   ...       ...                 ...   \n",
              "RESPIRATORY_RATE_DIFF_REL        0.106423 -0.023034            0.055925   \n",
              "TEMPERATURE_DIFF_REL             0.082059 -0.048970            0.047087   \n",
              "OXYGEN_SATURATION_DIFF_REL       0.051973 -0.016771            0.003226   \n",
              "WINDOW                           0.000249 -0.000802            0.034093   \n",
              "ICU                              0.238239 -0.066056            0.061613   \n",
              "\n",
              "                            DISEASE GROUPING 2  DISEASE GROUPING 3  \\\n",
              "PATIENT_VISIT_IDENTIFIER              0.044603            0.040428   \n",
              "AGE_ABOVE65                           0.068034            0.158659   \n",
              "AGE_PERCENTIL                         0.076593            0.132523   \n",
              "GENDER                               -0.032206           -0.074060   \n",
              "DISEASE GROUPING 1                    0.194173            0.240525   \n",
              "...                                        ...                 ...   \n",
              "RESPIRATORY_RATE_DIFF_REL             0.084179            0.089687   \n",
              "TEMPERATURE_DIFF_REL                  0.094731            0.086383   \n",
              "OXYGEN_SATURATION_DIFF_REL            0.074079            0.053021   \n",
              "WINDOW                                0.036181            0.046926   \n",
              "ICU                                   0.082018            0.077704   \n",
              "\n",
              "                            DISEASE GROUPING 4  DISEASE GROUPING 5  \\\n",
              "PATIENT_VISIT_IDENTIFIER             -0.017318            0.013963   \n",
              "AGE_ABOVE65                           0.016887            0.303939   \n",
              "AGE_PERCENTIL                         0.003761            0.334598   \n",
              "GENDER                               -0.054430           -0.019711   \n",
              "DISEASE GROUPING 1                    0.010704            0.335059   \n",
              "...                                        ...                 ...   \n",
              "RESPIRATORY_RATE_DIFF_REL             0.022102            0.079837   \n",
              "TEMPERATURE_DIFF_REL                  0.014444            0.053211   \n",
              "OXYGEN_SATURATION_DIFF_REL            0.011559            0.019419   \n",
              "WINDOW                                0.008243            0.028031   \n",
              "ICU                                   0.057572            0.090513   \n",
              "\n",
              "                            DISEASE GROUPING 6  ...  TEMPERATURE_DIFF  \\\n",
              "PATIENT_VISIT_IDENTIFIER              0.022760  ...         -0.012243   \n",
              "AGE_ABOVE65                          -0.020421  ...          0.072866   \n",
              "AGE_PERCENTIL                        -0.055577  ...          0.080719   \n",
              "GENDER                               -0.012844  ...         -0.049697   \n",
              "DISEASE GROUPING 1                    0.172116  ...          0.045871   \n",
              "...                                        ...  ...               ...   \n",
              "RESPIRATORY_RATE_DIFF_REL             0.055683  ...          0.772791   \n",
              "TEMPERATURE_DIFF_REL                  0.069103  ...          0.999888   \n",
              "OXYGEN_SATURATION_DIFF_REL            0.053907  ...          0.520216   \n",
              "WINDOW                                0.052697  ...          0.316734   \n",
              "ICU                                  -0.003188  ...          0.232564   \n",
              "\n",
              "                            OXYGEN_SATURATION_DIFF  \\\n",
              "PATIENT_VISIT_IDENTIFIER                 -0.055174   \n",
              "AGE_ABOVE65                               0.070677   \n",
              "AGE_PERCENTIL                             0.050838   \n",
              "GENDER                                   -0.016291   \n",
              "DISEASE GROUPING 1                        0.003059   \n",
              "...                                            ...   \n",
              "RESPIRATORY_RATE_DIFF_REL                 0.535952   \n",
              "TEMPERATURE_DIFF_REL                      0.519855   \n",
              "OXYGEN_SATURATION_DIFF_REL                0.999842   \n",
              "WINDOW                                    0.169222   \n",
              "ICU                                       0.182271   \n",
              "\n",
              "                            BLOODPRESSURE_DIASTOLIC_DIFF_REL  \\\n",
              "PATIENT_VISIT_IDENTIFIER                           -0.017114   \n",
              "AGE_ABOVE65                                         0.089112   \n",
              "AGE_PERCENTIL                                       0.100409   \n",
              "GENDER                                              0.005639   \n",
              "DISEASE GROUPING 1                                  0.055689   \n",
              "...                                                      ...   \n",
              "RESPIRATORY_RATE_DIFF_REL                           0.776503   \n",
              "TEMPERATURE_DIFF_REL                                0.790734   \n",
              "OXYGEN_SATURATION_DIFF_REL                          0.538049   \n",
              "WINDOW                                              0.303148   \n",
              "ICU                                                 0.265537   \n",
              "\n",
              "                            BLOODPRESSURE_SISTOLIC_DIFF_REL  \\\n",
              "PATIENT_VISIT_IDENTIFIER                          -0.029878   \n",
              "AGE_ABOVE65                                        0.101394   \n",
              "AGE_PERCENTIL                                      0.115340   \n",
              "GENDER                                             0.000003   \n",
              "DISEASE GROUPING 1                                 0.062434   \n",
              "...                                                     ...   \n",
              "RESPIRATORY_RATE_DIFF_REL                          0.805231   \n",
              "TEMPERATURE_DIFF_REL                               0.830297   \n",
              "OXYGEN_SATURATION_DIFF_REL                         0.556606   \n",
              "WINDOW                                             0.324350   \n",
              "ICU                                                0.294531   \n",
              "\n",
              "                            HEART_RATE_DIFF_REL  RESPIRATORY_RATE_DIFF_REL  \\\n",
              "PATIENT_VISIT_IDENTIFIER              -0.055699                  -0.027428   \n",
              "AGE_ABOVE65                            0.036752                   0.095535   \n",
              "AGE_PERCENTIL                          0.031007                   0.106423   \n",
              "GENDER                                -0.042720                  -0.023034   \n",
              "DISEASE GROUPING 1                     0.052607                   0.055925   \n",
              "...                                         ...                        ...   \n",
              "RESPIRATORY_RATE_DIFF_REL              0.759707                   1.000000   \n",
              "TEMPERATURE_DIFF_REL                   0.809250                   0.773362   \n",
              "OXYGEN_SATURATION_DIFF_REL             0.530451                   0.535973   \n",
              "WINDOW                                 0.309540                   0.280020   \n",
              "ICU                                    0.225882                   0.360440   \n",
              "\n",
              "                            TEMPERATURE_DIFF_REL  OXYGEN_SATURATION_DIFF_REL  \\\n",
              "PATIENT_VISIT_IDENTIFIER               -0.011715                   -0.055232   \n",
              "AGE_ABOVE65                             0.074056                    0.071970   \n",
              "AGE_PERCENTIL                           0.082059                    0.051973   \n",
              "GENDER                                 -0.048970                   -0.016771   \n",
              "DISEASE GROUPING 1                      0.047087                    0.003226   \n",
              "...                                          ...                         ...   \n",
              "RESPIRATORY_RATE_DIFF_REL               0.773362                    0.535973   \n",
              "TEMPERATURE_DIFF_REL                    1.000000                    0.520109   \n",
              "OXYGEN_SATURATION_DIFF_REL              0.520109                    1.000000   \n",
              "WINDOW                                  0.316675                    0.169303   \n",
              "ICU                                     0.233420                    0.183340   \n",
              "\n",
              "                              WINDOW       ICU  \n",
              "PATIENT_VISIT_IDENTIFIER   -0.001816 -0.048717  \n",
              "AGE_ABOVE65                 0.001120  0.213035  \n",
              "AGE_PERCENTIL               0.000249  0.238239  \n",
              "GENDER                     -0.000802 -0.066056  \n",
              "DISEASE GROUPING 1          0.034093  0.061613  \n",
              "...                              ...       ...  \n",
              "RESPIRATORY_RATE_DIFF_REL   0.280020  0.360440  \n",
              "TEMPERATURE_DIFF_REL        0.316675  0.233420  \n",
              "OXYGEN_SATURATION_DIFF_REL  0.169303  0.183340  \n",
              "WINDOW                      1.000000  0.316412  \n",
              "ICU                         0.316412  1.000000  \n",
              "\n",
              "[231 rows x 231 columns]"
            ],
            "text/html": [
              "\n",
              "  <div id=\"df-4fe8cf6b-4561-4883-a9f6-f2043ffa8362\">\n",
              "    <div class=\"colab-df-container\">\n",
              "      <div>\n",
              "<style scoped>\n",
              "    .dataframe tbody tr th:only-of-type {\n",
              "        vertical-align: middle;\n",
              "    }\n",
              "\n",
              "    .dataframe tbody tr th {\n",
              "        vertical-align: top;\n",
              "    }\n",
              "\n",
              "    .dataframe thead th {\n",
              "        text-align: right;\n",
              "    }\n",
              "</style>\n",
              "<table border=\"1\" class=\"dataframe\">\n",
              "  <thead>\n",
              "    <tr style=\"text-align: right;\">\n",
              "      <th></th>\n",
              "      <th>PATIENT_VISIT_IDENTIFIER</th>\n",
              "      <th>AGE_ABOVE65</th>\n",
              "      <th>AGE_PERCENTIL</th>\n",
              "      <th>GENDER</th>\n",
              "      <th>DISEASE GROUPING 1</th>\n",
              "      <th>DISEASE GROUPING 2</th>\n",
              "      <th>DISEASE GROUPING 3</th>\n",
              "      <th>DISEASE GROUPING 4</th>\n",
              "      <th>DISEASE GROUPING 5</th>\n",
              "      <th>DISEASE GROUPING 6</th>\n",
              "      <th>...</th>\n",
              "      <th>TEMPERATURE_DIFF</th>\n",
              "      <th>OXYGEN_SATURATION_DIFF</th>\n",
              "      <th>BLOODPRESSURE_DIASTOLIC_DIFF_REL</th>\n",
              "      <th>BLOODPRESSURE_SISTOLIC_DIFF_REL</th>\n",
              "      <th>HEART_RATE_DIFF_REL</th>\n",
              "      <th>RESPIRATORY_RATE_DIFF_REL</th>\n",
              "      <th>TEMPERATURE_DIFF_REL</th>\n",
              "      <th>OXYGEN_SATURATION_DIFF_REL</th>\n",
              "      <th>WINDOW</th>\n",
              "      <th>ICU</th>\n",
              "    </tr>\n",
              "  </thead>\n",
              "  <tbody>\n",
              "    <tr>\n",
              "      <th>PATIENT_VISIT_IDENTIFIER</th>\n",
              "      <td>1.000000</td>\n",
              "      <td>-0.028872</td>\n",
              "      <td>0.021119</td>\n",
              "      <td>0.058507</td>\n",
              "      <td>0.075817</td>\n",
              "      <td>0.044603</td>\n",
              "      <td>0.040428</td>\n",
              "      <td>-0.017318</td>\n",
              "      <td>0.013963</td>\n",
              "      <td>0.022760</td>\n",
              "      <td>...</td>\n",
              "      <td>-0.012243</td>\n",
              "      <td>-0.055174</td>\n",
              "      <td>-0.017114</td>\n",
              "      <td>-0.029878</td>\n",
              "      <td>-0.055699</td>\n",
              "      <td>-0.027428</td>\n",
              "      <td>-0.011715</td>\n",
              "      <td>-0.055232</td>\n",
              "      <td>-0.001816</td>\n",
              "      <td>-0.048717</td>\n",
              "    </tr>\n",
              "    <tr>\n",
              "      <th>AGE_ABOVE65</th>\n",
              "      <td>-0.028872</td>\n",
              "      <td>1.000000</td>\n",
              "      <td>0.869228</td>\n",
              "      <td>0.050638</td>\n",
              "      <td>0.268034</td>\n",
              "      <td>0.068034</td>\n",
              "      <td>0.158659</td>\n",
              "      <td>0.016887</td>\n",
              "      <td>0.303939</td>\n",
              "      <td>-0.020421</td>\n",
              "      <td>...</td>\n",
              "      <td>0.072866</td>\n",
              "      <td>0.070677</td>\n",
              "      <td>0.089112</td>\n",
              "      <td>0.101394</td>\n",
              "      <td>0.036752</td>\n",
              "      <td>0.095535</td>\n",
              "      <td>0.074056</td>\n",
              "      <td>0.071970</td>\n",
              "      <td>0.001120</td>\n",
              "      <td>0.213035</td>\n",
              "    </tr>\n",
              "    <tr>\n",
              "      <th>AGE_PERCENTIL</th>\n",
              "      <td>0.021119</td>\n",
              "      <td>0.869228</td>\n",
              "      <td>1.000000</td>\n",
              "      <td>0.074644</td>\n",
              "      <td>0.297554</td>\n",
              "      <td>0.076593</td>\n",
              "      <td>0.132523</td>\n",
              "      <td>0.003761</td>\n",
              "      <td>0.334598</td>\n",
              "      <td>-0.055577</td>\n",
              "      <td>...</td>\n",
              "      <td>0.080719</td>\n",
              "      <td>0.050838</td>\n",
              "      <td>0.100409</td>\n",
              "      <td>0.115340</td>\n",
              "      <td>0.031007</td>\n",
              "      <td>0.106423</td>\n",
              "      <td>0.082059</td>\n",
              "      <td>0.051973</td>\n",
              "      <td>0.000249</td>\n",
              "      <td>0.238239</td>\n",
              "    </tr>\n",
              "    <tr>\n",
              "      <th>GENDER</th>\n",
              "      <td>0.058507</td>\n",
              "      <td>0.050638</td>\n",
              "      <td>0.074644</td>\n",
              "      <td>1.000000</td>\n",
              "      <td>0.038869</td>\n",
              "      <td>-0.032206</td>\n",
              "      <td>-0.074060</td>\n",
              "      <td>-0.054430</td>\n",
              "      <td>-0.019711</td>\n",
              "      <td>-0.012844</td>\n",
              "      <td>...</td>\n",
              "      <td>-0.049697</td>\n",
              "      <td>-0.016291</td>\n",
              "      <td>0.005639</td>\n",
              "      <td>0.000003</td>\n",
              "      <td>-0.042720</td>\n",
              "      <td>-0.023034</td>\n",
              "      <td>-0.048970</td>\n",
              "      <td>-0.016771</td>\n",
              "      <td>-0.000802</td>\n",
              "      <td>-0.066056</td>\n",
              "    </tr>\n",
              "    <tr>\n",
              "      <th>DISEASE GROUPING 1</th>\n",
              "      <td>0.075817</td>\n",
              "      <td>0.268034</td>\n",
              "      <td>0.297554</td>\n",
              "      <td>0.038869</td>\n",
              "      <td>1.000000</td>\n",
              "      <td>0.194173</td>\n",
              "      <td>0.240525</td>\n",
              "      <td>0.010704</td>\n",
              "      <td>0.335059</td>\n",
              "      <td>0.172116</td>\n",
              "      <td>...</td>\n",
              "      <td>0.045871</td>\n",
              "      <td>0.003059</td>\n",
              "      <td>0.055689</td>\n",
              "      <td>0.062434</td>\n",
              "      <td>0.052607</td>\n",
              "      <td>0.055925</td>\n",
              "      <td>0.047087</td>\n",
              "      <td>0.003226</td>\n",
              "      <td>0.034093</td>\n",
              "      <td>0.061613</td>\n",
              "    </tr>\n",
              "    <tr>\n",
              "      <th>...</th>\n",
              "      <td>...</td>\n",
              "      <td>...</td>\n",
              "      <td>...</td>\n",
              "      <td>...</td>\n",
              "      <td>...</td>\n",
              "      <td>...</td>\n",
              "      <td>...</td>\n",
              "      <td>...</td>\n",
              "      <td>...</td>\n",
              "      <td>...</td>\n",
              "      <td>...</td>\n",
              "      <td>...</td>\n",
              "      <td>...</td>\n",
              "      <td>...</td>\n",
              "      <td>...</td>\n",
              "      <td>...</td>\n",
              "      <td>...</td>\n",
              "      <td>...</td>\n",
              "      <td>...</td>\n",
              "      <td>...</td>\n",
              "      <td>...</td>\n",
              "    </tr>\n",
              "    <tr>\n",
              "      <th>RESPIRATORY_RATE_DIFF_REL</th>\n",
              "      <td>-0.027428</td>\n",
              "      <td>0.095535</td>\n",
              "      <td>0.106423</td>\n",
              "      <td>-0.023034</td>\n",
              "      <td>0.055925</td>\n",
              "      <td>0.084179</td>\n",
              "      <td>0.089687</td>\n",
              "      <td>0.022102</td>\n",
              "      <td>0.079837</td>\n",
              "      <td>0.055683</td>\n",
              "      <td>...</td>\n",
              "      <td>0.772791</td>\n",
              "      <td>0.535952</td>\n",
              "      <td>0.776503</td>\n",
              "      <td>0.805231</td>\n",
              "      <td>0.759707</td>\n",
              "      <td>1.000000</td>\n",
              "      <td>0.773362</td>\n",
              "      <td>0.535973</td>\n",
              "      <td>0.280020</td>\n",
              "      <td>0.360440</td>\n",
              "    </tr>\n",
              "    <tr>\n",
              "      <th>TEMPERATURE_DIFF_REL</th>\n",
              "      <td>-0.011715</td>\n",
              "      <td>0.074056</td>\n",
              "      <td>0.082059</td>\n",
              "      <td>-0.048970</td>\n",
              "      <td>0.047087</td>\n",
              "      <td>0.094731</td>\n",
              "      <td>0.086383</td>\n",
              "      <td>0.014444</td>\n",
              "      <td>0.053211</td>\n",
              "      <td>0.069103</td>\n",
              "      <td>...</td>\n",
              "      <td>0.999888</td>\n",
              "      <td>0.519855</td>\n",
              "      <td>0.790734</td>\n",
              "      <td>0.830297</td>\n",
              "      <td>0.809250</td>\n",
              "      <td>0.773362</td>\n",
              "      <td>1.000000</td>\n",
              "      <td>0.520109</td>\n",
              "      <td>0.316675</td>\n",
              "      <td>0.233420</td>\n",
              "    </tr>\n",
              "    <tr>\n",
              "      <th>OXYGEN_SATURATION_DIFF_REL</th>\n",
              "      <td>-0.055232</td>\n",
              "      <td>0.071970</td>\n",
              "      <td>0.051973</td>\n",
              "      <td>-0.016771</td>\n",
              "      <td>0.003226</td>\n",
              "      <td>0.074079</td>\n",
              "      <td>0.053021</td>\n",
              "      <td>0.011559</td>\n",
              "      <td>0.019419</td>\n",
              "      <td>0.053907</td>\n",
              "      <td>...</td>\n",
              "      <td>0.520216</td>\n",
              "      <td>0.999842</td>\n",
              "      <td>0.538049</td>\n",
              "      <td>0.556606</td>\n",
              "      <td>0.530451</td>\n",
              "      <td>0.535973</td>\n",
              "      <td>0.520109</td>\n",
              "      <td>1.000000</td>\n",
              "      <td>0.169303</td>\n",
              "      <td>0.183340</td>\n",
              "    </tr>\n",
              "    <tr>\n",
              "      <th>WINDOW</th>\n",
              "      <td>-0.001816</td>\n",
              "      <td>0.001120</td>\n",
              "      <td>0.000249</td>\n",
              "      <td>-0.000802</td>\n",
              "      <td>0.034093</td>\n",
              "      <td>0.036181</td>\n",
              "      <td>0.046926</td>\n",
              "      <td>0.008243</td>\n",
              "      <td>0.028031</td>\n",
              "      <td>0.052697</td>\n",
              "      <td>...</td>\n",
              "      <td>0.316734</td>\n",
              "      <td>0.169222</td>\n",
              "      <td>0.303148</td>\n",
              "      <td>0.324350</td>\n",
              "      <td>0.309540</td>\n",
              "      <td>0.280020</td>\n",
              "      <td>0.316675</td>\n",
              "      <td>0.169303</td>\n",
              "      <td>1.000000</td>\n",
              "      <td>0.316412</td>\n",
              "    </tr>\n",
              "    <tr>\n",
              "      <th>ICU</th>\n",
              "      <td>-0.048717</td>\n",
              "      <td>0.213035</td>\n",
              "      <td>0.238239</td>\n",
              "      <td>-0.066056</td>\n",
              "      <td>0.061613</td>\n",
              "      <td>0.082018</td>\n",
              "      <td>0.077704</td>\n",
              "      <td>0.057572</td>\n",
              "      <td>0.090513</td>\n",
              "      <td>-0.003188</td>\n",
              "      <td>...</td>\n",
              "      <td>0.232564</td>\n",
              "      <td>0.182271</td>\n",
              "      <td>0.265537</td>\n",
              "      <td>0.294531</td>\n",
              "      <td>0.225882</td>\n",
              "      <td>0.360440</td>\n",
              "      <td>0.233420</td>\n",
              "      <td>0.183340</td>\n",
              "      <td>0.316412</td>\n",
              "      <td>1.000000</td>\n",
              "    </tr>\n",
              "  </tbody>\n",
              "</table>\n",
              "<p>231 rows × 231 columns</p>\n",
              "</div>\n",
              "      <button class=\"colab-df-convert\" onclick=\"convertToInteractive('df-4fe8cf6b-4561-4883-a9f6-f2043ffa8362')\"\n",
              "              title=\"Convert this dataframe to an interactive table.\"\n",
              "              style=\"display:none;\">\n",
              "        \n",
              "  <svg xmlns=\"http://www.w3.org/2000/svg\" height=\"24px\"viewBox=\"0 0 24 24\"\n",
              "       width=\"24px\">\n",
              "    <path d=\"M0 0h24v24H0V0z\" fill=\"none\"/>\n",
              "    <path d=\"M18.56 5.44l.94 2.06.94-2.06 2.06-.94-2.06-.94-.94-2.06-.94 2.06-2.06.94zm-11 1L8.5 8.5l.94-2.06 2.06-.94-2.06-.94L8.5 2.5l-.94 2.06-2.06.94zm10 10l.94 2.06.94-2.06 2.06-.94-2.06-.94-.94-2.06-.94 2.06-2.06.94z\"/><path d=\"M17.41 7.96l-1.37-1.37c-.4-.4-.92-.59-1.43-.59-.52 0-1.04.2-1.43.59L10.3 9.45l-7.72 7.72c-.78.78-.78 2.05 0 2.83L4 21.41c.39.39.9.59 1.41.59.51 0 1.02-.2 1.41-.59l7.78-7.78 2.81-2.81c.8-.78.8-2.07 0-2.86zM5.41 20L4 18.59l7.72-7.72 1.47 1.35L5.41 20z\"/>\n",
              "  </svg>\n",
              "      </button>\n",
              "      \n",
              "  <style>\n",
              "    .colab-df-container {\n",
              "      display:flex;\n",
              "      flex-wrap:wrap;\n",
              "      gap: 12px;\n",
              "    }\n",
              "\n",
              "    .colab-df-convert {\n",
              "      background-color: #E8F0FE;\n",
              "      border: none;\n",
              "      border-radius: 50%;\n",
              "      cursor: pointer;\n",
              "      display: none;\n",
              "      fill: #1967D2;\n",
              "      height: 32px;\n",
              "      padding: 0 0 0 0;\n",
              "      width: 32px;\n",
              "    }\n",
              "\n",
              "    .colab-df-convert:hover {\n",
              "      background-color: #E2EBFA;\n",
              "      box-shadow: 0px 1px 2px rgba(60, 64, 67, 0.3), 0px 1px 3px 1px rgba(60, 64, 67, 0.15);\n",
              "      fill: #174EA6;\n",
              "    }\n",
              "\n",
              "    [theme=dark] .colab-df-convert {\n",
              "      background-color: #3B4455;\n",
              "      fill: #D2E3FC;\n",
              "    }\n",
              "\n",
              "    [theme=dark] .colab-df-convert:hover {\n",
              "      background-color: #434B5C;\n",
              "      box-shadow: 0px 1px 3px 1px rgba(0, 0, 0, 0.15);\n",
              "      filter: drop-shadow(0px 1px 2px rgba(0, 0, 0, 0.3));\n",
              "      fill: #FFFFFF;\n",
              "    }\n",
              "  </style>\n",
              "\n",
              "      <script>\n",
              "        const buttonEl =\n",
              "          document.querySelector('#df-4fe8cf6b-4561-4883-a9f6-f2043ffa8362 button.colab-df-convert');\n",
              "        buttonEl.style.display =\n",
              "          google.colab.kernel.accessAllowed ? 'block' : 'none';\n",
              "\n",
              "        async function convertToInteractive(key) {\n",
              "          const element = document.querySelector('#df-4fe8cf6b-4561-4883-a9f6-f2043ffa8362');\n",
              "          const dataTable =\n",
              "            await google.colab.kernel.invokeFunction('convertToInteractive',\n",
              "                                                     [key], {});\n",
              "          if (!dataTable) return;\n",
              "\n",
              "          const docLinkHtml = 'Like what you see? Visit the ' +\n",
              "            '<a target=\"_blank\" href=https://colab.research.google.com/notebooks/data_table.ipynb>data table notebook</a>'\n",
              "            + ' to learn more about interactive tables.';\n",
              "          element.innerHTML = '';\n",
              "          dataTable['output_type'] = 'display_data';\n",
              "          await google.colab.output.renderOutput(dataTable, element);\n",
              "          const docLink = document.createElement('div');\n",
              "          docLink.innerHTML = docLinkHtml;\n",
              "          element.appendChild(docLink);\n",
              "        }\n",
              "      </script>\n",
              "    </div>\n",
              "  </div>\n",
              "  "
            ]
          },
          "metadata": {},
          "execution_count": 35
        }
      ],
      "source": [
        "df.corr()"
      ]
    },
    {
      "cell_type": "code",
      "execution_count": 36,
      "metadata": {
        "id": "GfiBqLm5KicH"
      },
      "outputs": [],
      "source": [
        "\n",
        "def correlate(ds,threshold):\n",
        "  col_corr = set()\n",
        "  cor_matrix = ds.corr()\n",
        "  for i in range(len(cor_matrix.columns)):\n",
        "    for j in range(i):\n",
        "      if abs(cor_matrix.iloc[i,j]) > threshold:\n",
        "        col_corr.add(cor_matrix.columns[i])\n",
        "  return col_corr"
      ]
    },
    {
      "cell_type": "code",
      "execution_count": 37,
      "metadata": {
        "colab": {
          "base_uri": "https://localhost:8080/"
        },
        "id": "CShpgDq0KmxK",
        "outputId": "9491ed50-d0ab-4eac-c0d4-3e8d18de64a7"
      },
      "outputs": [
        {
          "output_type": "stream",
          "name": "stdout",
          "text": [
            "{'HEMATOCRITE_MIN', 'PC02_VENOUS_MAX', 'SODIUM_MAX', 'PLATELETS_MEAN', 'TGO_MAX', 'SAT02_VENOUS_MAX', 'PH_ARTERIAL_MAX', 'GLUCOSE_MAX', 'BILLIRUBIN_MEAN', 'RESPIRATORY_RATE_MEDIAN', 'P02_VENOUS_MEAN', 'BLOODPRESSURE_SISTOLIC_DIFF', 'HEMOGLOBIN_MAX', 'PH_ARTERIAL_MEAN', 'TTPA_MIN', 'CREATININ_MAX', 'HEART_RATE_MEDIAN', 'UREA_MEAN', 'CREATININ_MEAN', 'INR_MIN', 'PC02_VENOUS_MEAN', 'SAT02_VENOUS_MIN', 'BILLIRUBIN_MIN', 'BIC_ARTERIAL_MAX', 'BLAST_MIN', 'BLOODPRESSURE_SISTOLIC_DIFF_REL', 'BE_ARTERIAL_MAX', 'PLATELETS_MAX', 'LINFOCITOS_MIN', 'LEUKOCYTES_MEAN', 'CREATININ_MIN', 'OXYGEN_SATURATION_DIFF', 'INR_MEAN', 'TGP_MEDIAN', 'PCR_MEAN', 'DIMER_MAX', 'PC02_ARTERIAL_MEAN', 'BLOODPRESSURE_DIASTOLIC_MEDIAN', 'TTPA_MEAN', 'HEMOGLOBIN_MIN', 'HEMOGLOBIN_MEAN', 'ALBUMIN_MEAN', 'FFA_MEAN', 'TGP_MAX', 'GGT_MEAN', 'GLUCOSE_MIN', 'TGO_MEAN', 'HEART_RATE_DIFF_REL', 'BILLIRUBIN_MAX', 'CALCIUM_MAX', 'LACTATE_MEAN', 'LINFOCITOS_MEAN', 'CALCIUM_MEAN', 'SODIUM_MEAN', 'NEUTROPHILES_MEDIAN', 'BIC_VENOUS_MAX', 'PC02_ARTERIAL_MIN', 'HEMATOCRITE_MEAN', 'DIMER_MIN', 'SAT02_ARTERIAL_MIN', 'P02_ARTERIAL_MIN', 'TGP_MIN', 'FFA_MAX', 'UREA_MAX', 'TGO_MIN', 'BIC_VENOUS_MIN', 'HEMATOCRITE_MAX', 'UREA_MIN', 'ALBUMIN_MIN', 'GLUCOSE_MEAN', 'POTASSIUM_MIN', 'NEUTROPHILES_MEAN', 'BLAST_MAX', 'TGP_MEAN', 'BIC_ARTERIAL_MIN', 'LACTATE_MIN', 'ALBUMIN_MAX', 'PCR_MAX', 'P02_ARTERIAL_MAX', 'LEUKOCYTES_MIN', 'BE_VENOUS_MAX', 'SAT02_VENOUS_MEAN', 'BE_ARTERIAL_MIN', 'NEUTROPHILES_MIN', 'BLOODPRESSURE_SISTOLIC_MEDIAN', 'TEMPERATURE_DIFF_REL', 'BLOODPRESSURE_DIASTOLIC_DIFF_REL', 'NEUTROPHILES_MAX', 'LACTATE_MAX', 'TTPA_MAX', 'PH_VENOUS_MIN', 'BIC_ARTERIAL_MEAN', 'BIC_VENOUS_MEAN', 'PH_VENOUS_MAX', 'HEMOGLOBIN_MEDIAN', 'PCR_MIN', 'BLAST_MEAN', 'BE_VENOUS_MIN', 'CALCIUM_MIN', 'LEUKOCYTES_MAX', 'PH_VENOUS_MEAN', 'DIMER_MEAN', 'POTASSIUM_MAX', 'P02_VENOUS_MIN', 'GGT_MIN', 'P02_VENOUS_MAX', 'INR_MAX', 'SAT02_ARTERIAL_MEAN', 'PH_ARTERIAL_MIN', 'BE_ARTERIAL_MEAN', 'OXYGEN_SATURATION_MEDIAN', 'GGT_MAX', 'PLATELETS_MIN', 'P02_ARTERIAL_MEAN', 'POTASSIUM_MEAN', 'OXYGEN_SATURATION_DIFF_REL', 'RESPIRATORY_RATE_DIFF_REL', 'FFA_MIN', 'SAT02_ARTERIAL_MAX', 'PC02_VENOUS_MIN', 'BE_VENOUS_MEAN', 'LINFOCITOS_MAX', 'SODIUM_MIN', 'TEMPERATURE_MEDIAN', 'PC02_ARTERIAL_MAX'}\n",
            "125\n"
          ]
        }
      ],
      "source": [
        "cor_features = correlate(df,0.9)\n",
        "print(cor_features)\n",
        "print(len(cor_features))"
      ]
    },
    {
      "cell_type": "code",
      "execution_count": 38,
      "metadata": {
        "id": "0ocbe69dK0_-"
      },
      "outputs": [],
      "source": [
        "df.drop(cor_features,axis =1,inplace = True)"
      ]
    },
    {
      "cell_type": "markdown",
      "metadata": {
        "id": "pV1ap2fOD2LN"
      },
      "source": [
        "dropping constant and quasi constant columns"
      ]
    },
    {
      "cell_type": "code",
      "execution_count": 39,
      "metadata": {
        "id": "2WLWC7x2vXla"
      },
      "outputs": [],
      "source": [
        "var = VarianceThreshold(threshold = 0.01)\n",
        "var.fit(df)\n",
        "concol1 = [column for column in df.columns \n",
        "          if column not in df.columns[var.get_support()]]\n",
        "df.drop(concol1,axis=1,inplace = True)\n"
      ]
    },
    {
      "cell_type": "code",
      "execution_count": 40,
      "metadata": {
        "colab": {
          "base_uri": "https://localhost:8080/"
        },
        "id": "QQtYFUy60Sj9",
        "outputId": "d2756ea4-ba55-4459-9900-37aa3f98c780"
      },
      "outputs": [
        {
          "output_type": "stream",
          "name": "stdout",
          "text": [
            "['ALBUMIN_DIFF', 'BE_ARTERIAL_DIFF', 'BE_VENOUS_DIFF', 'BIC_ARTERIAL_MEDIAN', 'BIC_ARTERIAL_DIFF', 'BIC_VENOUS_DIFF', 'BILLIRUBIN_MEDIAN', 'BILLIRUBIN_DIFF', 'BLAST_MEDIAN', 'BLAST_DIFF', 'CALCIUM_DIFF', 'CREATININ_DIFF', 'FFA_DIFF', 'GGT_DIFF', 'GLUCOSE_DIFF', 'HEMATOCRITE_DIFF', 'HEMOGLOBIN_DIFF', 'INR_MEDIAN', 'INR_DIFF', 'LACTATE_DIFF', 'LEUKOCYTES_DIFF', 'LINFOCITOS_DIFF', 'NEUTROPHILES_DIFF', 'P02_ARTERIAL_DIFF', 'P02_VENOUS_DIFF', 'PC02_ARTERIAL_MEDIAN', 'PC02_ARTERIAL_DIFF', 'PC02_VENOUS_MEDIAN', 'PC02_VENOUS_DIFF', 'PCR_DIFF', 'PH_ARTERIAL_DIFF', 'PH_VENOUS_DIFF', 'PLATELETS_DIFF', 'POTASSIUM_DIFF', 'SAT02_ARTERIAL_DIFF', 'SAT02_VENOUS_DIFF', 'SODIUM_DIFF', 'TGO_MEDIAN', 'TGO_DIFF', 'TGP_DIFF', 'TTPA_MEDIAN', 'TTPA_DIFF', 'UREA_DIFF', 'DIMER_DIFF']\n"
          ]
        }
      ],
      "source": [
        "print(concol1)"
      ]
    },
    {
      "cell_type": "code",
      "execution_count": 41,
      "metadata": {
        "id": "kfg69E9ZwcXF"
      },
      "outputs": [],
      "source": [
        "\n",
        "\n",
        "var = VarianceThreshold(threshold=0)\n",
        "var.fit(df)\n",
        "concol = [column for column in df.columns \n",
        "          if column not in df.columns[var.get_support()]]\n",
        "df.drop(concol,axis=1,inplace = True)\n"
      ]
    },
    {
      "cell_type": "code",
      "execution_count": 42,
      "metadata": {
        "colab": {
          "base_uri": "https://localhost:8080/"
        },
        "id": "BOsQ31qQTzEb",
        "outputId": "33581974-ded8-49a6-d2b4-7353a5a620a4"
      },
      "outputs": [
        {
          "output_type": "stream",
          "name": "stdout",
          "text": [
            "(1923, 62)\n"
          ]
        }
      ],
      "source": [
        "print(df.shape)"
      ]
    },
    {
      "cell_type": "markdown",
      "metadata": {
        "id": "mvadDwhGa4Vn"
      },
      "source": [
        "**Splitting dataset**"
      ]
    },
    {
      "cell_type": "code",
      "execution_count": 43,
      "metadata": {
        "id": "IzB-qUNEbvkV"
      },
      "outputs": [],
      "source": [
        "y = df.ICU"
      ]
    },
    {
      "cell_type": "code",
      "execution_count": 44,
      "metadata": {
        "colab": {
          "base_uri": "https://localhost:8080/"
        },
        "id": "5HChnnYArK6a",
        "outputId": "7a147223-d1b0-4519-ae49-46c6489b35c1"
      },
      "outputs": [
        {
          "output_type": "execute_result",
          "data": {
            "text/plain": [
              "2       0\n",
              "3       0\n",
              "4       1\n",
              "5       1\n",
              "6       1\n",
              "       ..\n",
              "1920    0\n",
              "1921    0\n",
              "1922    0\n",
              "1923    0\n",
              "1924    0\n",
              "Name: ICU, Length: 1923, dtype: int64"
            ]
          },
          "metadata": {},
          "execution_count": 44
        }
      ],
      "source": [
        "y"
      ]
    },
    {
      "cell_type": "code",
      "execution_count": 45,
      "metadata": {
        "id": "K0HkbAC8b54k"
      },
      "outputs": [],
      "source": [
        "X = df.drop('ICU',axis = 1)"
      ]
    },
    {
      "cell_type": "code",
      "execution_count": 46,
      "metadata": {
        "colab": {
          "base_uri": "https://localhost:8080/",
          "height": 522
        },
        "id": "-CyaDVmpcCQS",
        "outputId": "c0e7e43c-55b1-475e-ff73-af8729207c49"
      },
      "outputs": [
        {
          "output_type": "execute_result",
          "data": {
            "text/plain": [
              "      PATIENT_VISIT_IDENTIFIER  AGE_ABOVE65  AGE_PERCENTIL  GENDER  \\\n",
              "2                            0            1             60       0   \n",
              "3                            0            1             60       0   \n",
              "4                            0            1             60       0   \n",
              "5                            1            1             90       1   \n",
              "6                            1            1             90       1   \n",
              "...                        ...          ...            ...     ...   \n",
              "1920                       384            0             50       1   \n",
              "1921                       384            0             50       1   \n",
              "1922                       384            0             50       1   \n",
              "1923                       384            0             50       1   \n",
              "1924                       384            0             50       1   \n",
              "\n",
              "      DISEASE GROUPING 1  DISEASE GROUPING 2  DISEASE GROUPING 3  \\\n",
              "2                    0.0                 0.0                 0.0   \n",
              "3                    0.0                 0.0                 0.0   \n",
              "4                    0.0                 0.0                 0.0   \n",
              "5                    0.0                 0.0                 0.0   \n",
              "6                    0.0                 0.0                 0.0   \n",
              "...                  ...                 ...                 ...   \n",
              "1920                 0.0                 0.0                 0.0   \n",
              "1921                 0.0                 0.0                 0.0   \n",
              "1922                 0.0                 0.0                 0.0   \n",
              "1923                 0.0                 0.0                 0.0   \n",
              "1924                 0.0                 0.0                 1.0   \n",
              "\n",
              "      DISEASE GROUPING 4  DISEASE GROUPING 5  DISEASE GROUPING 6  ...  \\\n",
              "2                    0.0                 1.0                 1.0  ...   \n",
              "3                    0.0                 1.0                 1.0  ...   \n",
              "4                    0.0                 1.0                 1.0  ...   \n",
              "5                    0.0                 0.0                 0.0  ...   \n",
              "6                    0.0                 0.0                 0.0  ...   \n",
              "...                  ...                 ...                 ...  ...   \n",
              "1920                 0.0                 0.0                 0.0  ...   \n",
              "1921                 0.0                 0.0                 0.0  ...   \n",
              "1922                 0.0                 0.0                 0.0  ...   \n",
              "1923                 0.0                 0.0                 0.0  ...   \n",
              "1924                 0.0                 0.0                 0.0  ...   \n",
              "\n",
              "      BLOODPRESSURE_SISTOLIC_MAX  HEART_RATE_MAX  RESPIRATORY_RATE_MAX  \\\n",
              "2                      -0.210811       -0.109453             -0.333333   \n",
              "3                       0.037838        0.094527             -0.030303   \n",
              "4                       0.286486        0.298507              0.272727   \n",
              "5                      -0.329730       -0.059701              0.636364   \n",
              "6                       0.329730       -0.388060             -0.454545   \n",
              "...                          ...             ...                   ...   \n",
              "1920                   -0.502703       -0.164179             -0.575758   \n",
              "1921                   -0.567568       -0.298507             -0.636364   \n",
              "1922                   -0.459459       -0.343284             -0.636364   \n",
              "1923                   -0.567568       -0.358209             -0.696970   \n",
              "1924                   -0.470270       -0.149254             -0.515152   \n",
              "\n",
              "      TEMPERATURE_MAX  OXYGEN_SATURATION_MAX  BLOODPRESSURE_DIASTOLIC_DIFF  \\\n",
              "2           -0.014493               0.657895                     -0.779710   \n",
              "3           -0.275362               0.736842                     -0.559420   \n",
              "4            0.362319               0.947368                     -0.339130   \n",
              "5           -0.275362               1.000000                     -1.000000   \n",
              "6           -0.275362               0.894737                     -1.000000   \n",
              "...               ...                    ...                           ...   \n",
              "1920         0.246377               0.789474                     -1.000000   \n",
              "1921        -0.072464               0.578947                     -1.000000   \n",
              "1922        -0.072464               0.736842                     -1.000000   \n",
              "1923         0.043478               0.473684                     -1.000000   \n",
              "1924         0.101449               0.842105                     -0.652174   \n",
              "\n",
              "      HEART_RATE_DIFF  RESPIRATORY_RATE_DIFF  TEMPERATURE_DIFF  WINDOW  \n",
              "2           -0.628499              -0.607843         -1.000000       6  \n",
              "3           -0.256997              -0.215686         -1.000000      12  \n",
              "4            0.114504               0.176471         -0.238095      13  \n",
              "5           -1.000000              -1.000000         -1.000000       2  \n",
              "6           -1.000000              -1.000000         -1.000000       4  \n",
              "...               ...                    ...               ...     ...  \n",
              "1920        -1.000000              -1.000000         -1.000000       2  \n",
              "1921        -1.000000              -1.000000         -1.000000       4  \n",
              "1922        -1.000000              -1.000000         -1.000000       6  \n",
              "1923        -1.000000              -1.000000         -1.000000      12  \n",
              "1924        -0.633588              -0.647059         -0.547619      13  \n",
              "\n",
              "[1923 rows x 61 columns]"
            ],
            "text/html": [
              "\n",
              "  <div id=\"df-0dcbc9cb-2d6c-4ac0-999d-db81691a0c5d\">\n",
              "    <div class=\"colab-df-container\">\n",
              "      <div>\n",
              "<style scoped>\n",
              "    .dataframe tbody tr th:only-of-type {\n",
              "        vertical-align: middle;\n",
              "    }\n",
              "\n",
              "    .dataframe tbody tr th {\n",
              "        vertical-align: top;\n",
              "    }\n",
              "\n",
              "    .dataframe thead th {\n",
              "        text-align: right;\n",
              "    }\n",
              "</style>\n",
              "<table border=\"1\" class=\"dataframe\">\n",
              "  <thead>\n",
              "    <tr style=\"text-align: right;\">\n",
              "      <th></th>\n",
              "      <th>PATIENT_VISIT_IDENTIFIER</th>\n",
              "      <th>AGE_ABOVE65</th>\n",
              "      <th>AGE_PERCENTIL</th>\n",
              "      <th>GENDER</th>\n",
              "      <th>DISEASE GROUPING 1</th>\n",
              "      <th>DISEASE GROUPING 2</th>\n",
              "      <th>DISEASE GROUPING 3</th>\n",
              "      <th>DISEASE GROUPING 4</th>\n",
              "      <th>DISEASE GROUPING 5</th>\n",
              "      <th>DISEASE GROUPING 6</th>\n",
              "      <th>...</th>\n",
              "      <th>BLOODPRESSURE_SISTOLIC_MAX</th>\n",
              "      <th>HEART_RATE_MAX</th>\n",
              "      <th>RESPIRATORY_RATE_MAX</th>\n",
              "      <th>TEMPERATURE_MAX</th>\n",
              "      <th>OXYGEN_SATURATION_MAX</th>\n",
              "      <th>BLOODPRESSURE_DIASTOLIC_DIFF</th>\n",
              "      <th>HEART_RATE_DIFF</th>\n",
              "      <th>RESPIRATORY_RATE_DIFF</th>\n",
              "      <th>TEMPERATURE_DIFF</th>\n",
              "      <th>WINDOW</th>\n",
              "    </tr>\n",
              "  </thead>\n",
              "  <tbody>\n",
              "    <tr>\n",
              "      <th>2</th>\n",
              "      <td>0</td>\n",
              "      <td>1</td>\n",
              "      <td>60</td>\n",
              "      <td>0</td>\n",
              "      <td>0.0</td>\n",
              "      <td>0.0</td>\n",
              "      <td>0.0</td>\n",
              "      <td>0.0</td>\n",
              "      <td>1.0</td>\n",
              "      <td>1.0</td>\n",
              "      <td>...</td>\n",
              "      <td>-0.210811</td>\n",
              "      <td>-0.109453</td>\n",
              "      <td>-0.333333</td>\n",
              "      <td>-0.014493</td>\n",
              "      <td>0.657895</td>\n",
              "      <td>-0.779710</td>\n",
              "      <td>-0.628499</td>\n",
              "      <td>-0.607843</td>\n",
              "      <td>-1.000000</td>\n",
              "      <td>6</td>\n",
              "    </tr>\n",
              "    <tr>\n",
              "      <th>3</th>\n",
              "      <td>0</td>\n",
              "      <td>1</td>\n",
              "      <td>60</td>\n",
              "      <td>0</td>\n",
              "      <td>0.0</td>\n",
              "      <td>0.0</td>\n",
              "      <td>0.0</td>\n",
              "      <td>0.0</td>\n",
              "      <td>1.0</td>\n",
              "      <td>1.0</td>\n",
              "      <td>...</td>\n",
              "      <td>0.037838</td>\n",
              "      <td>0.094527</td>\n",
              "      <td>-0.030303</td>\n",
              "      <td>-0.275362</td>\n",
              "      <td>0.736842</td>\n",
              "      <td>-0.559420</td>\n",
              "      <td>-0.256997</td>\n",
              "      <td>-0.215686</td>\n",
              "      <td>-1.000000</td>\n",
              "      <td>12</td>\n",
              "    </tr>\n",
              "    <tr>\n",
              "      <th>4</th>\n",
              "      <td>0</td>\n",
              "      <td>1</td>\n",
              "      <td>60</td>\n",
              "      <td>0</td>\n",
              "      <td>0.0</td>\n",
              "      <td>0.0</td>\n",
              "      <td>0.0</td>\n",
              "      <td>0.0</td>\n",
              "      <td>1.0</td>\n",
              "      <td>1.0</td>\n",
              "      <td>...</td>\n",
              "      <td>0.286486</td>\n",
              "      <td>0.298507</td>\n",
              "      <td>0.272727</td>\n",
              "      <td>0.362319</td>\n",
              "      <td>0.947368</td>\n",
              "      <td>-0.339130</td>\n",
              "      <td>0.114504</td>\n",
              "      <td>0.176471</td>\n",
              "      <td>-0.238095</td>\n",
              "      <td>13</td>\n",
              "    </tr>\n",
              "    <tr>\n",
              "      <th>5</th>\n",
              "      <td>1</td>\n",
              "      <td>1</td>\n",
              "      <td>90</td>\n",
              "      <td>1</td>\n",
              "      <td>0.0</td>\n",
              "      <td>0.0</td>\n",
              "      <td>0.0</td>\n",
              "      <td>0.0</td>\n",
              "      <td>0.0</td>\n",
              "      <td>0.0</td>\n",
              "      <td>...</td>\n",
              "      <td>-0.329730</td>\n",
              "      <td>-0.059701</td>\n",
              "      <td>0.636364</td>\n",
              "      <td>-0.275362</td>\n",
              "      <td>1.000000</td>\n",
              "      <td>-1.000000</td>\n",
              "      <td>-1.000000</td>\n",
              "      <td>-1.000000</td>\n",
              "      <td>-1.000000</td>\n",
              "      <td>2</td>\n",
              "    </tr>\n",
              "    <tr>\n",
              "      <th>6</th>\n",
              "      <td>1</td>\n",
              "      <td>1</td>\n",
              "      <td>90</td>\n",
              "      <td>1</td>\n",
              "      <td>0.0</td>\n",
              "      <td>0.0</td>\n",
              "      <td>0.0</td>\n",
              "      <td>0.0</td>\n",
              "      <td>0.0</td>\n",
              "      <td>0.0</td>\n",
              "      <td>...</td>\n",
              "      <td>0.329730</td>\n",
              "      <td>-0.388060</td>\n",
              "      <td>-0.454545</td>\n",
              "      <td>-0.275362</td>\n",
              "      <td>0.894737</td>\n",
              "      <td>-1.000000</td>\n",
              "      <td>-1.000000</td>\n",
              "      <td>-1.000000</td>\n",
              "      <td>-1.000000</td>\n",
              "      <td>4</td>\n",
              "    </tr>\n",
              "    <tr>\n",
              "      <th>...</th>\n",
              "      <td>...</td>\n",
              "      <td>...</td>\n",
              "      <td>...</td>\n",
              "      <td>...</td>\n",
              "      <td>...</td>\n",
              "      <td>...</td>\n",
              "      <td>...</td>\n",
              "      <td>...</td>\n",
              "      <td>...</td>\n",
              "      <td>...</td>\n",
              "      <td>...</td>\n",
              "      <td>...</td>\n",
              "      <td>...</td>\n",
              "      <td>...</td>\n",
              "      <td>...</td>\n",
              "      <td>...</td>\n",
              "      <td>...</td>\n",
              "      <td>...</td>\n",
              "      <td>...</td>\n",
              "      <td>...</td>\n",
              "      <td>...</td>\n",
              "    </tr>\n",
              "    <tr>\n",
              "      <th>1920</th>\n",
              "      <td>384</td>\n",
              "      <td>0</td>\n",
              "      <td>50</td>\n",
              "      <td>1</td>\n",
              "      <td>0.0</td>\n",
              "      <td>0.0</td>\n",
              "      <td>0.0</td>\n",
              "      <td>0.0</td>\n",
              "      <td>0.0</td>\n",
              "      <td>0.0</td>\n",
              "      <td>...</td>\n",
              "      <td>-0.502703</td>\n",
              "      <td>-0.164179</td>\n",
              "      <td>-0.575758</td>\n",
              "      <td>0.246377</td>\n",
              "      <td>0.789474</td>\n",
              "      <td>-1.000000</td>\n",
              "      <td>-1.000000</td>\n",
              "      <td>-1.000000</td>\n",
              "      <td>-1.000000</td>\n",
              "      <td>2</td>\n",
              "    </tr>\n",
              "    <tr>\n",
              "      <th>1921</th>\n",
              "      <td>384</td>\n",
              "      <td>0</td>\n",
              "      <td>50</td>\n",
              "      <td>1</td>\n",
              "      <td>0.0</td>\n",
              "      <td>0.0</td>\n",
              "      <td>0.0</td>\n",
              "      <td>0.0</td>\n",
              "      <td>0.0</td>\n",
              "      <td>0.0</td>\n",
              "      <td>...</td>\n",
              "      <td>-0.567568</td>\n",
              "      <td>-0.298507</td>\n",
              "      <td>-0.636364</td>\n",
              "      <td>-0.072464</td>\n",
              "      <td>0.578947</td>\n",
              "      <td>-1.000000</td>\n",
              "      <td>-1.000000</td>\n",
              "      <td>-1.000000</td>\n",
              "      <td>-1.000000</td>\n",
              "      <td>4</td>\n",
              "    </tr>\n",
              "    <tr>\n",
              "      <th>1922</th>\n",
              "      <td>384</td>\n",
              "      <td>0</td>\n",
              "      <td>50</td>\n",
              "      <td>1</td>\n",
              "      <td>0.0</td>\n",
              "      <td>0.0</td>\n",
              "      <td>0.0</td>\n",
              "      <td>0.0</td>\n",
              "      <td>0.0</td>\n",
              "      <td>0.0</td>\n",
              "      <td>...</td>\n",
              "      <td>-0.459459</td>\n",
              "      <td>-0.343284</td>\n",
              "      <td>-0.636364</td>\n",
              "      <td>-0.072464</td>\n",
              "      <td>0.736842</td>\n",
              "      <td>-1.000000</td>\n",
              "      <td>-1.000000</td>\n",
              "      <td>-1.000000</td>\n",
              "      <td>-1.000000</td>\n",
              "      <td>6</td>\n",
              "    </tr>\n",
              "    <tr>\n",
              "      <th>1923</th>\n",
              "      <td>384</td>\n",
              "      <td>0</td>\n",
              "      <td>50</td>\n",
              "      <td>1</td>\n",
              "      <td>0.0</td>\n",
              "      <td>0.0</td>\n",
              "      <td>0.0</td>\n",
              "      <td>0.0</td>\n",
              "      <td>0.0</td>\n",
              "      <td>0.0</td>\n",
              "      <td>...</td>\n",
              "      <td>-0.567568</td>\n",
              "      <td>-0.358209</td>\n",
              "      <td>-0.696970</td>\n",
              "      <td>0.043478</td>\n",
              "      <td>0.473684</td>\n",
              "      <td>-1.000000</td>\n",
              "      <td>-1.000000</td>\n",
              "      <td>-1.000000</td>\n",
              "      <td>-1.000000</td>\n",
              "      <td>12</td>\n",
              "    </tr>\n",
              "    <tr>\n",
              "      <th>1924</th>\n",
              "      <td>384</td>\n",
              "      <td>0</td>\n",
              "      <td>50</td>\n",
              "      <td>1</td>\n",
              "      <td>0.0</td>\n",
              "      <td>0.0</td>\n",
              "      <td>1.0</td>\n",
              "      <td>0.0</td>\n",
              "      <td>0.0</td>\n",
              "      <td>0.0</td>\n",
              "      <td>...</td>\n",
              "      <td>-0.470270</td>\n",
              "      <td>-0.149254</td>\n",
              "      <td>-0.515152</td>\n",
              "      <td>0.101449</td>\n",
              "      <td>0.842105</td>\n",
              "      <td>-0.652174</td>\n",
              "      <td>-0.633588</td>\n",
              "      <td>-0.647059</td>\n",
              "      <td>-0.547619</td>\n",
              "      <td>13</td>\n",
              "    </tr>\n",
              "  </tbody>\n",
              "</table>\n",
              "<p>1923 rows × 61 columns</p>\n",
              "</div>\n",
              "      <button class=\"colab-df-convert\" onclick=\"convertToInteractive('df-0dcbc9cb-2d6c-4ac0-999d-db81691a0c5d')\"\n",
              "              title=\"Convert this dataframe to an interactive table.\"\n",
              "              style=\"display:none;\">\n",
              "        \n",
              "  <svg xmlns=\"http://www.w3.org/2000/svg\" height=\"24px\"viewBox=\"0 0 24 24\"\n",
              "       width=\"24px\">\n",
              "    <path d=\"M0 0h24v24H0V0z\" fill=\"none\"/>\n",
              "    <path d=\"M18.56 5.44l.94 2.06.94-2.06 2.06-.94-2.06-.94-.94-2.06-.94 2.06-2.06.94zm-11 1L8.5 8.5l.94-2.06 2.06-.94-2.06-.94L8.5 2.5l-.94 2.06-2.06.94zm10 10l.94 2.06.94-2.06 2.06-.94-2.06-.94-.94-2.06-.94 2.06-2.06.94z\"/><path d=\"M17.41 7.96l-1.37-1.37c-.4-.4-.92-.59-1.43-.59-.52 0-1.04.2-1.43.59L10.3 9.45l-7.72 7.72c-.78.78-.78 2.05 0 2.83L4 21.41c.39.39.9.59 1.41.59.51 0 1.02-.2 1.41-.59l7.78-7.78 2.81-2.81c.8-.78.8-2.07 0-2.86zM5.41 20L4 18.59l7.72-7.72 1.47 1.35L5.41 20z\"/>\n",
              "  </svg>\n",
              "      </button>\n",
              "      \n",
              "  <style>\n",
              "    .colab-df-container {\n",
              "      display:flex;\n",
              "      flex-wrap:wrap;\n",
              "      gap: 12px;\n",
              "    }\n",
              "\n",
              "    .colab-df-convert {\n",
              "      background-color: #E8F0FE;\n",
              "      border: none;\n",
              "      border-radius: 50%;\n",
              "      cursor: pointer;\n",
              "      display: none;\n",
              "      fill: #1967D2;\n",
              "      height: 32px;\n",
              "      padding: 0 0 0 0;\n",
              "      width: 32px;\n",
              "    }\n",
              "\n",
              "    .colab-df-convert:hover {\n",
              "      background-color: #E2EBFA;\n",
              "      box-shadow: 0px 1px 2px rgba(60, 64, 67, 0.3), 0px 1px 3px 1px rgba(60, 64, 67, 0.15);\n",
              "      fill: #174EA6;\n",
              "    }\n",
              "\n",
              "    [theme=dark] .colab-df-convert {\n",
              "      background-color: #3B4455;\n",
              "      fill: #D2E3FC;\n",
              "    }\n",
              "\n",
              "    [theme=dark] .colab-df-convert:hover {\n",
              "      background-color: #434B5C;\n",
              "      box-shadow: 0px 1px 3px 1px rgba(0, 0, 0, 0.15);\n",
              "      filter: drop-shadow(0px 1px 2px rgba(0, 0, 0, 0.3));\n",
              "      fill: #FFFFFF;\n",
              "    }\n",
              "  </style>\n",
              "\n",
              "      <script>\n",
              "        const buttonEl =\n",
              "          document.querySelector('#df-0dcbc9cb-2d6c-4ac0-999d-db81691a0c5d button.colab-df-convert');\n",
              "        buttonEl.style.display =\n",
              "          google.colab.kernel.accessAllowed ? 'block' : 'none';\n",
              "\n",
              "        async function convertToInteractive(key) {\n",
              "          const element = document.querySelector('#df-0dcbc9cb-2d6c-4ac0-999d-db81691a0c5d');\n",
              "          const dataTable =\n",
              "            await google.colab.kernel.invokeFunction('convertToInteractive',\n",
              "                                                     [key], {});\n",
              "          if (!dataTable) return;\n",
              "\n",
              "          const docLinkHtml = 'Like what you see? Visit the ' +\n",
              "            '<a target=\"_blank\" href=https://colab.research.google.com/notebooks/data_table.ipynb>data table notebook</a>'\n",
              "            + ' to learn more about interactive tables.';\n",
              "          element.innerHTML = '';\n",
              "          dataTable['output_type'] = 'display_data';\n",
              "          await google.colab.output.renderOutput(dataTable, element);\n",
              "          const docLink = document.createElement('div');\n",
              "          docLink.innerHTML = docLinkHtml;\n",
              "          element.appendChild(docLink);\n",
              "        }\n",
              "      </script>\n",
              "    </div>\n",
              "  </div>\n",
              "  "
            ]
          },
          "metadata": {},
          "execution_count": 46
        }
      ],
      "source": [
        "X"
      ]
    },
    {
      "cell_type": "markdown",
      "metadata": {
        "id": "yP9KIAl1jS_9"
      },
      "source": [
        "Train test split"
      ]
    },
    {
      "cell_type": "code",
      "execution_count": 47,
      "metadata": {
        "id": "NZKtW26_a-ML"
      },
      "outputs": [],
      "source": [
        "X_train, X_test, y_train, y_test = train_test_split( X, y, test_size=0.2, random_state=0)"
      ]
    },
    {
      "cell_type": "code",
      "execution_count": 48,
      "metadata": {
        "colab": {
          "base_uri": "https://localhost:8080/"
        },
        "id": "w43V3rMdj9TB",
        "outputId": "02364383-c510-4cea-a448-6fd17900eb82"
      },
      "outputs": [
        {
          "output_type": "execute_result",
          "data": {
            "text/plain": [
              "(1538, 61)"
            ]
          },
          "metadata": {},
          "execution_count": 48
        }
      ],
      "source": [
        "X_train.shape"
      ]
    },
    {
      "cell_type": "code",
      "execution_count": 49,
      "metadata": {
        "colab": {
          "base_uri": "https://localhost:8080/"
        },
        "id": "MlWuf7dnBNqn",
        "outputId": "243fc170-2738-4098-db93-057b124bb32a"
      },
      "outputs": [
        {
          "output_type": "execute_result",
          "data": {
            "text/plain": [
              "(385, 61)"
            ]
          },
          "metadata": {},
          "execution_count": 49
        }
      ],
      "source": [
        "\n",
        "X_test.shape"
      ]
    },
    {
      "cell_type": "code",
      "execution_count": 50,
      "metadata": {
        "colab": {
          "base_uri": "https://localhost:8080/",
          "height": 522
        },
        "id": "osBrBjvKkE8o",
        "outputId": "36b39683-cf3c-4555-9823-97bd31f724df"
      },
      "outputs": [
        {
          "output_type": "execute_result",
          "data": {
            "text/plain": [
              "      PATIENT_VISIT_IDENTIFIER  AGE_ABOVE65  AGE_PERCENTIL  GENDER  \\\n",
              "801                        160            0             50       1   \n",
              "1028                       205            1             60       0   \n",
              "1889                       377            0             20       1   \n",
              "825                        165            0             30       0   \n",
              "567                        113            1            100       0   \n",
              "...                        ...          ...            ...     ...   \n",
              "837                        167            0             20       1   \n",
              "1218                       243            1            100       0   \n",
              "1655                       331            1             70       0   \n",
              "561                        112            0             40       0   \n",
              "686                        137            1             80       0   \n",
              "\n",
              "      DISEASE GROUPING 1  DISEASE GROUPING 2  DISEASE GROUPING 3  \\\n",
              "801                  0.0                 0.0                 0.0   \n",
              "1028                 0.0                 0.0                 0.0   \n",
              "1889                 0.0                 0.0                 0.0   \n",
              "825                  1.0                 0.0                 0.0   \n",
              "567                  1.0                 0.0                 0.0   \n",
              "...                  ...                 ...                 ...   \n",
              "837                  0.0                 0.0                 0.0   \n",
              "1218                 1.0                 0.0                 0.0   \n",
              "1655                 1.0                 0.0                 1.0   \n",
              "561                  0.0                 0.0                 0.0   \n",
              "686                  0.0                 0.0                 0.0   \n",
              "\n",
              "      DISEASE GROUPING 4  DISEASE GROUPING 5  DISEASE GROUPING 6  ...  \\\n",
              "801                  0.0                 0.0                 0.0  ...   \n",
              "1028                 0.0                 0.0                 0.0  ...   \n",
              "1889                 0.0                 0.0                 0.0  ...   \n",
              "825                  0.0                 0.0                 0.0  ...   \n",
              "567                  0.0                 1.0                 0.0  ...   \n",
              "...                  ...                 ...                 ...  ...   \n",
              "837                  0.0                 0.0                 0.0  ...   \n",
              "1218                 0.0                 1.0                 0.0  ...   \n",
              "1655                 0.0                 0.0                 1.0  ...   \n",
              "561                  0.0                 0.0                 0.0  ...   \n",
              "686                  0.0                 1.0                 0.0  ...   \n",
              "\n",
              "      BLOODPRESSURE_SISTOLIC_MAX  HEART_RATE_MAX  RESPIRATORY_RATE_MAX  \\\n",
              "801                    -0.275676       -0.149254             -0.515152   \n",
              "1028                   -0.459459       -0.507463             -0.575758   \n",
              "1889                   -0.178378       -0.388060             -0.454545   \n",
              "825                    -0.421622        0.029851             -0.242424   \n",
              "567                    -0.056757       -0.388060             -0.469697   \n",
              "...                          ...             ...                   ...   \n",
              "837                    -0.581081       -0.417910             -0.166667   \n",
              "1218                   -0.610811       -0.328358              0.454545   \n",
              "1655                   -0.062162       -0.227612             -0.469697   \n",
              "561                    -0.091892        0.022388              0.484848   \n",
              "686                    -0.243243       -0.184080             -0.090909   \n",
              "\n",
              "      TEMPERATURE_MAX  OXYGEN_SATURATION_MAX  BLOODPRESSURE_DIASTOLIC_DIFF  \\\n",
              "801         -0.101449               0.736842                     -1.000000   \n",
              "1028        -0.507246               0.684211                     -1.000000   \n",
              "1889         0.391304               0.947368                     -0.443478   \n",
              "825          0.159420               0.710526                     -0.686957   \n",
              "567          0.224638               0.907895                     -0.908696   \n",
              "...               ...                    ...                           ...   \n",
              "837          0.057971               0.921053                     -0.604348   \n",
              "1218        -0.246377               0.842105                     -0.947826   \n",
              "1655         0.036232               0.802632                     -0.426087   \n",
              "561          0.463768               0.894737                     -0.434783   \n",
              "686         -0.014493               0.807018                     -0.489855   \n",
              "\n",
              "      HEART_RATE_DIFF  RESPIRATORY_RATE_DIFF  TEMPERATURE_DIFF  WINDOW  \n",
              "801         -1.000000              -1.000000         -1.000000       4  \n",
              "1028        -1.000000              -1.000000         -1.000000      12  \n",
              "1889        -0.557252              -0.764706         -0.357143      13  \n",
              "825         -0.526718              -0.588235         -0.619048       2  \n",
              "567         -0.858779              -0.926471         -0.833333       6  \n",
              "...               ...                    ...               ...     ...  \n",
              "837         -0.740458              -0.367647         -0.726190       6  \n",
              "1218        -0.893130              -0.470588         -0.738095      12  \n",
              "1655        -0.404580              -0.750000         -0.553571       2  \n",
              "561         -0.404580               0.058824         -0.488095       4  \n",
              "686         -0.760814              -0.411765         -0.785714       4  \n",
              "\n",
              "[1538 rows x 61 columns]"
            ],
            "text/html": [
              "\n",
              "  <div id=\"df-a049de5e-5929-4d17-a78b-0f64af6bb562\">\n",
              "    <div class=\"colab-df-container\">\n",
              "      <div>\n",
              "<style scoped>\n",
              "    .dataframe tbody tr th:only-of-type {\n",
              "        vertical-align: middle;\n",
              "    }\n",
              "\n",
              "    .dataframe tbody tr th {\n",
              "        vertical-align: top;\n",
              "    }\n",
              "\n",
              "    .dataframe thead th {\n",
              "        text-align: right;\n",
              "    }\n",
              "</style>\n",
              "<table border=\"1\" class=\"dataframe\">\n",
              "  <thead>\n",
              "    <tr style=\"text-align: right;\">\n",
              "      <th></th>\n",
              "      <th>PATIENT_VISIT_IDENTIFIER</th>\n",
              "      <th>AGE_ABOVE65</th>\n",
              "      <th>AGE_PERCENTIL</th>\n",
              "      <th>GENDER</th>\n",
              "      <th>DISEASE GROUPING 1</th>\n",
              "      <th>DISEASE GROUPING 2</th>\n",
              "      <th>DISEASE GROUPING 3</th>\n",
              "      <th>DISEASE GROUPING 4</th>\n",
              "      <th>DISEASE GROUPING 5</th>\n",
              "      <th>DISEASE GROUPING 6</th>\n",
              "      <th>...</th>\n",
              "      <th>BLOODPRESSURE_SISTOLIC_MAX</th>\n",
              "      <th>HEART_RATE_MAX</th>\n",
              "      <th>RESPIRATORY_RATE_MAX</th>\n",
              "      <th>TEMPERATURE_MAX</th>\n",
              "      <th>OXYGEN_SATURATION_MAX</th>\n",
              "      <th>BLOODPRESSURE_DIASTOLIC_DIFF</th>\n",
              "      <th>HEART_RATE_DIFF</th>\n",
              "      <th>RESPIRATORY_RATE_DIFF</th>\n",
              "      <th>TEMPERATURE_DIFF</th>\n",
              "      <th>WINDOW</th>\n",
              "    </tr>\n",
              "  </thead>\n",
              "  <tbody>\n",
              "    <tr>\n",
              "      <th>801</th>\n",
              "      <td>160</td>\n",
              "      <td>0</td>\n",
              "      <td>50</td>\n",
              "      <td>1</td>\n",
              "      <td>0.0</td>\n",
              "      <td>0.0</td>\n",
              "      <td>0.0</td>\n",
              "      <td>0.0</td>\n",
              "      <td>0.0</td>\n",
              "      <td>0.0</td>\n",
              "      <td>...</td>\n",
              "      <td>-0.275676</td>\n",
              "      <td>-0.149254</td>\n",
              "      <td>-0.515152</td>\n",
              "      <td>-0.101449</td>\n",
              "      <td>0.736842</td>\n",
              "      <td>-1.000000</td>\n",
              "      <td>-1.000000</td>\n",
              "      <td>-1.000000</td>\n",
              "      <td>-1.000000</td>\n",
              "      <td>4</td>\n",
              "    </tr>\n",
              "    <tr>\n",
              "      <th>1028</th>\n",
              "      <td>205</td>\n",
              "      <td>1</td>\n",
              "      <td>60</td>\n",
              "      <td>0</td>\n",
              "      <td>0.0</td>\n",
              "      <td>0.0</td>\n",
              "      <td>0.0</td>\n",
              "      <td>0.0</td>\n",
              "      <td>0.0</td>\n",
              "      <td>0.0</td>\n",
              "      <td>...</td>\n",
              "      <td>-0.459459</td>\n",
              "      <td>-0.507463</td>\n",
              "      <td>-0.575758</td>\n",
              "      <td>-0.507246</td>\n",
              "      <td>0.684211</td>\n",
              "      <td>-1.000000</td>\n",
              "      <td>-1.000000</td>\n",
              "      <td>-1.000000</td>\n",
              "      <td>-1.000000</td>\n",
              "      <td>12</td>\n",
              "    </tr>\n",
              "    <tr>\n",
              "      <th>1889</th>\n",
              "      <td>377</td>\n",
              "      <td>0</td>\n",
              "      <td>20</td>\n",
              "      <td>1</td>\n",
              "      <td>0.0</td>\n",
              "      <td>0.0</td>\n",
              "      <td>0.0</td>\n",
              "      <td>0.0</td>\n",
              "      <td>0.0</td>\n",
              "      <td>0.0</td>\n",
              "      <td>...</td>\n",
              "      <td>-0.178378</td>\n",
              "      <td>-0.388060</td>\n",
              "      <td>-0.454545</td>\n",
              "      <td>0.391304</td>\n",
              "      <td>0.947368</td>\n",
              "      <td>-0.443478</td>\n",
              "      <td>-0.557252</td>\n",
              "      <td>-0.764706</td>\n",
              "      <td>-0.357143</td>\n",
              "      <td>13</td>\n",
              "    </tr>\n",
              "    <tr>\n",
              "      <th>825</th>\n",
              "      <td>165</td>\n",
              "      <td>0</td>\n",
              "      <td>30</td>\n",
              "      <td>0</td>\n",
              "      <td>1.0</td>\n",
              "      <td>0.0</td>\n",
              "      <td>0.0</td>\n",
              "      <td>0.0</td>\n",
              "      <td>0.0</td>\n",
              "      <td>0.0</td>\n",
              "      <td>...</td>\n",
              "      <td>-0.421622</td>\n",
              "      <td>0.029851</td>\n",
              "      <td>-0.242424</td>\n",
              "      <td>0.159420</td>\n",
              "      <td>0.710526</td>\n",
              "      <td>-0.686957</td>\n",
              "      <td>-0.526718</td>\n",
              "      <td>-0.588235</td>\n",
              "      <td>-0.619048</td>\n",
              "      <td>2</td>\n",
              "    </tr>\n",
              "    <tr>\n",
              "      <th>567</th>\n",
              "      <td>113</td>\n",
              "      <td>1</td>\n",
              "      <td>100</td>\n",
              "      <td>0</td>\n",
              "      <td>1.0</td>\n",
              "      <td>0.0</td>\n",
              "      <td>0.0</td>\n",
              "      <td>0.0</td>\n",
              "      <td>1.0</td>\n",
              "      <td>0.0</td>\n",
              "      <td>...</td>\n",
              "      <td>-0.056757</td>\n",
              "      <td>-0.388060</td>\n",
              "      <td>-0.469697</td>\n",
              "      <td>0.224638</td>\n",
              "      <td>0.907895</td>\n",
              "      <td>-0.908696</td>\n",
              "      <td>-0.858779</td>\n",
              "      <td>-0.926471</td>\n",
              "      <td>-0.833333</td>\n",
              "      <td>6</td>\n",
              "    </tr>\n",
              "    <tr>\n",
              "      <th>...</th>\n",
              "      <td>...</td>\n",
              "      <td>...</td>\n",
              "      <td>...</td>\n",
              "      <td>...</td>\n",
              "      <td>...</td>\n",
              "      <td>...</td>\n",
              "      <td>...</td>\n",
              "      <td>...</td>\n",
              "      <td>...</td>\n",
              "      <td>...</td>\n",
              "      <td>...</td>\n",
              "      <td>...</td>\n",
              "      <td>...</td>\n",
              "      <td>...</td>\n",
              "      <td>...</td>\n",
              "      <td>...</td>\n",
              "      <td>...</td>\n",
              "      <td>...</td>\n",
              "      <td>...</td>\n",
              "      <td>...</td>\n",
              "      <td>...</td>\n",
              "    </tr>\n",
              "    <tr>\n",
              "      <th>837</th>\n",
              "      <td>167</td>\n",
              "      <td>0</td>\n",
              "      <td>20</td>\n",
              "      <td>1</td>\n",
              "      <td>0.0</td>\n",
              "      <td>0.0</td>\n",
              "      <td>0.0</td>\n",
              "      <td>0.0</td>\n",
              "      <td>0.0</td>\n",
              "      <td>0.0</td>\n",
              "      <td>...</td>\n",
              "      <td>-0.581081</td>\n",
              "      <td>-0.417910</td>\n",
              "      <td>-0.166667</td>\n",
              "      <td>0.057971</td>\n",
              "      <td>0.921053</td>\n",
              "      <td>-0.604348</td>\n",
              "      <td>-0.740458</td>\n",
              "      <td>-0.367647</td>\n",
              "      <td>-0.726190</td>\n",
              "      <td>6</td>\n",
              "    </tr>\n",
              "    <tr>\n",
              "      <th>1218</th>\n",
              "      <td>243</td>\n",
              "      <td>1</td>\n",
              "      <td>100</td>\n",
              "      <td>0</td>\n",
              "      <td>1.0</td>\n",
              "      <td>0.0</td>\n",
              "      <td>0.0</td>\n",
              "      <td>0.0</td>\n",
              "      <td>1.0</td>\n",
              "      <td>0.0</td>\n",
              "      <td>...</td>\n",
              "      <td>-0.610811</td>\n",
              "      <td>-0.328358</td>\n",
              "      <td>0.454545</td>\n",
              "      <td>-0.246377</td>\n",
              "      <td>0.842105</td>\n",
              "      <td>-0.947826</td>\n",
              "      <td>-0.893130</td>\n",
              "      <td>-0.470588</td>\n",
              "      <td>-0.738095</td>\n",
              "      <td>12</td>\n",
              "    </tr>\n",
              "    <tr>\n",
              "      <th>1655</th>\n",
              "      <td>331</td>\n",
              "      <td>1</td>\n",
              "      <td>70</td>\n",
              "      <td>0</td>\n",
              "      <td>1.0</td>\n",
              "      <td>0.0</td>\n",
              "      <td>1.0</td>\n",
              "      <td>0.0</td>\n",
              "      <td>0.0</td>\n",
              "      <td>1.0</td>\n",
              "      <td>...</td>\n",
              "      <td>-0.062162</td>\n",
              "      <td>-0.227612</td>\n",
              "      <td>-0.469697</td>\n",
              "      <td>0.036232</td>\n",
              "      <td>0.802632</td>\n",
              "      <td>-0.426087</td>\n",
              "      <td>-0.404580</td>\n",
              "      <td>-0.750000</td>\n",
              "      <td>-0.553571</td>\n",
              "      <td>2</td>\n",
              "    </tr>\n",
              "    <tr>\n",
              "      <th>561</th>\n",
              "      <td>112</td>\n",
              "      <td>0</td>\n",
              "      <td>40</td>\n",
              "      <td>0</td>\n",
              "      <td>0.0</td>\n",
              "      <td>0.0</td>\n",
              "      <td>0.0</td>\n",
              "      <td>0.0</td>\n",
              "      <td>0.0</td>\n",
              "      <td>0.0</td>\n",
              "      <td>...</td>\n",
              "      <td>-0.091892</td>\n",
              "      <td>0.022388</td>\n",
              "      <td>0.484848</td>\n",
              "      <td>0.463768</td>\n",
              "      <td>0.894737</td>\n",
              "      <td>-0.434783</td>\n",
              "      <td>-0.404580</td>\n",
              "      <td>0.058824</td>\n",
              "      <td>-0.488095</td>\n",
              "      <td>4</td>\n",
              "    </tr>\n",
              "    <tr>\n",
              "      <th>686</th>\n",
              "      <td>137</td>\n",
              "      <td>1</td>\n",
              "      <td>80</td>\n",
              "      <td>0</td>\n",
              "      <td>0.0</td>\n",
              "      <td>0.0</td>\n",
              "      <td>0.0</td>\n",
              "      <td>0.0</td>\n",
              "      <td>1.0</td>\n",
              "      <td>0.0</td>\n",
              "      <td>...</td>\n",
              "      <td>-0.243243</td>\n",
              "      <td>-0.184080</td>\n",
              "      <td>-0.090909</td>\n",
              "      <td>-0.014493</td>\n",
              "      <td>0.807018</td>\n",
              "      <td>-0.489855</td>\n",
              "      <td>-0.760814</td>\n",
              "      <td>-0.411765</td>\n",
              "      <td>-0.785714</td>\n",
              "      <td>4</td>\n",
              "    </tr>\n",
              "  </tbody>\n",
              "</table>\n",
              "<p>1538 rows × 61 columns</p>\n",
              "</div>\n",
              "      <button class=\"colab-df-convert\" onclick=\"convertToInteractive('df-a049de5e-5929-4d17-a78b-0f64af6bb562')\"\n",
              "              title=\"Convert this dataframe to an interactive table.\"\n",
              "              style=\"display:none;\">\n",
              "        \n",
              "  <svg xmlns=\"http://www.w3.org/2000/svg\" height=\"24px\"viewBox=\"0 0 24 24\"\n",
              "       width=\"24px\">\n",
              "    <path d=\"M0 0h24v24H0V0z\" fill=\"none\"/>\n",
              "    <path d=\"M18.56 5.44l.94 2.06.94-2.06 2.06-.94-2.06-.94-.94-2.06-.94 2.06-2.06.94zm-11 1L8.5 8.5l.94-2.06 2.06-.94-2.06-.94L8.5 2.5l-.94 2.06-2.06.94zm10 10l.94 2.06.94-2.06 2.06-.94-2.06-.94-.94-2.06-.94 2.06-2.06.94z\"/><path d=\"M17.41 7.96l-1.37-1.37c-.4-.4-.92-.59-1.43-.59-.52 0-1.04.2-1.43.59L10.3 9.45l-7.72 7.72c-.78.78-.78 2.05 0 2.83L4 21.41c.39.39.9.59 1.41.59.51 0 1.02-.2 1.41-.59l7.78-7.78 2.81-2.81c.8-.78.8-2.07 0-2.86zM5.41 20L4 18.59l7.72-7.72 1.47 1.35L5.41 20z\"/>\n",
              "  </svg>\n",
              "      </button>\n",
              "      \n",
              "  <style>\n",
              "    .colab-df-container {\n",
              "      display:flex;\n",
              "      flex-wrap:wrap;\n",
              "      gap: 12px;\n",
              "    }\n",
              "\n",
              "    .colab-df-convert {\n",
              "      background-color: #E8F0FE;\n",
              "      border: none;\n",
              "      border-radius: 50%;\n",
              "      cursor: pointer;\n",
              "      display: none;\n",
              "      fill: #1967D2;\n",
              "      height: 32px;\n",
              "      padding: 0 0 0 0;\n",
              "      width: 32px;\n",
              "    }\n",
              "\n",
              "    .colab-df-convert:hover {\n",
              "      background-color: #E2EBFA;\n",
              "      box-shadow: 0px 1px 2px rgba(60, 64, 67, 0.3), 0px 1px 3px 1px rgba(60, 64, 67, 0.15);\n",
              "      fill: #174EA6;\n",
              "    }\n",
              "\n",
              "    [theme=dark] .colab-df-convert {\n",
              "      background-color: #3B4455;\n",
              "      fill: #D2E3FC;\n",
              "    }\n",
              "\n",
              "    [theme=dark] .colab-df-convert:hover {\n",
              "      background-color: #434B5C;\n",
              "      box-shadow: 0px 1px 3px 1px rgba(0, 0, 0, 0.15);\n",
              "      filter: drop-shadow(0px 1px 2px rgba(0, 0, 0, 0.3));\n",
              "      fill: #FFFFFF;\n",
              "    }\n",
              "  </style>\n",
              "\n",
              "      <script>\n",
              "        const buttonEl =\n",
              "          document.querySelector('#df-a049de5e-5929-4d17-a78b-0f64af6bb562 button.colab-df-convert');\n",
              "        buttonEl.style.display =\n",
              "          google.colab.kernel.accessAllowed ? 'block' : 'none';\n",
              "\n",
              "        async function convertToInteractive(key) {\n",
              "          const element = document.querySelector('#df-a049de5e-5929-4d17-a78b-0f64af6bb562');\n",
              "          const dataTable =\n",
              "            await google.colab.kernel.invokeFunction('convertToInteractive',\n",
              "                                                     [key], {});\n",
              "          if (!dataTable) return;\n",
              "\n",
              "          const docLinkHtml = 'Like what you see? Visit the ' +\n",
              "            '<a target=\"_blank\" href=https://colab.research.google.com/notebooks/data_table.ipynb>data table notebook</a>'\n",
              "            + ' to learn more about interactive tables.';\n",
              "          element.innerHTML = '';\n",
              "          dataTable['output_type'] = 'display_data';\n",
              "          await google.colab.output.renderOutput(dataTable, element);\n",
              "          const docLink = document.createElement('div');\n",
              "          docLink.innerHTML = docLinkHtml;\n",
              "          element.appendChild(docLink);\n",
              "        }\n",
              "      </script>\n",
              "    </div>\n",
              "  </div>\n",
              "  "
            ]
          },
          "metadata": {},
          "execution_count": 50
        }
      ],
      "source": [
        "\n",
        "\n",
        "\n",
        "X_train"
      ]
    },
    {
      "cell_type": "code",
      "execution_count": 51,
      "metadata": {
        "colab": {
          "base_uri": "https://localhost:8080/",
          "height": 522
        },
        "id": "UKxODujdkKkP",
        "outputId": "e0b0fb94-09dc-469c-e629-c65390e59824"
      },
      "outputs": [
        {
          "output_type": "execute_result",
          "data": {
            "text/plain": [
              "      PATIENT_VISIT_IDENTIFIER  AGE_ABOVE65  AGE_PERCENTIL  GENDER  \\\n",
              "622                        124            0             30       0   \n",
              "822                        164            1             70       0   \n",
              "669                        133            0             50       0   \n",
              "746                        149            1            100       1   \n",
              "1281                       256            0             40       0   \n",
              "...                        ...          ...            ...     ...   \n",
              "206                         41            1             70       0   \n",
              "1303                       260            0             40       0   \n",
              "221                         44            0             40       0   \n",
              "993                        198            0             10       0   \n",
              "1516                       303            0             40       1   \n",
              "\n",
              "      DISEASE GROUPING 1  DISEASE GROUPING 2  DISEASE GROUPING 3  \\\n",
              "622                  0.0                 0.0                 0.0   \n",
              "822                  0.0                 0.0                 0.0   \n",
              "669                  0.0                 0.0                 0.0   \n",
              "746                  0.0                 0.0                 0.0   \n",
              "1281                 0.0                 0.0                 0.0   \n",
              "...                  ...                 ...                 ...   \n",
              "206                  0.0                 0.0                 0.0   \n",
              "1303                 0.0                 0.0                 0.0   \n",
              "221                  0.0                 0.0                 1.0   \n",
              "993                  0.0                 0.0                 0.0   \n",
              "1516                 0.0                 0.0                 0.0   \n",
              "\n",
              "      DISEASE GROUPING 4  DISEASE GROUPING 5  DISEASE GROUPING 6  ...  \\\n",
              "622                  0.0                 0.0                 0.0  ...   \n",
              "822                  0.0                 0.0                 0.0  ...   \n",
              "669                  0.0                 0.0                 0.0  ...   \n",
              "746                  0.0                 1.0                 0.0  ...   \n",
              "1281                 0.0                 0.0                 0.0  ...   \n",
              "...                  ...                 ...                 ...  ...   \n",
              "206                  0.0                 0.0                 0.0  ...   \n",
              "1303                 0.0                 0.0                 0.0  ...   \n",
              "221                  1.0                 0.0                 0.0  ...   \n",
              "993                  0.0                 0.0                 0.0  ...   \n",
              "1516                 0.0                 0.0                 0.0  ...   \n",
              "\n",
              "      BLOODPRESSURE_SISTOLIC_MAX  HEART_RATE_MAX  RESPIRATORY_RATE_MAX  \\\n",
              "622                    -0.567568       -0.328358             -0.439394   \n",
              "822                    -0.562162       -0.470149             -0.636364   \n",
              "669                    -0.264865       -0.343284             -0.454545   \n",
              "746                     0.064865       -0.231343              0.030303   \n",
              "1281                   -0.275676       -0.432836             -0.515152   \n",
              "...                          ...             ...                   ...   \n",
              "206                    -0.048649       -0.791045             -0.212121   \n",
              "1303                   -0.308108       -0.194030             -0.272727   \n",
              "221                    -0.445045        0.019900             -0.474747   \n",
              "993                    -0.448649       -0.283582             -0.515152   \n",
              "1516                   -0.351351       -0.164179             -0.575758   \n",
              "\n",
              "      TEMPERATURE_MAX  OXYGEN_SATURATION_MAX  BLOODPRESSURE_DIASTOLIC_DIFF  \\\n",
              "622         -0.007246               0.750000                     -0.956522   \n",
              "822         -0.333333               0.763158                     -0.965217   \n",
              "669         -0.043478               0.947368                     -0.426087   \n",
              "746         -0.043478               0.921053                     -0.530435   \n",
              "1281        -0.101449               0.789474                     -1.000000   \n",
              "...               ...                    ...                           ...   \n",
              "206         -0.304348               1.000000                     -0.617391   \n",
              "1303        -0.333333               0.736842                     -1.000000   \n",
              "221          0.275362               0.807018                     -0.756522   \n",
              "993          0.304348               0.684211                     -0.843478   \n",
              "1516         0.057971               0.868421                     -0.521739   \n",
              "\n",
              "      HEART_RATE_DIFF  RESPIRATORY_RATE_DIFF  TEMPERATURE_DIFF  WINDOW  \n",
              "622         -0.935115              -0.897059         -0.958333       6  \n",
              "822         -0.862595              -1.000000         -1.000000       6  \n",
              "669         -0.541985              -0.705882         -0.738095      13  \n",
              "746         -0.587786              -0.382353         -0.607143       4  \n",
              "1281        -1.000000              -1.000000         -1.000000       4  \n",
              "...               ...                    ...               ...     ...  \n",
              "206         -0.908397              -1.000000         -0.666667       4  \n",
              "1303        -1.000000              -1.000000         -1.000000      12  \n",
              "221         -0.730280              -0.882353         -0.730159       4  \n",
              "993         -0.832061              -1.000000         -0.833333      12  \n",
              "1516        -0.740458              -0.911765         -0.666667       4  \n",
              "\n",
              "[385 rows x 61 columns]"
            ],
            "text/html": [
              "\n",
              "  <div id=\"df-91db059b-6933-4142-baf5-9ab8bf06e723\">\n",
              "    <div class=\"colab-df-container\">\n",
              "      <div>\n",
              "<style scoped>\n",
              "    .dataframe tbody tr th:only-of-type {\n",
              "        vertical-align: middle;\n",
              "    }\n",
              "\n",
              "    .dataframe tbody tr th {\n",
              "        vertical-align: top;\n",
              "    }\n",
              "\n",
              "    .dataframe thead th {\n",
              "        text-align: right;\n",
              "    }\n",
              "</style>\n",
              "<table border=\"1\" class=\"dataframe\">\n",
              "  <thead>\n",
              "    <tr style=\"text-align: right;\">\n",
              "      <th></th>\n",
              "      <th>PATIENT_VISIT_IDENTIFIER</th>\n",
              "      <th>AGE_ABOVE65</th>\n",
              "      <th>AGE_PERCENTIL</th>\n",
              "      <th>GENDER</th>\n",
              "      <th>DISEASE GROUPING 1</th>\n",
              "      <th>DISEASE GROUPING 2</th>\n",
              "      <th>DISEASE GROUPING 3</th>\n",
              "      <th>DISEASE GROUPING 4</th>\n",
              "      <th>DISEASE GROUPING 5</th>\n",
              "      <th>DISEASE GROUPING 6</th>\n",
              "      <th>...</th>\n",
              "      <th>BLOODPRESSURE_SISTOLIC_MAX</th>\n",
              "      <th>HEART_RATE_MAX</th>\n",
              "      <th>RESPIRATORY_RATE_MAX</th>\n",
              "      <th>TEMPERATURE_MAX</th>\n",
              "      <th>OXYGEN_SATURATION_MAX</th>\n",
              "      <th>BLOODPRESSURE_DIASTOLIC_DIFF</th>\n",
              "      <th>HEART_RATE_DIFF</th>\n",
              "      <th>RESPIRATORY_RATE_DIFF</th>\n",
              "      <th>TEMPERATURE_DIFF</th>\n",
              "      <th>WINDOW</th>\n",
              "    </tr>\n",
              "  </thead>\n",
              "  <tbody>\n",
              "    <tr>\n",
              "      <th>622</th>\n",
              "      <td>124</td>\n",
              "      <td>0</td>\n",
              "      <td>30</td>\n",
              "      <td>0</td>\n",
              "      <td>0.0</td>\n",
              "      <td>0.0</td>\n",
              "      <td>0.0</td>\n",
              "      <td>0.0</td>\n",
              "      <td>0.0</td>\n",
              "      <td>0.0</td>\n",
              "      <td>...</td>\n",
              "      <td>-0.567568</td>\n",
              "      <td>-0.328358</td>\n",
              "      <td>-0.439394</td>\n",
              "      <td>-0.007246</td>\n",
              "      <td>0.750000</td>\n",
              "      <td>-0.956522</td>\n",
              "      <td>-0.935115</td>\n",
              "      <td>-0.897059</td>\n",
              "      <td>-0.958333</td>\n",
              "      <td>6</td>\n",
              "    </tr>\n",
              "    <tr>\n",
              "      <th>822</th>\n",
              "      <td>164</td>\n",
              "      <td>1</td>\n",
              "      <td>70</td>\n",
              "      <td>0</td>\n",
              "      <td>0.0</td>\n",
              "      <td>0.0</td>\n",
              "      <td>0.0</td>\n",
              "      <td>0.0</td>\n",
              "      <td>0.0</td>\n",
              "      <td>0.0</td>\n",
              "      <td>...</td>\n",
              "      <td>-0.562162</td>\n",
              "      <td>-0.470149</td>\n",
              "      <td>-0.636364</td>\n",
              "      <td>-0.333333</td>\n",
              "      <td>0.763158</td>\n",
              "      <td>-0.965217</td>\n",
              "      <td>-0.862595</td>\n",
              "      <td>-1.000000</td>\n",
              "      <td>-1.000000</td>\n",
              "      <td>6</td>\n",
              "    </tr>\n",
              "    <tr>\n",
              "      <th>669</th>\n",
              "      <td>133</td>\n",
              "      <td>0</td>\n",
              "      <td>50</td>\n",
              "      <td>0</td>\n",
              "      <td>0.0</td>\n",
              "      <td>0.0</td>\n",
              "      <td>0.0</td>\n",
              "      <td>0.0</td>\n",
              "      <td>0.0</td>\n",
              "      <td>0.0</td>\n",
              "      <td>...</td>\n",
              "      <td>-0.264865</td>\n",
              "      <td>-0.343284</td>\n",
              "      <td>-0.454545</td>\n",
              "      <td>-0.043478</td>\n",
              "      <td>0.947368</td>\n",
              "      <td>-0.426087</td>\n",
              "      <td>-0.541985</td>\n",
              "      <td>-0.705882</td>\n",
              "      <td>-0.738095</td>\n",
              "      <td>13</td>\n",
              "    </tr>\n",
              "    <tr>\n",
              "      <th>746</th>\n",
              "      <td>149</td>\n",
              "      <td>1</td>\n",
              "      <td>100</td>\n",
              "      <td>1</td>\n",
              "      <td>0.0</td>\n",
              "      <td>0.0</td>\n",
              "      <td>0.0</td>\n",
              "      <td>0.0</td>\n",
              "      <td>1.0</td>\n",
              "      <td>0.0</td>\n",
              "      <td>...</td>\n",
              "      <td>0.064865</td>\n",
              "      <td>-0.231343</td>\n",
              "      <td>0.030303</td>\n",
              "      <td>-0.043478</td>\n",
              "      <td>0.921053</td>\n",
              "      <td>-0.530435</td>\n",
              "      <td>-0.587786</td>\n",
              "      <td>-0.382353</td>\n",
              "      <td>-0.607143</td>\n",
              "      <td>4</td>\n",
              "    </tr>\n",
              "    <tr>\n",
              "      <th>1281</th>\n",
              "      <td>256</td>\n",
              "      <td>0</td>\n",
              "      <td>40</td>\n",
              "      <td>0</td>\n",
              "      <td>0.0</td>\n",
              "      <td>0.0</td>\n",
              "      <td>0.0</td>\n",
              "      <td>0.0</td>\n",
              "      <td>0.0</td>\n",
              "      <td>0.0</td>\n",
              "      <td>...</td>\n",
              "      <td>-0.275676</td>\n",
              "      <td>-0.432836</td>\n",
              "      <td>-0.515152</td>\n",
              "      <td>-0.101449</td>\n",
              "      <td>0.789474</td>\n",
              "      <td>-1.000000</td>\n",
              "      <td>-1.000000</td>\n",
              "      <td>-1.000000</td>\n",
              "      <td>-1.000000</td>\n",
              "      <td>4</td>\n",
              "    </tr>\n",
              "    <tr>\n",
              "      <th>...</th>\n",
              "      <td>...</td>\n",
              "      <td>...</td>\n",
              "      <td>...</td>\n",
              "      <td>...</td>\n",
              "      <td>...</td>\n",
              "      <td>...</td>\n",
              "      <td>...</td>\n",
              "      <td>...</td>\n",
              "      <td>...</td>\n",
              "      <td>...</td>\n",
              "      <td>...</td>\n",
              "      <td>...</td>\n",
              "      <td>...</td>\n",
              "      <td>...</td>\n",
              "      <td>...</td>\n",
              "      <td>...</td>\n",
              "      <td>...</td>\n",
              "      <td>...</td>\n",
              "      <td>...</td>\n",
              "      <td>...</td>\n",
              "      <td>...</td>\n",
              "    </tr>\n",
              "    <tr>\n",
              "      <th>206</th>\n",
              "      <td>41</td>\n",
              "      <td>1</td>\n",
              "      <td>70</td>\n",
              "      <td>0</td>\n",
              "      <td>0.0</td>\n",
              "      <td>0.0</td>\n",
              "      <td>0.0</td>\n",
              "      <td>0.0</td>\n",
              "      <td>0.0</td>\n",
              "      <td>0.0</td>\n",
              "      <td>...</td>\n",
              "      <td>-0.048649</td>\n",
              "      <td>-0.791045</td>\n",
              "      <td>-0.212121</td>\n",
              "      <td>-0.304348</td>\n",
              "      <td>1.000000</td>\n",
              "      <td>-0.617391</td>\n",
              "      <td>-0.908397</td>\n",
              "      <td>-1.000000</td>\n",
              "      <td>-0.666667</td>\n",
              "      <td>4</td>\n",
              "    </tr>\n",
              "    <tr>\n",
              "      <th>1303</th>\n",
              "      <td>260</td>\n",
              "      <td>0</td>\n",
              "      <td>40</td>\n",
              "      <td>0</td>\n",
              "      <td>0.0</td>\n",
              "      <td>0.0</td>\n",
              "      <td>0.0</td>\n",
              "      <td>0.0</td>\n",
              "      <td>0.0</td>\n",
              "      <td>0.0</td>\n",
              "      <td>...</td>\n",
              "      <td>-0.308108</td>\n",
              "      <td>-0.194030</td>\n",
              "      <td>-0.272727</td>\n",
              "      <td>-0.333333</td>\n",
              "      <td>0.736842</td>\n",
              "      <td>-1.000000</td>\n",
              "      <td>-1.000000</td>\n",
              "      <td>-1.000000</td>\n",
              "      <td>-1.000000</td>\n",
              "      <td>12</td>\n",
              "    </tr>\n",
              "    <tr>\n",
              "      <th>221</th>\n",
              "      <td>44</td>\n",
              "      <td>0</td>\n",
              "      <td>40</td>\n",
              "      <td>0</td>\n",
              "      <td>0.0</td>\n",
              "      <td>0.0</td>\n",
              "      <td>1.0</td>\n",
              "      <td>1.0</td>\n",
              "      <td>0.0</td>\n",
              "      <td>0.0</td>\n",
              "      <td>...</td>\n",
              "      <td>-0.445045</td>\n",
              "      <td>0.019900</td>\n",
              "      <td>-0.474747</td>\n",
              "      <td>0.275362</td>\n",
              "      <td>0.807018</td>\n",
              "      <td>-0.756522</td>\n",
              "      <td>-0.730280</td>\n",
              "      <td>-0.882353</td>\n",
              "      <td>-0.730159</td>\n",
              "      <td>4</td>\n",
              "    </tr>\n",
              "    <tr>\n",
              "      <th>993</th>\n",
              "      <td>198</td>\n",
              "      <td>0</td>\n",
              "      <td>10</td>\n",
              "      <td>0</td>\n",
              "      <td>0.0</td>\n",
              "      <td>0.0</td>\n",
              "      <td>0.0</td>\n",
              "      <td>0.0</td>\n",
              "      <td>0.0</td>\n",
              "      <td>0.0</td>\n",
              "      <td>...</td>\n",
              "      <td>-0.448649</td>\n",
              "      <td>-0.283582</td>\n",
              "      <td>-0.515152</td>\n",
              "      <td>0.304348</td>\n",
              "      <td>0.684211</td>\n",
              "      <td>-0.843478</td>\n",
              "      <td>-0.832061</td>\n",
              "      <td>-1.000000</td>\n",
              "      <td>-0.833333</td>\n",
              "      <td>12</td>\n",
              "    </tr>\n",
              "    <tr>\n",
              "      <th>1516</th>\n",
              "      <td>303</td>\n",
              "      <td>0</td>\n",
              "      <td>40</td>\n",
              "      <td>1</td>\n",
              "      <td>0.0</td>\n",
              "      <td>0.0</td>\n",
              "      <td>0.0</td>\n",
              "      <td>0.0</td>\n",
              "      <td>0.0</td>\n",
              "      <td>0.0</td>\n",
              "      <td>...</td>\n",
              "      <td>-0.351351</td>\n",
              "      <td>-0.164179</td>\n",
              "      <td>-0.575758</td>\n",
              "      <td>0.057971</td>\n",
              "      <td>0.868421</td>\n",
              "      <td>-0.521739</td>\n",
              "      <td>-0.740458</td>\n",
              "      <td>-0.911765</td>\n",
              "      <td>-0.666667</td>\n",
              "      <td>4</td>\n",
              "    </tr>\n",
              "  </tbody>\n",
              "</table>\n",
              "<p>385 rows × 61 columns</p>\n",
              "</div>\n",
              "      <button class=\"colab-df-convert\" onclick=\"convertToInteractive('df-91db059b-6933-4142-baf5-9ab8bf06e723')\"\n",
              "              title=\"Convert this dataframe to an interactive table.\"\n",
              "              style=\"display:none;\">\n",
              "        \n",
              "  <svg xmlns=\"http://www.w3.org/2000/svg\" height=\"24px\"viewBox=\"0 0 24 24\"\n",
              "       width=\"24px\">\n",
              "    <path d=\"M0 0h24v24H0V0z\" fill=\"none\"/>\n",
              "    <path d=\"M18.56 5.44l.94 2.06.94-2.06 2.06-.94-2.06-.94-.94-2.06-.94 2.06-2.06.94zm-11 1L8.5 8.5l.94-2.06 2.06-.94-2.06-.94L8.5 2.5l-.94 2.06-2.06.94zm10 10l.94 2.06.94-2.06 2.06-.94-2.06-.94-.94-2.06-.94 2.06-2.06.94z\"/><path d=\"M17.41 7.96l-1.37-1.37c-.4-.4-.92-.59-1.43-.59-.52 0-1.04.2-1.43.59L10.3 9.45l-7.72 7.72c-.78.78-.78 2.05 0 2.83L4 21.41c.39.39.9.59 1.41.59.51 0 1.02-.2 1.41-.59l7.78-7.78 2.81-2.81c.8-.78.8-2.07 0-2.86zM5.41 20L4 18.59l7.72-7.72 1.47 1.35L5.41 20z\"/>\n",
              "  </svg>\n",
              "      </button>\n",
              "      \n",
              "  <style>\n",
              "    .colab-df-container {\n",
              "      display:flex;\n",
              "      flex-wrap:wrap;\n",
              "      gap: 12px;\n",
              "    }\n",
              "\n",
              "    .colab-df-convert {\n",
              "      background-color: #E8F0FE;\n",
              "      border: none;\n",
              "      border-radius: 50%;\n",
              "      cursor: pointer;\n",
              "      display: none;\n",
              "      fill: #1967D2;\n",
              "      height: 32px;\n",
              "      padding: 0 0 0 0;\n",
              "      width: 32px;\n",
              "    }\n",
              "\n",
              "    .colab-df-convert:hover {\n",
              "      background-color: #E2EBFA;\n",
              "      box-shadow: 0px 1px 2px rgba(60, 64, 67, 0.3), 0px 1px 3px 1px rgba(60, 64, 67, 0.15);\n",
              "      fill: #174EA6;\n",
              "    }\n",
              "\n",
              "    [theme=dark] .colab-df-convert {\n",
              "      background-color: #3B4455;\n",
              "      fill: #D2E3FC;\n",
              "    }\n",
              "\n",
              "    [theme=dark] .colab-df-convert:hover {\n",
              "      background-color: #434B5C;\n",
              "      box-shadow: 0px 1px 3px 1px rgba(0, 0, 0, 0.15);\n",
              "      filter: drop-shadow(0px 1px 2px rgba(0, 0, 0, 0.3));\n",
              "      fill: #FFFFFF;\n",
              "    }\n",
              "  </style>\n",
              "\n",
              "      <script>\n",
              "        const buttonEl =\n",
              "          document.querySelector('#df-91db059b-6933-4142-baf5-9ab8bf06e723 button.colab-df-convert');\n",
              "        buttonEl.style.display =\n",
              "          google.colab.kernel.accessAllowed ? 'block' : 'none';\n",
              "\n",
              "        async function convertToInteractive(key) {\n",
              "          const element = document.querySelector('#df-91db059b-6933-4142-baf5-9ab8bf06e723');\n",
              "          const dataTable =\n",
              "            await google.colab.kernel.invokeFunction('convertToInteractive',\n",
              "                                                     [key], {});\n",
              "          if (!dataTable) return;\n",
              "\n",
              "          const docLinkHtml = 'Like what you see? Visit the ' +\n",
              "            '<a target=\"_blank\" href=https://colab.research.google.com/notebooks/data_table.ipynb>data table notebook</a>'\n",
              "            + ' to learn more about interactive tables.';\n",
              "          element.innerHTML = '';\n",
              "          dataTable['output_type'] = 'display_data';\n",
              "          await google.colab.output.renderOutput(dataTable, element);\n",
              "          const docLink = document.createElement('div');\n",
              "          docLink.innerHTML = docLinkHtml;\n",
              "          element.appendChild(docLink);\n",
              "        }\n",
              "      </script>\n",
              "    </div>\n",
              "  </div>\n",
              "  "
            ]
          },
          "metadata": {},
          "execution_count": 51
        }
      ],
      "source": [
        "X_test"
      ]
    },
    {
      "cell_type": "code",
      "execution_count": 52,
      "metadata": {
        "colab": {
          "base_uri": "https://localhost:8080/"
        },
        "id": "F1Oec3rUGobC",
        "outputId": "c60954b9-9996-437e-a651-0ab5cacb9744"
      },
      "outputs": [
        {
          "output_type": "execute_result",
          "data": {
            "text/plain": [
              "801     0\n",
              "1028    0\n",
              "1889    0\n",
              "825     0\n",
              "567     0\n",
              "       ..\n",
              "837     0\n",
              "1218    1\n",
              "1655    0\n",
              "561     0\n",
              "686     0\n",
              "Name: ICU, Length: 1538, dtype: int64"
            ]
          },
          "metadata": {},
          "execution_count": 52
        }
      ],
      "source": [
        "y_train"
      ]
    },
    {
      "cell_type": "markdown",
      "metadata": {
        "id": "S27F21macVMS"
      },
      "source": [
        "**Feature Scaling**"
      ]
    },
    {
      "cell_type": "code",
      "execution_count": 53,
      "metadata": {
        "id": "reux9F2YaRlx"
      },
      "outputs": [],
      "source": [
        "Standardisation = preprocessing.StandardScaler()\n",
        "xtrain = Standardisation.fit_transform(X_train)\n",
        "xtest = Standardisation.fit_transform(X_test)"
      ]
    },
    {
      "cell_type": "code",
      "execution_count": 54,
      "metadata": {
        "colab": {
          "base_uri": "https://localhost:8080/"
        },
        "id": "XQLsXTy5aYos",
        "outputId": "3e4e1c81-3514-4a3d-e03e-aaa956ca3b12"
      },
      "outputs": [
        {
          "output_type": "execute_result",
          "data": {
            "text/plain": [
              "array([[-0.30044362, -0.93941308, -0.11346623, ..., -0.72974486,\n",
              "        -0.86159472, -0.7837439 ],\n",
              "       [ 0.10806904,  1.06449444,  0.23625534, ..., -0.72974486,\n",
              "        -0.86159472,  1.05165483],\n",
              "       [ 1.66949524, -0.93941308, -1.16263097, ..., -0.17975196,\n",
              "         1.37318624,  1.28107967],\n",
              "       ...,\n",
              "       [ 1.25190451,  1.06449444,  0.58597692, ..., -0.1453774 ,\n",
              "         0.6903365 , -1.24259358],\n",
              "       [-0.73619047, -0.93941308, -0.46318781, ...,  1.74522319,\n",
              "         0.91795308, -0.7837439 ],\n",
              "       [-0.50923899,  1.06449444,  0.9356985 , ...,  0.64523739,\n",
              "        -0.11666774, -0.7837439 ]])"
            ]
          },
          "metadata": {},
          "execution_count": 54
        }
      ],
      "source": [
        "xtrain"
      ]
    },
    {
      "cell_type": "code",
      "execution_count": 55,
      "metadata": {
        "colab": {
          "base_uri": "https://localhost:8080/"
        },
        "id": "AaT4-lTuaZom",
        "outputId": "d9f4d710-0813-4580-e9ab-f71e1f20b720"
      },
      "outputs": [
        {
          "output_type": "execute_result",
          "data": {
            "text/plain": [
              "array([[-0.56506464, -0.92247577, -0.79122325, ..., -0.48640108,\n",
              "        -0.70521719, -0.31005118],\n",
              "       [-0.21529192,  1.08403932,  0.5871521 , ..., -0.73039532,\n",
              "        -0.85230268, -0.31005118],\n",
              "       [-0.48636578, -0.92247577, -0.10203558, ..., -0.03326892,\n",
              "         0.07223471,  1.28763127],\n",
              "       ...,\n",
              "       [-1.26461008, -0.92247577, -0.44662942, ..., -0.45154476,\n",
              "         0.100251  , -0.76653188],\n",
              "       [ 0.08201489, -0.92247577, -1.48041093, ..., -0.73039532,\n",
              "        -0.2639607 ,  1.05939092],\n",
              "       [ 1.00016828, -0.92247577, -0.44662942, ..., -0.5212574 ,\n",
              "         0.32438128, -0.76653188]])"
            ]
          },
          "metadata": {},
          "execution_count": 55
        }
      ],
      "source": [
        "xtest"
      ]
    },
    {
      "cell_type": "markdown",
      "metadata": {
        "id": "PMiDEUh3qKGH"
      },
      "source": [
        "**models**"
      ]
    },
    {
      "cell_type": "markdown",
      "metadata": {
        "id": "1SLRQx5ZlLEp"
      },
      "source": [
        "\n",
        "\n",
        "*Using svc*"
      ]
    },
    {
      "cell_type": "code",
      "execution_count": 56,
      "metadata": {
        "colab": {
          "base_uri": "https://localhost:8080/"
        },
        "id": "AQ6D2kI_fhbX",
        "outputId": "ac064360-2c10-4bfc-fff4-7e9cd4eb4e8d"
      },
      "outputs": [
        {
          "output_type": "stream",
          "name": "stdout",
          "text": [
            "91.42857142857143\n"
          ]
        }
      ],
      "source": [
        "from sklearn import metrics\n",
        "# Building a Support Vector Machine on train data\n",
        "svc_model = SVC()\n",
        "svc_model.fit(xtrain, y_train)\n",
        "  \n",
        "prediction = svc_model .predict(xtest)\n",
        "print(metrics.accuracy_score(y_test,prediction)*100)"
      ]
    },
    {
      "cell_type": "markdown",
      "metadata": {
        "id": "X5PXjeGupfG4"
      },
      "source": [
        "trying to improve accuracy using gridsearch"
      ]
    },
    {
      "cell_type": "code",
      "execution_count": 57,
      "metadata": {
        "colab": {
          "base_uri": "https://localhost:8080/",
          "height": 70
        },
        "id": "SKzf1MEhfpjX",
        "outputId": "f471b410-d0f1-479a-dc51-0586b2e58c11"
      },
      "outputs": [
        {
          "output_type": "execute_result",
          "data": {
            "text/plain": [
              "\"\\n# defining parameter range\\nparam_grid = {'C': [0.1, 1,5, 10,50, 100,500, 1000],\\n              'gamma': [1, 0.1,0.5, 0.01,0.05, 0.001,0.005, 0.0001],\\n              'kernel' : ['rbf','poly','sigmoid']\\n}\\n \\ngrid = GridSearchCV(SVC(), param_grid, refit = True, verbose = 3)\\n# fitting the model for grid search\\ngrid.fit(xtrain, y_train)\""
            ],
            "application/vnd.google.colaboratory.intrinsic+json": {
              "type": "string"
            }
          },
          "metadata": {},
          "execution_count": 57
        }
      ],
      "source": [
        "'''\n",
        "# defining parameter range\n",
        "param_grid = {'C': [0.1, 1,5, 10,50, 100,500, 1000],\n",
        "              'gamma': [1, 0.1,0.5, 0.01,0.05, 0.001,0.005, 0.0001],\n",
        "              'kernel' : ['rbf','poly','sigmoid']\n",
        "}\n",
        " \n",
        "grid = GridSearchCV(SVC(), param_grid, refit = True, verbose = 3)\n",
        "# fitting the model for grid search\n",
        "grid.fit(xtrain, y_train)'''"
      ]
    },
    {
      "cell_type": "code",
      "execution_count": 58,
      "metadata": {
        "colab": {
          "base_uri": "https://localhost:8080/",
          "height": 35
        },
        "id": "RETeOkYDiPnE",
        "outputId": "a758cf36-1e19-4a7a-e53d-623923bcbe0b"
      },
      "outputs": [
        {
          "output_type": "execute_result",
          "data": {
            "text/plain": [
              "'# best parameter after tuning\\nprint(grid.best_params_)\\n \\n# model after hyper-parameter tuning\\nprint(grid.best_estimator_)'"
            ],
            "application/vnd.google.colaboratory.intrinsic+json": {
              "type": "string"
            }
          },
          "metadata": {},
          "execution_count": 58
        }
      ],
      "source": [
        "'''# best parameter after tuning\n",
        "print(grid.best_params_)\n",
        " \n",
        "# model after hyper-parameter tuning\n",
        "print(grid.best_estimator_)'''"
      ]
    },
    {
      "cell_type": "markdown",
      "metadata": {
        "id": "guyYcbd2pmHx"
      },
      "source": [
        "using the best parameters from the above gridsearch result"
      ]
    },
    {
      "cell_type": "code",
      "execution_count": 59,
      "metadata": {
        "colab": {
          "base_uri": "https://localhost:8080/"
        },
        "id": "YXsD_UXoprxA",
        "outputId": "54d60123-537c-4a40-854d-7023333684d0"
      },
      "outputs": [
        {
          "output_type": "stream",
          "name": "stdout",
          "text": [
            "Improved Accuracy is 92.98701298701299\n"
          ]
        }
      ],
      "source": [
        "svc_model = SVC(C = 10,kernel = 'rbf',gamma = 0.01)\n",
        "svc_model.fit(xtrain, y_train)\n",
        "  \n",
        "prediction = svc_model.predict(xtest)\n",
        "print(\"Improved Accuracy is\",svc_model.score(xtest, y_test)*100)"
      ]
    },
    {
      "cell_type": "markdown",
      "metadata": {
        "id": "X26aR0EuuRkP"
      },
      "source": [
        "Decision Tree"
      ]
    },
    {
      "cell_type": "code",
      "execution_count": 60,
      "metadata": {
        "id": "qMnJuWaluT43"
      },
      "outputs": [],
      "source": [
        "model = tree.DecisionTreeClassifier()\n",
        "model = model.fit(xtrain, y_train)"
      ]
    },
    {
      "cell_type": "code",
      "execution_count": 61,
      "metadata": {
        "id": "n1tkWb2ouzvp"
      },
      "outputs": [],
      "source": [
        "predicted_value = model.predict(xtest)"
      ]
    },
    {
      "cell_type": "code",
      "execution_count": 62,
      "metadata": {
        "colab": {
          "base_uri": "https://localhost:8080/"
        },
        "id": "x27YK1Zlu5i4",
        "outputId": "a517b821-393a-4a53-8ce0-601e85012250"
      },
      "outputs": [
        {
          "output_type": "stream",
          "name": "stdout",
          "text": [
            "ACCURACY OF THE MODEL:  80.0\n"
          ]
        }
      ],
      "source": [
        "print(\"ACCURACY OF THE MODEL: \",accuracy_score(y_test, predicted_value)*100)"
      ]
    },
    {
      "cell_type": "code",
      "execution_count": 63,
      "metadata": {
        "id": "A_dzy6xgwS8u"
      },
      "outputs": [],
      "source": [
        "predicted_value = model.predict(xtrain)"
      ]
    },
    {
      "cell_type": "code",
      "execution_count": 64,
      "metadata": {
        "colab": {
          "base_uri": "https://localhost:8080/"
        },
        "id": "kENbG4FmBlbC",
        "outputId": "97579e3d-81a8-4403-9e80-604a71cf0c2c"
      },
      "outputs": [
        {
          "output_type": "stream",
          "name": "stdout",
          "text": [
            "ACCURACY OF THE MODEL:  100.0\n"
          ]
        }
      ],
      "source": [
        "print(\"ACCURACY OF THE MODEL: \",accuracy_score(y_train, predicted_value)*100)"
      ]
    },
    {
      "cell_type": "markdown",
      "metadata": {
        "id": "W4PkSXfExjhX"
      },
      "source": [
        "*Random forest*"
      ]
    },
    {
      "cell_type": "code",
      "execution_count": 65,
      "metadata": {
        "colab": {
          "base_uri": "https://localhost:8080/"
        },
        "id": "53uT0sE-wAmz",
        "outputId": "84c5cd57-a7ec-4542-9cc1-e2dadf0f6d7b"
      },
      "outputs": [
        {
          "output_type": "stream",
          "name": "stdout",
          "text": [
            "ACCURACY OF THE MODEL:  89.0909090909091\n"
          ]
        }
      ],
      "source": [
        "# creating a RF classifier\n",
        "clf = RandomForestClassifier()\n",
        "clf.fit(xtrain, y_train)\n",
        "y_pred = clf.predict(xtest)\n",
        "print(\"ACCURACY OF THE MODEL: \",accuracy_score(y_test, y_pred)*100)"
      ]
    },
    {
      "cell_type": "code",
      "execution_count": 66,
      "metadata": {
        "colab": {
          "base_uri": "https://localhost:8080/",
          "height": 87
        },
        "id": "zL8AW3cqg4Gp",
        "outputId": "67ff464c-f7ea-410e-8da6-c5bb15ce0a74"
      },
      "outputs": [
        {
          "output_type": "execute_result",
          "data": {
            "text/plain": [
              "\"\\nn_estimators = [int(x) for x in np.linspace(start = 200, stop = 2000, num = 10)]\\nmax_features = ['auto', 'sqrt']\\nmax_depth = [int(x) for x in np.linspace(10, 110, num = 11)]\\nmax_depth.append(None)\\nmin_samples_split = [2, 5, 10]\\nmin_samples_leaf = [1, 2, 4]\\nbootstrap = [True, False]\\nrandom_grid = {'n_estimators': n_estimators,\\n               'max_features': max_features,\\n               'max_depth': max_depth,\\n               'min_samples_split': min_samples_split,\\n               'min_samples_leaf': min_samples_leaf,\\n               'bootstrap': bootstrap}\\nprint(random_grid)\""
            ],
            "application/vnd.google.colaboratory.intrinsic+json": {
              "type": "string"
            }
          },
          "metadata": {},
          "execution_count": 66
        }
      ],
      "source": [
        "'''\n",
        "n_estimators = [int(x) for x in np.linspace(start = 200, stop = 2000, num = 10)]\n",
        "max_features = ['auto', 'sqrt']\n",
        "max_depth = [int(x) for x in np.linspace(10, 110, num = 11)]\n",
        "max_depth.append(None)\n",
        "min_samples_split = [2, 5, 10]\n",
        "min_samples_leaf = [1, 2, 4]\n",
        "bootstrap = [True, False]\n",
        "random_grid = {'n_estimators': n_estimators,\n",
        "               'max_features': max_features,\n",
        "               'max_depth': max_depth,\n",
        "               'min_samples_split': min_samples_split,\n",
        "               'min_samples_leaf': min_samples_leaf,\n",
        "               'bootstrap': bootstrap}\n",
        "print(random_grid)'''"
      ]
    },
    {
      "cell_type": "code",
      "execution_count": 67,
      "metadata": {
        "colab": {
          "base_uri": "https://localhost:8080/",
          "height": 52
        },
        "id": "ulLD1wGYhD2r",
        "outputId": "4b4b3452-3e38-42c4-ac97-3392b0f37919"
      },
      "outputs": [
        {
          "output_type": "execute_result",
          "data": {
            "text/plain": [
              "'rf_random = RandomizedSearchCV(estimator = clf, param_distributions = random_grid, n_iter = 100, cv = 3, verbose=2, random_state=42, n_jobs = -1)\\nrf_random.fit(xtrain, y_train)'"
            ],
            "application/vnd.google.colaboratory.intrinsic+json": {
              "type": "string"
            }
          },
          "metadata": {},
          "execution_count": 67
        }
      ],
      "source": [
        "'''rf_random = RandomizedSearchCV(estimator = clf, param_distributions = random_grid, n_iter = 100, cv = 3, verbose=2, random_state=42, n_jobs = -1)\n",
        "rf_random.fit(xtrain, y_train)'''"
      ]
    },
    {
      "cell_type": "code",
      "execution_count": 68,
      "metadata": {
        "colab": {
          "base_uri": "https://localhost:8080/",
          "height": 35
        },
        "id": "17BNAzFIhUtr",
        "outputId": "dc2dcfc0-2a81-497d-8e15-2b549101db75"
      },
      "outputs": [
        {
          "output_type": "execute_result",
          "data": {
            "text/plain": [
              "'print(rf_random.best_estimator_)'"
            ],
            "application/vnd.google.colaboratory.intrinsic+json": {
              "type": "string"
            }
          },
          "metadata": {},
          "execution_count": 68
        }
      ],
      "source": [
        "'''print(rf_random.best_estimator_)'''"
      ]
    },
    {
      "cell_type": "code",
      "execution_count": 69,
      "metadata": {
        "colab": {
          "base_uri": "https://localhost:8080/"
        },
        "id": "Uz4hqGFphcrP",
        "outputId": "2eb25fa6-7a6b-4dc2-a1e0-e3124d983128"
      },
      "outputs": [
        {
          "output_type": "stream",
          "name": "stdout",
          "text": [
            "ACCURACY OF THE MODEL:  90.64935064935065\n"
          ]
        }
      ],
      "source": [
        "\n",
        "clf = RandomForestClassifier(bootstrap=False, max_depth=50, n_estimators=1000)\n",
        "clf.fit(xtrain, y_train)\n",
        "y_pred = clf.predict(xtest)\n",
        "print(\"ACCURACY OF THE MODEL: \",accuracy_score(y_test, y_pred)*100)"
      ]
    },
    {
      "cell_type": "code",
      "execution_count": 70,
      "metadata": {
        "colab": {
          "base_uri": "https://localhost:8080/"
        },
        "id": "EpVrzuECCHTB",
        "outputId": "116345ce-b77d-48ba-fd27-190697ab1985"
      },
      "outputs": [
        {
          "output_type": "stream",
          "name": "stdout",
          "text": [
            "ACCURACY OF THE MODEL:  100.0\n"
          ]
        }
      ],
      "source": [
        "y_pred = clf.predict(xtrain)\n",
        "print(\"ACCURACY OF THE MODEL: \",accuracy_score(y_train, y_pred)*100)"
      ]
    },
    {
      "cell_type": "markdown",
      "metadata": {
        "id": "5dRCadEdaocA"
      },
      "source": [
        "KNN"
      ]
    },
    {
      "cell_type": "code",
      "execution_count": 71,
      "metadata": {
        "colab": {
          "base_uri": "https://localhost:8080/"
        },
        "id": "VwbWPOe5L14w",
        "outputId": "872a15b3-e466-47d1-9090-80de6e10f283"
      },
      "outputs": [
        {
          "output_type": "execute_result",
          "data": {
            "text/plain": [
              "0.8597402597402597"
            ]
          },
          "metadata": {},
          "execution_count": 71
        }
      ],
      "source": [
        "neigh = KNeighborsClassifier(n_neighbors=3)\n",
        "neigh.fit(xtrain,y_train)\n",
        "predictedlabels = neigh.predict(xtest)\n",
        "accuracy_score(y_test, predictedlabels)"
      ]
    },
    {
      "cell_type": "code",
      "execution_count": 72,
      "metadata": {
        "id": "cUeNM9pHcE0b"
      },
      "outputs": [],
      "source": [
        "\n",
        "leaf_size = list(range(1,50))\n",
        "n_neighbors = list(range(1,30))\n",
        "p=[1,2]\n",
        "#convert to dictionary\n",
        "hyperparameters = dict(leaf_size=leaf_size, n_neighbors=n_neighbors, p=p)"
      ]
    },
    {
      "cell_type": "code",
      "execution_count": null,
      "metadata": {
        "id": "HlFj6ySacISu"
      },
      "outputs": [],
      "source": [
        "clf = GridSearchCV(neigh, hyperparameters, cv=10)\n",
        "best_model = clf.fit(xtrain,y_train)"
      ]
    },
    {
      "cell_type": "code",
      "execution_count": null,
      "metadata": {
        "id": "IPAidhPRcO2w"
      },
      "outputs": [],
      "source": [
        "y_pred = best_model.predict(xtest)"
      ]
    },
    {
      "cell_type": "code",
      "execution_count": null,
      "metadata": {
        "id": "aQXeSwLnIGQk"
      },
      "outputs": [],
      "source": [
        "y_pred = best_model.predict(xtrain)"
      ]
    },
    {
      "cell_type": "code",
      "execution_count": null,
      "metadata": {
        "id": "taqNw03HcPbK"
      },
      "outputs": [],
      "source": [
        "print(accuracy_score(y_test, y_pred))"
      ]
    },
    {
      "cell_type": "code",
      "execution_count": null,
      "metadata": {
        "id": "uXvC9vqpIKgE"
      },
      "outputs": [],
      "source": [
        "print(accuracy_score(y_train, y_pred))"
      ]
    },
    {
      "cell_type": "markdown",
      "metadata": {
        "id": "OYZGcxhcoEiT"
      },
      "source": [
        "**Deployment**"
      ]
    },
    {
      "cell_type": "code",
      "execution_count": null,
      "metadata": {
        "id": "ay4w0XbloJnq"
      },
      "outputs": [],
      "source": [
        "df.drop(\"ICU\",axis = 1,inplace = True)"
      ]
    },
    {
      "cell_type": "code",
      "execution_count": null,
      "metadata": {
        "id": "5d63gFV3pCaV"
      },
      "outputs": [],
      "source": [
        "df.index.name = \"index\""
      ]
    },
    {
      "cell_type": "code",
      "execution_count": null,
      "metadata": {
        "id": "Kcz4sxtMsJUW"
      },
      "outputs": [],
      "source": [
        "index = [x for x in range(1,1924)]"
      ]
    },
    {
      "cell_type": "code",
      "execution_count": null,
      "metadata": {
        "id": "qNEH6L9XsM0K"
      },
      "outputs": [],
      "source": [
        "df.index = index"
      ]
    },
    {
      "cell_type": "code",
      "execution_count": null,
      "metadata": {
        "id": "2qKK_OiR00Sk"
      },
      "outputs": [],
      "source": [
        "df"
      ]
    },
    {
      "cell_type": "markdown",
      "metadata": {
        "id": "kFmZBbZ_0svv"
      },
      "source": [
        "pickling the model"
      ]
    },
    {
      "cell_type": "code",
      "execution_count": null,
      "metadata": {
        "id": "8NmZBNiCv9IS"
      },
      "outputs": [],
      "source": [
        "pickle.dump(svc_model,open('csv.sav','wb'))"
      ]
    },
    {
      "cell_type": "code",
      "execution_count": null,
      "metadata": {
        "id": "bQ9bJPJRwMNq"
      },
      "outputs": [],
      "source": [
        "model = pickle.load(open('csv.sav','rb'))"
      ]
    },
    {
      "cell_type": "markdown",
      "metadata": {
        "id": "Gq7BpBxx0vj4"
      },
      "source": [
        "Deployement using gradio"
      ]
    },
    {
      "cell_type": "code",
      "execution_count": null,
      "metadata": {
        "id": "i0l3AXPDo6H3"
      },
      "outputs": [],
      "source": [
        "def predict_res(id):\n",
        "  x = df.loc[id].to_numpy()\n",
        "  a_stand = (x - X_train.mean())/(X_train.std())\n",
        "  if model.predict([a_stand]) == 0:\n",
        "    return \"No bed required\"\n",
        "  elif model.predict([a_stand]) == 1:\n",
        "    return \"Bed required\""
      ]
    },
    {
      "cell_type": "code",
      "execution_count": null,
      "metadata": {
        "id": "PWDNLc2xpTk5"
      },
      "outputs": [],
      "source": [
        "title = \"<u>Prediction of ICU requirement</u>\"\n",
        "description = \"\"\"\n",
        "<center>\n",
        "The bot was trained to predict the requirement of ICU bed for a patient. Give the ID of the patient\n",
        "<img src=\"https://cdn.cnn.com/cnnnext/dam/assets/200513170740-coronavirus-questions-answered-illustration-super-169.jpg\" width=\"600\" height=\"600\">\n",
        "</center>\n",
        "\"\"\""
      ]
    },
    {
      "cell_type": "code",
      "execution_count": null,
      "metadata": {
        "id": "ZSYPio9MtszV"
      },
      "outputs": [],
      "source": [
        "outputs = gr.outputs.Textbox()"
      ]
    },
    {
      "cell_type": "code",
      "execution_count": null,
      "metadata": {
        "id": "8wTDD6Xt57_8"
      },
      "outputs": [],
      "source": [
        "css_code='body{background-image:url(\"https://preview.pixlr.com/images/800wm/1143/1/1143151214.jpg\");}'"
      ]
    },
    {
      "cell_type": "code",
      "execution_count": null,
      "metadata": {
        "id": "3h1biD3Mpdyg"
      },
      "outputs": [],
      "source": [
        "gr.Interface(predict_res, inputs=\"number\", outputs=outputs,title = title,description = description,css = css_code).launch(share = True)"
      ]
    },
    {
      "cell_type": "code",
      "execution_count": null,
      "metadata": {
        "id": "RPU19fMMDZed"
      },
      "outputs": [],
      "source": []
    }
  ],
  "metadata": {
    "colab": {
      "provenance": []
    },
    "kernelspec": {
      "display_name": "Python 3",
      "name": "python3"
    },
    "language_info": {
      "name": "python"
    }
  },
  "nbformat": 4,
  "nbformat_minor": 0
}